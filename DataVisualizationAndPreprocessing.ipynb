{
 "cells": [
  {
   "cell_type": "markdown",
   "id": "fbf1be04",
   "metadata": {},
   "source": [
    "<font color='black' size='5'>To be added:</font>\n",
    "1. Data visualization for default features.\n",
    "1. inferences from that data.\n",
    "1. New features based on those inferences (Partially done).\n",
    "1. Specified preprocessing for the various features."
   ]
  },
  {
   "cell_type": "markdown",
   "id": "c400a55b",
   "metadata": {},
   "source": [
    "List of nbextentions used ([If you're having trouble](https://stackoverflow.com/questions/49647705/jupyter-nbextensions-does-not-appear), answers 2 and 1, in that order, helped me):\n",
    "* Autopep8\n",
    "* ExecuteTime\n",
    "* Initialization cells\n",
    "* Skip-Traceback\n",
    "* spellchecker"
   ]
  },
  {
   "cell_type": "markdown",
   "id": "b9753847",
   "metadata": {},
   "source": [
    "using the nbextention \"Initialization cells\", I first of all save the standard output to the notebook, as it changes with each kernel. <br>\n",
    "The condition makes sure that no matter what happens, as long as I don't go out of my way to screw up, `saved_std` is always the original standard output.  \n",
    "This was done so that I can output the verbose cross-validation grids to the terminal without bogging down this notebook."
   ]
  },
  {
   "cell_type": "code",
   "execution_count": 3,
   "id": "9855d450",
   "metadata": {
    "ExecuteTime": {
     "end_time": "2021-09-18T17:27:21.484844Z",
     "start_time": "2021-09-18T17:27:21.475232Z"
    },
    "init_cell": true,
    "scrolled": true
   },
   "outputs": [
    {
     "data": {
      "text/plain": [
       "<ipykernel.iostream.OutStream at 0x7fb5b1ff9850>"
      ]
     },
     "execution_count": 3,
     "metadata": {},
     "output_type": "execute_result"
    }
   ],
   "source": [
    "import sys\n",
    "\n",
    "if str(type(sys.stdout)) == \"<class 'ipykernel.iostream.OutStream'>\":\n",
    "    saved_std = sys.stdout\n",
    "else:\n",
    "    sys.stdout = saved_std\n",
    "\n",
    "import warnings\n",
    "warnings.filterwarnings('ignore')  # Not sure what this does anymore :(\n",
    "sys.stdout"
   ]
  },
  {
   "cell_type": "code",
   "execution_count": 4,
   "id": "b5f213af",
   "metadata": {
    "ExecuteTime": {
     "end_time": "2021-09-18T17:27:23.576521Z",
     "start_time": "2021-09-18T17:27:21.487525Z"
    },
    "init_cell": true
   },
   "outputs": [],
   "source": [
    "from sklearn.pipeline import Pipeline\n",
    "from sklearn.preprocessing import OneHotEncoder, StandardScaler\n",
    "from sklearn.impute import SimpleImputer\n",
    "from sklearn.compose import ColumnTransformer\n",
    "import pandas as pd\n",
    "import numpy as np\n",
    "import seaborn as sns\n",
    "import matplotlib.pyplot as plt\n",
    "import string\n",
    "import itertools\n",
    "from math import ceil"
   ]
  },
  {
   "cell_type": "code",
   "execution_count": 5,
   "id": "d645b31a",
   "metadata": {
    "ExecuteTime": {
     "end_time": "2021-09-18T17:27:23.671516Z",
     "start_time": "2021-09-18T17:27:23.586422Z"
    },
    "init_cell": true,
    "scrolled": true
   },
   "outputs": [
    {
     "name": "stdout",
     "output_type": "stream",
     "text": [
      "29.69911764705882\n",
      "30.046610169491526\n",
      "\n",
      "Age.describe:\n",
      "count    891.000000\n",
      "mean      29.768148\n",
      "std       14.426518\n",
      "min        0.420000\n",
      "25%       21.000000\n",
      "50%       28.000000\n",
      "75%       38.000000\n",
      "max       80.000000\n",
      "Name: Age, dtype: float64\n"
     ]
    },
    {
     "data": {
      "text/html": [
       "<div>\n",
       "<style scoped>\n",
       "    .dataframe tbody tr th:only-of-type {\n",
       "        vertical-align: middle;\n",
       "    }\n",
       "\n",
       "    .dataframe tbody tr th {\n",
       "        vertical-align: top;\n",
       "    }\n",
       "\n",
       "    .dataframe thead th {\n",
       "        text-align: right;\n",
       "    }\n",
       "</style>\n",
       "<table border=\"1\" class=\"dataframe\">\n",
       "  <thead>\n",
       "    <tr style=\"text-align: right;\">\n",
       "      <th></th>\n",
       "      <th>Survived</th>\n",
       "      <th>Pclass</th>\n",
       "      <th>Name</th>\n",
       "      <th>Sex</th>\n",
       "      <th>Age</th>\n",
       "      <th>SibSp</th>\n",
       "      <th>Parch</th>\n",
       "      <th>Ticket</th>\n",
       "      <th>Fare</th>\n",
       "      <th>Cabin</th>\n",
       "      <th>Embarked</th>\n",
       "    </tr>\n",
       "    <tr>\n",
       "      <th>PassengerId</th>\n",
       "      <th></th>\n",
       "      <th></th>\n",
       "      <th></th>\n",
       "      <th></th>\n",
       "      <th></th>\n",
       "      <th></th>\n",
       "      <th></th>\n",
       "      <th></th>\n",
       "      <th></th>\n",
       "      <th></th>\n",
       "      <th></th>\n",
       "    </tr>\n",
       "  </thead>\n",
       "  <tbody>\n",
       "    <tr>\n",
       "      <th>1</th>\n",
       "      <td>0</td>\n",
       "      <td>3</td>\n",
       "      <td>Braund, Mr. Owen Harris</td>\n",
       "      <td>male</td>\n",
       "      <td>22.0</td>\n",
       "      <td>1</td>\n",
       "      <td>0</td>\n",
       "      <td>A/5 21171</td>\n",
       "      <td>7.2500</td>\n",
       "      <td>Unknown</td>\n",
       "      <td>S</td>\n",
       "    </tr>\n",
       "    <tr>\n",
       "      <th>2</th>\n",
       "      <td>1</td>\n",
       "      <td>1</td>\n",
       "      <td>Cumings, Mrs. John Bradley (Florence Briggs Th...</td>\n",
       "      <td>female</td>\n",
       "      <td>38.0</td>\n",
       "      <td>1</td>\n",
       "      <td>0</td>\n",
       "      <td>PC 17599</td>\n",
       "      <td>71.2833</td>\n",
       "      <td>C85</td>\n",
       "      <td>C</td>\n",
       "    </tr>\n",
       "    <tr>\n",
       "      <th>3</th>\n",
       "      <td>1</td>\n",
       "      <td>3</td>\n",
       "      <td>Heikkinen, Miss. Laina</td>\n",
       "      <td>female</td>\n",
       "      <td>26.0</td>\n",
       "      <td>0</td>\n",
       "      <td>0</td>\n",
       "      <td>STON/O2. 3101282</td>\n",
       "      <td>7.9250</td>\n",
       "      <td>Unknown</td>\n",
       "      <td>S</td>\n",
       "    </tr>\n",
       "    <tr>\n",
       "      <th>4</th>\n",
       "      <td>1</td>\n",
       "      <td>1</td>\n",
       "      <td>Futrelle, Mrs. Jacques Heath (Lily May Peel)</td>\n",
       "      <td>female</td>\n",
       "      <td>35.0</td>\n",
       "      <td>1</td>\n",
       "      <td>0</td>\n",
       "      <td>113803</td>\n",
       "      <td>53.1000</td>\n",
       "      <td>C123</td>\n",
       "      <td>S</td>\n",
       "    </tr>\n",
       "    <tr>\n",
       "      <th>5</th>\n",
       "      <td>0</td>\n",
       "      <td>3</td>\n",
       "      <td>Allen, Mr. William Henry</td>\n",
       "      <td>male</td>\n",
       "      <td>35.0</td>\n",
       "      <td>0</td>\n",
       "      <td>0</td>\n",
       "      <td>373450</td>\n",
       "      <td>8.0500</td>\n",
       "      <td>Unknown</td>\n",
       "      <td>S</td>\n",
       "    </tr>\n",
       "    <tr>\n",
       "      <th>...</th>\n",
       "      <td>...</td>\n",
       "      <td>...</td>\n",
       "      <td>...</td>\n",
       "      <td>...</td>\n",
       "      <td>...</td>\n",
       "      <td>...</td>\n",
       "      <td>...</td>\n",
       "      <td>...</td>\n",
       "      <td>...</td>\n",
       "      <td>...</td>\n",
       "      <td>...</td>\n",
       "    </tr>\n",
       "    <tr>\n",
       "      <th>887</th>\n",
       "      <td>0</td>\n",
       "      <td>2</td>\n",
       "      <td>Montvila, Rev. Juozas</td>\n",
       "      <td>male</td>\n",
       "      <td>27.0</td>\n",
       "      <td>0</td>\n",
       "      <td>0</td>\n",
       "      <td>211536</td>\n",
       "      <td>13.0000</td>\n",
       "      <td>Unknown</td>\n",
       "      <td>S</td>\n",
       "    </tr>\n",
       "    <tr>\n",
       "      <th>888</th>\n",
       "      <td>1</td>\n",
       "      <td>1</td>\n",
       "      <td>Graham, Miss. Margaret Edith</td>\n",
       "      <td>female</td>\n",
       "      <td>19.0</td>\n",
       "      <td>0</td>\n",
       "      <td>0</td>\n",
       "      <td>112053</td>\n",
       "      <td>30.0000</td>\n",
       "      <td>B42</td>\n",
       "      <td>S</td>\n",
       "    </tr>\n",
       "    <tr>\n",
       "      <th>889</th>\n",
       "      <td>0</td>\n",
       "      <td>3</td>\n",
       "      <td>Johnston, Miss. Catherine Helen \"Carrie\"</td>\n",
       "      <td>female</td>\n",
       "      <td>17.0</td>\n",
       "      <td>1</td>\n",
       "      <td>2</td>\n",
       "      <td>W./C. 6607</td>\n",
       "      <td>23.4500</td>\n",
       "      <td>Unknown</td>\n",
       "      <td>S</td>\n",
       "    </tr>\n",
       "    <tr>\n",
       "      <th>890</th>\n",
       "      <td>1</td>\n",
       "      <td>1</td>\n",
       "      <td>Behr, Mr. Karl Howell</td>\n",
       "      <td>male</td>\n",
       "      <td>26.0</td>\n",
       "      <td>0</td>\n",
       "      <td>0</td>\n",
       "      <td>111369</td>\n",
       "      <td>30.0000</td>\n",
       "      <td>C148</td>\n",
       "      <td>C</td>\n",
       "    </tr>\n",
       "    <tr>\n",
       "      <th>891</th>\n",
       "      <td>0</td>\n",
       "      <td>3</td>\n",
       "      <td>Dooley, Mr. Patrick</td>\n",
       "      <td>male</td>\n",
       "      <td>32.0</td>\n",
       "      <td>0</td>\n",
       "      <td>0</td>\n",
       "      <td>370376</td>\n",
       "      <td>7.7500</td>\n",
       "      <td>Unknown</td>\n",
       "      <td>Q</td>\n",
       "    </tr>\n",
       "  </tbody>\n",
       "</table>\n",
       "<p>891 rows × 11 columns</p>\n",
       "</div>"
      ],
      "text/plain": [
       "             Survived  Pclass  \\\n",
       "PassengerId                     \n",
       "1                   0       3   \n",
       "2                   1       1   \n",
       "3                   1       3   \n",
       "4                   1       1   \n",
       "5                   0       3   \n",
       "...               ...     ...   \n",
       "887                 0       2   \n",
       "888                 1       1   \n",
       "889                 0       3   \n",
       "890                 1       1   \n",
       "891                 0       3   \n",
       "\n",
       "                                                          Name     Sex   Age  \\\n",
       "PassengerId                                                                    \n",
       "1                                      Braund, Mr. Owen Harris    male  22.0   \n",
       "2            Cumings, Mrs. John Bradley (Florence Briggs Th...  female  38.0   \n",
       "3                                       Heikkinen, Miss. Laina  female  26.0   \n",
       "4                 Futrelle, Mrs. Jacques Heath (Lily May Peel)  female  35.0   \n",
       "5                                     Allen, Mr. William Henry    male  35.0   \n",
       "...                                                        ...     ...   ...   \n",
       "887                                      Montvila, Rev. Juozas    male  27.0   \n",
       "888                               Graham, Miss. Margaret Edith  female  19.0   \n",
       "889                   Johnston, Miss. Catherine Helen \"Carrie\"  female  17.0   \n",
       "890                                      Behr, Mr. Karl Howell    male  26.0   \n",
       "891                                        Dooley, Mr. Patrick    male  32.0   \n",
       "\n",
       "             SibSp  Parch            Ticket     Fare    Cabin Embarked  \n",
       "PassengerId                                                             \n",
       "1                1      0         A/5 21171   7.2500  Unknown        S  \n",
       "2                1      0          PC 17599  71.2833      C85        C  \n",
       "3                0      0  STON/O2. 3101282   7.9250  Unknown        S  \n",
       "4                1      0            113803  53.1000     C123        S  \n",
       "5                0      0            373450   8.0500  Unknown        S  \n",
       "...            ...    ...               ...      ...      ...      ...  \n",
       "887              0      0            211536  13.0000  Unknown        S  \n",
       "888              0      0            112053  30.0000      B42        S  \n",
       "889              1      2        W./C. 6607  23.4500  Unknown        S  \n",
       "890              0      0            111369  30.0000     C148        C  \n",
       "891              0      0            370376   7.7500  Unknown        Q  \n",
       "\n",
       "[891 rows x 11 columns]"
      ]
     },
     "execution_count": 5,
     "metadata": {},
     "output_type": "execute_result"
    }
   ],
   "source": [
    "df = pd.read_csv('Data/train.csv',\n",
    "                 index_col='PassengerId').fillna(value={'Cabin': 'Unknown'})\n",
    "test = pd.read_csv(\n",
    "    'Data/test.csv', index_col='PassengerId').fillna(value={'Cabin': 'Unknown'})\n",
    "# y = df['Survived']\n",
    "# df.drop(['Survived'],axis=1,inplace=True)\n",
    "\n",
    "# Fill age missing data using age distribution:\n",
    "ageDist = df.Age.dropna().to_list()\n",
    "rng = np.random.default_rng(seed=42)\n",
    "filler = [ageDist[int(np.round(i*len(ageDist)))]\n",
    "          for i in rng.random(df.Age.isna().sum())]\n",
    "print(sum(ageDist)/len(ageDist))  # 29.7\n",
    "print(sum(filler)/len(filler))  # 30.05\n",
    "# Close enough :)\n",
    "df.loc[df.Age.isnull(), 'Age'] = filler\n",
    "print(\"\\nAge.describe:\")\n",
    "print(df.Age.describe())  # Notice the average going up.\n",
    "\n",
    "df"
   ]
  },
  {
   "cell_type": "markdown",
   "id": "9bcee297",
   "metadata": {},
   "source": [
    "Note that only people with a Pclass of 1 have a cabin. Which makes sense since they are the richest."
   ]
  },
  {
   "cell_type": "code",
   "execution_count": 6,
   "id": "7fc625d3",
   "metadata": {},
   "outputs": [
    {
     "data": {
      "text/plain": [
       "Survived    0\n",
       "Pclass      0\n",
       "Name        0\n",
       "Sex         0\n",
       "Age         0\n",
       "SibSp       0\n",
       "Parch       0\n",
       "Ticket      0\n",
       "Fare        0\n",
       "Cabin       0\n",
       "Embarked    2\n",
       "dtype: int64"
      ]
     },
     "execution_count": 6,
     "metadata": {},
     "output_type": "execute_result"
    }
   ],
   "source": [
    "df.isna().sum()\n",
    "# There were 177 missing ages and all Pclass"
   ]
  },
  {
   "cell_type": "markdown",
   "id": "504ad75e",
   "metadata": {},
   "source": [
    "A feature which may be very useful is the person's title, as it contains both gender and economic status.<br>\n",
    "The method by which I find all possible titles and assign each person a title is taken from __[here](https://triangleinequality.wordpress.com/2013/09/08/basic-feature-engineering-with-the-titanic-data/)__."
   ]
  },
  {
   "cell_type": "code",
   "execution_count": 6,
   "id": "7ae16ab3",
   "metadata": {
    "ExecuteTime": {
     "end_time": "2021-09-18T17:27:23.677516Z",
     "start_time": "2021-09-18T17:27:23.672910Z"
    },
    "init_cell": true
   },
   "outputs": [],
   "source": [
    "def substrings_in_string(big_string, substrings):\n",
    "    Sub = None\n",
    "    for substring in substrings:\n",
    "        if big_string.find(substring) != -1:\n",
    "            if Sub == None:\n",
    "                Sub = substring\n",
    "            elif len(Sub) < len(substring):\n",
    "                Sub = substring\n",
    "    if Sub == None:\n",
    "        print(big_string)\n",
    "    return Sub"
   ]
  },
  {
   "cell_type": "code",
   "execution_count": 7,
   "id": "a1390ea1",
   "metadata": {
    "ExecuteTime": {
     "end_time": "2021-09-18T17:27:23.696213Z",
     "start_time": "2021-09-18T17:27:23.683730Z"
    },
    "init_cell": true
   },
   "outputs": [
    {
     "name": "stdout",
     "output_type": "stream",
     "text": [
      "Duff Gordon, Lady. (Lucille Christiana Sutherland) (\"Mrs Morgan\")\n",
      "Duff Gordon, Sir. Cosmo Edmund (\"Mr Morgan\")\n"
     ]
    }
   ],
   "source": [
    "# Titles = ['Mr','Mrs','Miss','Master']\n",
    "\n",
    "# # all other titles must be found and entered by hand\n",
    "# # since there is no pattern to their placement\n",
    "# for Name in df['Name']:\n",
    "#     if substrings_in_string(Name,Titles) == None:\n",
    "#         Title = input(\"Please enter this person's title:\")\n",
    "#         Titles.append(Title)\n",
    "\n",
    "# for Name in test['Name']:\n",
    "#     if substrings_in_string(Name,Titles) == None:\n",
    "#         Title = input(\"Please enter this person's title:\")\n",
    "#         Titles.append(Title)\n",
    "\n",
    "Titles = ['Mr.', 'Mrs.', 'Miss.', 'Master.', 'Don', 'Rev', 'Dr', 'Mme',\n",
    "          'Ms', 'Major', 'Mlle', 'Col', 'Capt', 'Countess', 'Jonkheer']\n",
    "\n",
    "\n",
    "df['Title'] = df['Name'].apply(substrings_in_string, substrings=Titles)\n",
    "test['Title'] = test['Name'].apply(substrings_in_string, substrings=Titles)"
   ]
  },
  {
   "cell_type": "markdown",
   "id": "c91cb6de",
   "metadata": {},
   "source": [
    "The list of titles is quite big and contains many titles that appear with a very low frequency.<br>\n",
    "I'd like to simplify them, the method by which I reduce the number of titles is also taken from __[here](https://triangleinequality.wordpress.com/2013/09/08/basic-feature-engineering-with-the-titanic-data/)__."
   ]
  },
  {
   "cell_type": "code",
   "execution_count": 8,
   "id": "dd982bfb",
   "metadata": {
    "ExecuteTime": {
     "end_time": "2021-09-18T17:27:23.704590Z",
     "start_time": "2021-09-18T17:27:23.699113Z"
    },
    "init_cell": true
   },
   "outputs": [],
   "source": [
    "def replace_titles(x):\n",
    "    title = x['Title']\n",
    "    if title in ['Don', 'Major', 'Capt', 'Jonkheer', 'Rev', 'Col']:\n",
    "        return 'Mr.'\n",
    "    elif title in ['Countess', 'Mme']:\n",
    "        return 'Mrs.'\n",
    "    elif title in ['Mlle', 'Ms']:\n",
    "        return 'Miss'\n",
    "    elif title == 'Dr':\n",
    "        if x['Sex'] == 'Male':\n",
    "            return 'Mr.'\n",
    "        else:\n",
    "            return 'Mrs.'\n",
    "    else:\n",
    "        return title"
   ]
  },
  {
   "cell_type": "code",
   "execution_count": 9,
   "id": "fb9a0aaa",
   "metadata": {
    "ExecuteTime": {
     "end_time": "2021-09-18T17:27:23.741926Z",
     "start_time": "2021-09-18T17:27:23.707343Z"
    },
    "init_cell": true
   },
   "outputs": [],
   "source": [
    "df['Title'] = df.apply(replace_titles, axis=1)\n",
    "test['Title'] = test.apply(replace_titles, axis=1)"
   ]
  },
  {
   "cell_type": "markdown",
   "id": "034ceb69",
   "metadata": {},
   "source": [
    "The deck which a person stayed on may be relevant, as some cabins were closer to the lifeboats.<br>\n",
    "However, this column contains by far the highest percentage of missing data which may hurt the model."
   ]
  },
  {
   "cell_type": "code",
   "execution_count": 10,
   "id": "85411aa9",
   "metadata": {
    "ExecuteTime": {
     "end_time": "2021-09-18T17:27:23.781878Z",
     "start_time": "2021-09-18T17:27:23.745475Z"
    },
    "init_cell": true,
    "scrolled": true
   },
   "outputs": [
    {
     "data": {
      "text/html": [
       "<div>\n",
       "<style scoped>\n",
       "    .dataframe tbody tr th:only-of-type {\n",
       "        vertical-align: middle;\n",
       "    }\n",
       "\n",
       "    .dataframe tbody tr th {\n",
       "        vertical-align: top;\n",
       "    }\n",
       "\n",
       "    .dataframe thead th {\n",
       "        text-align: right;\n",
       "    }\n",
       "</style>\n",
       "<table border=\"1\" class=\"dataframe\">\n",
       "  <thead>\n",
       "    <tr style=\"text-align: right;\">\n",
       "      <th></th>\n",
       "      <th>Survived</th>\n",
       "      <th>Pclass</th>\n",
       "      <th>Name</th>\n",
       "      <th>Sex</th>\n",
       "      <th>Age</th>\n",
       "      <th>SibSp</th>\n",
       "      <th>Parch</th>\n",
       "      <th>Ticket</th>\n",
       "      <th>Fare</th>\n",
       "      <th>Cabin</th>\n",
       "      <th>Embarked</th>\n",
       "      <th>Title</th>\n",
       "      <th>Deck</th>\n",
       "    </tr>\n",
       "    <tr>\n",
       "      <th>PassengerId</th>\n",
       "      <th></th>\n",
       "      <th></th>\n",
       "      <th></th>\n",
       "      <th></th>\n",
       "      <th></th>\n",
       "      <th></th>\n",
       "      <th></th>\n",
       "      <th></th>\n",
       "      <th></th>\n",
       "      <th></th>\n",
       "      <th></th>\n",
       "      <th></th>\n",
       "      <th></th>\n",
       "    </tr>\n",
       "  </thead>\n",
       "  <tbody>\n",
       "    <tr>\n",
       "      <th>1</th>\n",
       "      <td>0</td>\n",
       "      <td>3</td>\n",
       "      <td>Braund, Mr. Owen Harris</td>\n",
       "      <td>male</td>\n",
       "      <td>22.0</td>\n",
       "      <td>1</td>\n",
       "      <td>0</td>\n",
       "      <td>A/5 21171</td>\n",
       "      <td>7.2500</td>\n",
       "      <td>Unknown</td>\n",
       "      <td>S</td>\n",
       "      <td>Mr.</td>\n",
       "      <td>U</td>\n",
       "    </tr>\n",
       "    <tr>\n",
       "      <th>2</th>\n",
       "      <td>1</td>\n",
       "      <td>1</td>\n",
       "      <td>Cumings, Mrs. John Bradley (Florence Briggs Th...</td>\n",
       "      <td>female</td>\n",
       "      <td>38.0</td>\n",
       "      <td>1</td>\n",
       "      <td>0</td>\n",
       "      <td>PC 17599</td>\n",
       "      <td>71.2833</td>\n",
       "      <td>C85</td>\n",
       "      <td>C</td>\n",
       "      <td>Mrs.</td>\n",
       "      <td>C</td>\n",
       "    </tr>\n",
       "    <tr>\n",
       "      <th>3</th>\n",
       "      <td>1</td>\n",
       "      <td>3</td>\n",
       "      <td>Heikkinen, Miss. Laina</td>\n",
       "      <td>female</td>\n",
       "      <td>26.0</td>\n",
       "      <td>0</td>\n",
       "      <td>0</td>\n",
       "      <td>STON/O2. 3101282</td>\n",
       "      <td>7.9250</td>\n",
       "      <td>Unknown</td>\n",
       "      <td>S</td>\n",
       "      <td>Miss.</td>\n",
       "      <td>U</td>\n",
       "    </tr>\n",
       "    <tr>\n",
       "      <th>4</th>\n",
       "      <td>1</td>\n",
       "      <td>1</td>\n",
       "      <td>Futrelle, Mrs. Jacques Heath (Lily May Peel)</td>\n",
       "      <td>female</td>\n",
       "      <td>35.0</td>\n",
       "      <td>1</td>\n",
       "      <td>0</td>\n",
       "      <td>113803</td>\n",
       "      <td>53.1000</td>\n",
       "      <td>C123</td>\n",
       "      <td>S</td>\n",
       "      <td>Mrs.</td>\n",
       "      <td>C</td>\n",
       "    </tr>\n",
       "    <tr>\n",
       "      <th>5</th>\n",
       "      <td>0</td>\n",
       "      <td>3</td>\n",
       "      <td>Allen, Mr. William Henry</td>\n",
       "      <td>male</td>\n",
       "      <td>35.0</td>\n",
       "      <td>0</td>\n",
       "      <td>0</td>\n",
       "      <td>373450</td>\n",
       "      <td>8.0500</td>\n",
       "      <td>Unknown</td>\n",
       "      <td>S</td>\n",
       "      <td>Mr.</td>\n",
       "      <td>U</td>\n",
       "    </tr>\n",
       "    <tr>\n",
       "      <th>...</th>\n",
       "      <td>...</td>\n",
       "      <td>...</td>\n",
       "      <td>...</td>\n",
       "      <td>...</td>\n",
       "      <td>...</td>\n",
       "      <td>...</td>\n",
       "      <td>...</td>\n",
       "      <td>...</td>\n",
       "      <td>...</td>\n",
       "      <td>...</td>\n",
       "      <td>...</td>\n",
       "      <td>...</td>\n",
       "      <td>...</td>\n",
       "    </tr>\n",
       "    <tr>\n",
       "      <th>887</th>\n",
       "      <td>0</td>\n",
       "      <td>2</td>\n",
       "      <td>Montvila, Rev. Juozas</td>\n",
       "      <td>male</td>\n",
       "      <td>27.0</td>\n",
       "      <td>0</td>\n",
       "      <td>0</td>\n",
       "      <td>211536</td>\n",
       "      <td>13.0000</td>\n",
       "      <td>Unknown</td>\n",
       "      <td>S</td>\n",
       "      <td>Mr.</td>\n",
       "      <td>U</td>\n",
       "    </tr>\n",
       "    <tr>\n",
       "      <th>888</th>\n",
       "      <td>1</td>\n",
       "      <td>1</td>\n",
       "      <td>Graham, Miss. Margaret Edith</td>\n",
       "      <td>female</td>\n",
       "      <td>19.0</td>\n",
       "      <td>0</td>\n",
       "      <td>0</td>\n",
       "      <td>112053</td>\n",
       "      <td>30.0000</td>\n",
       "      <td>B42</td>\n",
       "      <td>S</td>\n",
       "      <td>Miss.</td>\n",
       "      <td>B</td>\n",
       "    </tr>\n",
       "    <tr>\n",
       "      <th>889</th>\n",
       "      <td>0</td>\n",
       "      <td>3</td>\n",
       "      <td>Johnston, Miss. Catherine Helen \"Carrie\"</td>\n",
       "      <td>female</td>\n",
       "      <td>17.0</td>\n",
       "      <td>1</td>\n",
       "      <td>2</td>\n",
       "      <td>W./C. 6607</td>\n",
       "      <td>23.4500</td>\n",
       "      <td>Unknown</td>\n",
       "      <td>S</td>\n",
       "      <td>Miss.</td>\n",
       "      <td>U</td>\n",
       "    </tr>\n",
       "    <tr>\n",
       "      <th>890</th>\n",
       "      <td>1</td>\n",
       "      <td>1</td>\n",
       "      <td>Behr, Mr. Karl Howell</td>\n",
       "      <td>male</td>\n",
       "      <td>26.0</td>\n",
       "      <td>0</td>\n",
       "      <td>0</td>\n",
       "      <td>111369</td>\n",
       "      <td>30.0000</td>\n",
       "      <td>C148</td>\n",
       "      <td>C</td>\n",
       "      <td>Mr.</td>\n",
       "      <td>C</td>\n",
       "    </tr>\n",
       "    <tr>\n",
       "      <th>891</th>\n",
       "      <td>0</td>\n",
       "      <td>3</td>\n",
       "      <td>Dooley, Mr. Patrick</td>\n",
       "      <td>male</td>\n",
       "      <td>32.0</td>\n",
       "      <td>0</td>\n",
       "      <td>0</td>\n",
       "      <td>370376</td>\n",
       "      <td>7.7500</td>\n",
       "      <td>Unknown</td>\n",
       "      <td>Q</td>\n",
       "      <td>Mr.</td>\n",
       "      <td>U</td>\n",
       "    </tr>\n",
       "  </tbody>\n",
       "</table>\n",
       "<p>891 rows × 13 columns</p>\n",
       "</div>"
      ],
      "text/plain": [
       "             Survived  Pclass  \\\n",
       "PassengerId                     \n",
       "1                   0       3   \n",
       "2                   1       1   \n",
       "3                   1       3   \n",
       "4                   1       1   \n",
       "5                   0       3   \n",
       "...               ...     ...   \n",
       "887                 0       2   \n",
       "888                 1       1   \n",
       "889                 0       3   \n",
       "890                 1       1   \n",
       "891                 0       3   \n",
       "\n",
       "                                                          Name     Sex   Age  \\\n",
       "PassengerId                                                                    \n",
       "1                                      Braund, Mr. Owen Harris    male  22.0   \n",
       "2            Cumings, Mrs. John Bradley (Florence Briggs Th...  female  38.0   \n",
       "3                                       Heikkinen, Miss. Laina  female  26.0   \n",
       "4                 Futrelle, Mrs. Jacques Heath (Lily May Peel)  female  35.0   \n",
       "5                                     Allen, Mr. William Henry    male  35.0   \n",
       "...                                                        ...     ...   ...   \n",
       "887                                      Montvila, Rev. Juozas    male  27.0   \n",
       "888                               Graham, Miss. Margaret Edith  female  19.0   \n",
       "889                   Johnston, Miss. Catherine Helen \"Carrie\"  female  17.0   \n",
       "890                                      Behr, Mr. Karl Howell    male  26.0   \n",
       "891                                        Dooley, Mr. Patrick    male  32.0   \n",
       "\n",
       "             SibSp  Parch            Ticket     Fare    Cabin Embarked  Title  \\\n",
       "PassengerId                                                                     \n",
       "1                1      0         A/5 21171   7.2500  Unknown        S    Mr.   \n",
       "2                1      0          PC 17599  71.2833      C85        C   Mrs.   \n",
       "3                0      0  STON/O2. 3101282   7.9250  Unknown        S  Miss.   \n",
       "4                1      0            113803  53.1000     C123        S   Mrs.   \n",
       "5                0      0            373450   8.0500  Unknown        S    Mr.   \n",
       "...            ...    ...               ...      ...      ...      ...    ...   \n",
       "887              0      0            211536  13.0000  Unknown        S    Mr.   \n",
       "888              0      0            112053  30.0000      B42        S  Miss.   \n",
       "889              1      2        W./C. 6607  23.4500  Unknown        S  Miss.   \n",
       "890              0      0            111369  30.0000     C148        C    Mr.   \n",
       "891              0      0            370376   7.7500  Unknown        Q    Mr.   \n",
       "\n",
       "            Deck  \n",
       "PassengerId       \n",
       "1              U  \n",
       "2              C  \n",
       "3              U  \n",
       "4              C  \n",
       "5              U  \n",
       "...          ...  \n",
       "887            U  \n",
       "888            B  \n",
       "889            U  \n",
       "890            C  \n",
       "891            U  \n",
       "\n",
       "[891 rows x 13 columns]"
      ]
     },
     "execution_count": 10,
     "metadata": {},
     "output_type": "execute_result"
    }
   ],
   "source": [
    "df['Deck'] = [Cab[0] for Cab in df['Cabin']]\n",
    "test['Deck'] = [Cab[0] for Cab in test['Cabin']]\n",
    "df"
   ]
  },
  {
   "cell_type": "code",
   "execution_count": 11,
   "id": "17fe75a2",
   "metadata": {
    "ExecuteTime": {
     "end_time": "2021-09-18T17:27:23.791252Z",
     "start_time": "2021-09-18T17:27:23.786188Z"
    },
    "init_cell": true
   },
   "outputs": [],
   "source": [
    "def PercentPivot(df, index, columns):\n",
    "    # Assuming index has 2 values\n",
    "    table = df[[index, columns]].pivot_table(\n",
    "        index=index, columns=columns, aggfunc=len).fillna(0)\n",
    "    # Sanity check and benchmark.\n",
    "    table['Sum'] = pd.Series([table.iloc[0, :].sum(), table.iloc[1, :].sum()])\n",
    "    # Unsure how to deal with multiple columns in 'columns'\n",
    "    cols = table.columns.to_list()\n",
    "    pcents = []\n",
    "    for i in range(len(cols)):\n",
    "        pcents.append(table.iloc[1, i]/table.iloc[:, i].sum() * 100)\n",
    "    return pd.concat([table, pd.DataFrame([pcents], columns=cols, index=['%'])])"
   ]
  },
  {
   "cell_type": "code",
   "execution_count": 116,
   "id": "05364c8e",
   "metadata": {
    "scrolled": false
   },
   "outputs": [
    {
     "data": {
      "text/html": [
       "<div>\n",
       "<style scoped>\n",
       "    .dataframe tbody tr th:only-of-type {\n",
       "        vertical-align: middle;\n",
       "    }\n",
       "\n",
       "    .dataframe tbody tr th {\n",
       "        vertical-align: top;\n",
       "    }\n",
       "\n",
       "    .dataframe thead th {\n",
       "        text-align: right;\n",
       "    }\n",
       "</style>\n",
       "<table border=\"1\" class=\"dataframe\">\n",
       "  <thead>\n",
       "    <tr style=\"text-align: right;\">\n",
       "      <th></th>\n",
       "      <th>1</th>\n",
       "      <th>2</th>\n",
       "      <th>3</th>\n",
       "      <th>Sum</th>\n",
       "    </tr>\n",
       "  </thead>\n",
       "  <tbody>\n",
       "    <tr>\n",
       "      <th>0</th>\n",
       "      <td>80.000000</td>\n",
       "      <td>97.000000</td>\n",
       "      <td>372.000000</td>\n",
       "      <td>549.000000</td>\n",
       "    </tr>\n",
       "    <tr>\n",
       "      <th>1</th>\n",
       "      <td>136.000000</td>\n",
       "      <td>87.000000</td>\n",
       "      <td>119.000000</td>\n",
       "      <td>342.000000</td>\n",
       "    </tr>\n",
       "    <tr>\n",
       "      <th>%</th>\n",
       "      <td>62.962963</td>\n",
       "      <td>47.282609</td>\n",
       "      <td>24.236253</td>\n",
       "      <td>38.383838</td>\n",
       "    </tr>\n",
       "  </tbody>\n",
       "</table>\n",
       "</div>"
      ],
      "text/plain": [
       "            1          2           3         Sum\n",
       "0   80.000000  97.000000  372.000000  549.000000\n",
       "1  136.000000  87.000000  119.000000  342.000000\n",
       "%   62.962963  47.282609   24.236253   38.383838"
      ]
     },
     "execution_count": 116,
     "metadata": {},
     "output_type": "execute_result"
    },
    {
     "data": {
      "image/png": "[encoded data removed]",
      "text/plain": [
       "<Figure size 432x288 with 1 Axes>"
      ]
     },
     "metadata": {
      "needs_background": "light"
     },
     "output_type": "display_data"
    }
   ],
   "source": [
    "sns.histplot(data=df, x='Pclass', hue='Survived', multiple='stack')\n",
    "PercentPivot(df, 'Survived', 'Pclass')"
   ]
  },
  {
   "cell_type": "markdown",
   "id": "def745e7",
   "metadata": {},
   "source": [
    "Pclass seems to be a good indicator of survivorship, only needs OHE (or the same encoding but with one less column)."
   ]
  },
  {
   "cell_type": "code",
   "execution_count": 17,
   "id": "24db4c61",
   "metadata": {
    "scrolled": false
   },
   "outputs": [
    {
     "data": {
      "text/html": [
       "<div>\n",
       "<style scoped>\n",
       "    .dataframe tbody tr th:only-of-type {\n",
       "        vertical-align: middle;\n",
       "    }\n",
       "\n",
       "    .dataframe tbody tr th {\n",
       "        vertical-align: top;\n",
       "    }\n",
       "\n",
       "    .dataframe thead th {\n",
       "        text-align: right;\n",
       "    }\n",
       "</style>\n",
       "<table border=\"1\" class=\"dataframe\">\n",
       "  <thead>\n",
       "    <tr style=\"text-align: right;\">\n",
       "      <th></th>\n",
       "      <th>female</th>\n",
       "      <th>male</th>\n",
       "      <th>Sum</th>\n",
       "    </tr>\n",
       "  </thead>\n",
       "  <tbody>\n",
       "    <tr>\n",
       "      <th>0</th>\n",
       "      <td>81.000000</td>\n",
       "      <td>468.000000</td>\n",
       "      <td>549.000000</td>\n",
       "    </tr>\n",
       "    <tr>\n",
       "      <th>1</th>\n",
       "      <td>233.000000</td>\n",
       "      <td>109.000000</td>\n",
       "      <td>342.000000</td>\n",
       "    </tr>\n",
       "    <tr>\n",
       "      <th>%</th>\n",
       "      <td>74.203822</td>\n",
       "      <td>18.890815</td>\n",
       "      <td>38.383838</td>\n",
       "    </tr>\n",
       "  </tbody>\n",
       "</table>\n",
       "</div>"
      ],
      "text/plain": [
       "       female        male         Sum\n",
       "0   81.000000  468.000000  549.000000\n",
       "1  233.000000  109.000000  342.000000\n",
       "%   74.203822   18.890815   38.383838"
      ]
     },
     "execution_count": 17,
     "metadata": {},
     "output_type": "execute_result"
    },
    {
     "data": {
      "image/png": "[encoded data removed]",
      "text/plain": [
       "<Figure size 432x288 with 1 Axes>"
      ]
     },
     "metadata": {
      "needs_background": "light"
     },
     "output_type": "display_data"
    }
   ],
   "source": [
    "sns.histplot(data=df, x='Sex', hue='Survived', multiple='stack')\n",
    "PercentPivot(df, 'Survived', 'Sex')"
   ]
  },
  {
   "cell_type": "markdown",
   "id": "26101b9a",
   "metadata": {},
   "source": [
    "Sex seems to be a very strong indicator of survivorship, all that's left to do is make it binary (ofc, only in this context)."
   ]
  },
  {
   "cell_type": "code",
   "execution_count": 118,
   "id": "8d1d57f3",
   "metadata": {
    "scrolled": true
   },
   "outputs": [
    {
     "data": {
      "text/html": [
       "<div>\n",
       "<style scoped>\n",
       "    .dataframe tbody tr th:only-of-type {\n",
       "        vertical-align: middle;\n",
       "    }\n",
       "\n",
       "    .dataframe tbody tr th {\n",
       "        vertical-align: top;\n",
       "    }\n",
       "\n",
       "    .dataframe thead th {\n",
       "        text-align: right;\n",
       "    }\n",
       "</style>\n",
       "<table border=\"1\" class=\"dataframe\">\n",
       "  <thead>\n",
       "    <tr style=\"text-align: right;\">\n",
       "      <th></th>\n",
       "      <th>0</th>\n",
       "      <th>1</th>\n",
       "      <th>2</th>\n",
       "      <th>3</th>\n",
       "      <th>4</th>\n",
       "      <th>5</th>\n",
       "      <th>8</th>\n",
       "      <th>Sum</th>\n",
       "    </tr>\n",
       "  </thead>\n",
       "  <tbody>\n",
       "    <tr>\n",
       "      <th>0</th>\n",
       "      <td>398.000000</td>\n",
       "      <td>97.000000</td>\n",
       "      <td>15.000000</td>\n",
       "      <td>12.0</td>\n",
       "      <td>15.000000</td>\n",
       "      <td>5.0</td>\n",
       "      <td>7.0</td>\n",
       "      <td>549.000000</td>\n",
       "    </tr>\n",
       "    <tr>\n",
       "      <th>1</th>\n",
       "      <td>210.000000</td>\n",
       "      <td>112.000000</td>\n",
       "      <td>13.000000</td>\n",
       "      <td>4.0</td>\n",
       "      <td>3.000000</td>\n",
       "      <td>0.0</td>\n",
       "      <td>0.0</td>\n",
       "      <td>342.000000</td>\n",
       "    </tr>\n",
       "    <tr>\n",
       "      <th>%</th>\n",
       "      <td>34.539474</td>\n",
       "      <td>53.588517</td>\n",
       "      <td>46.428571</td>\n",
       "      <td>25.0</td>\n",
       "      <td>16.666667</td>\n",
       "      <td>0.0</td>\n",
       "      <td>0.0</td>\n",
       "      <td>38.383838</td>\n",
       "    </tr>\n",
       "  </tbody>\n",
       "</table>\n",
       "</div>"
      ],
      "text/plain": [
       "            0           1          2     3          4    5    8         Sum\n",
       "0  398.000000   97.000000  15.000000  12.0  15.000000  5.0  7.0  549.000000\n",
       "1  210.000000  112.000000  13.000000   4.0   3.000000  0.0  0.0  342.000000\n",
       "%   34.539474   53.588517  46.428571  25.0  16.666667  0.0  0.0   38.383838"
      ]
     },
     "execution_count": 118,
     "metadata": {},
     "output_type": "execute_result"
    },
    {
     "data": {
      "image/png": "[encoded data removed]",
      "text/plain": [
       "<Figure size 432x288 with 1 Axes>"
      ]
     },
     "metadata": {
      "needs_background": "light"
     },
     "output_type": "display_data"
    }
   ],
   "source": [
    "sns.histplot(data=df, x='SibSp', hue='Survived', multiple='stack')\n",
    "PercentPivot(df, 'Survived', 'SibSp')"
   ]
  },
  {
   "cell_type": "markdown",
   "id": "0a8ac989",
   "metadata": {},
   "source": [
    "From this we gather that having 3 or more siblings/spouses(?) on board is likely to negatively affect your chances.  \n",
    "Having 1 or 2 siblings/spouses on board is likely to positively affect your chances.  \n",
    "And not having a spouse or sibling on board may negatively affect your chances slightly.  \n",
    "In my opinion, the binary features \"Has 1 or 2 SibSp\" and \"Has 3 or more SibSp\" are worth exploring."
   ]
  },
  {
   "cell_type": "code",
   "execution_count": 12,
   "id": "6fbac7cc",
   "metadata": {
    "ExecuteTime": {
     "end_time": "2021-09-18T19:19:53.286206Z",
     "start_time": "2021-09-18T19:19:52.980965Z"
    }
   },
   "outputs": [
    {
     "data": {
      "text/html": [
       "<div>\n",
       "<style scoped>\n",
       "    .dataframe tbody tr th:only-of-type {\n",
       "        vertical-align: middle;\n",
       "    }\n",
       "\n",
       "    .dataframe tbody tr th {\n",
       "        vertical-align: top;\n",
       "    }\n",
       "\n",
       "    .dataframe thead th {\n",
       "        text-align: right;\n",
       "    }\n",
       "</style>\n",
       "<table border=\"1\" class=\"dataframe\">\n",
       "  <thead>\n",
       "    <tr style=\"text-align: right;\">\n",
       "      <th></th>\n",
       "      <th>0</th>\n",
       "      <th>1</th>\n",
       "      <th>2</th>\n",
       "      <th>3</th>\n",
       "      <th>4</th>\n",
       "      <th>5</th>\n",
       "      <th>6</th>\n",
       "      <th>Sum</th>\n",
       "    </tr>\n",
       "  </thead>\n",
       "  <tbody>\n",
       "    <tr>\n",
       "      <th>0</th>\n",
       "      <td>445.000000</td>\n",
       "      <td>53.000000</td>\n",
       "      <td>40.0</td>\n",
       "      <td>2.0</td>\n",
       "      <td>4.0</td>\n",
       "      <td>4.0</td>\n",
       "      <td>1.0</td>\n",
       "      <td>549.000000</td>\n",
       "    </tr>\n",
       "    <tr>\n",
       "      <th>1</th>\n",
       "      <td>233.000000</td>\n",
       "      <td>65.000000</td>\n",
       "      <td>40.0</td>\n",
       "      <td>3.0</td>\n",
       "      <td>0.0</td>\n",
       "      <td>1.0</td>\n",
       "      <td>0.0</td>\n",
       "      <td>342.000000</td>\n",
       "    </tr>\n",
       "    <tr>\n",
       "      <th>%</th>\n",
       "      <td>34.365782</td>\n",
       "      <td>55.084746</td>\n",
       "      <td>50.0</td>\n",
       "      <td>60.0</td>\n",
       "      <td>0.0</td>\n",
       "      <td>20.0</td>\n",
       "      <td>0.0</td>\n",
       "      <td>38.383838</td>\n",
       "    </tr>\n",
       "  </tbody>\n",
       "</table>\n",
       "</div>"
      ],
      "text/plain": [
       "            0          1     2     3    4     5    6         Sum\n",
       "0  445.000000  53.000000  40.0   2.0  4.0   4.0  1.0  549.000000\n",
       "1  233.000000  65.000000  40.0   3.0  0.0   1.0  0.0  342.000000\n",
       "%   34.365782  55.084746  50.0  60.0  0.0  20.0  0.0   38.383838"
      ]
     },
     "execution_count": 12,
     "metadata": {},
     "output_type": "execute_result"
    },
    {
     "data": {
      "image/png": "[encoded data removed]",
      "text/plain": [
       "<Figure size 432x288 with 1 Axes>"
      ]
     },
     "metadata": {
      "needs_background": "light"
     },
     "output_type": "display_data"
    }
   ],
   "source": [
    "sns.histplot(data=df, x='Parch', hue='Survived', multiple='stack')\n",
    "PercentPivot(df, 'Survived', 'Parch')"
   ]
  },
  {
   "cell_type": "markdown",
   "id": "aca7ecf3",
   "metadata": {},
   "source": [
    "I think that not having a child or a parent on-board doesn't actually matter.\n",
    "<br>IMO all that 0 conveys is that you are not a child, which decreases your chances of survival.\n",
    "<br>Notice that there's a sort of \"Over-representation of children\" in \"parch\" = 1. A family of 1 mother and 3 children will add 1 passenger with \"parch\" = 3, and 3 children with \"parch\" = 1. A similar thing happens in \"parch\" = 2 to a lesser degree.\n",
    "<br>That's also why having a high \"parch\" means you'll probably die as you are an adult who's caring for a family.\n",
    "<br>The survival rates you see here are merely a result of that \"skew\".\n",
    "<br>The survival rate we should actually look at are of \"Age\" > 19 and \"parch\" > 0."
   ]
  },
  {
   "cell_type": "code",
   "execution_count": null,
   "id": "b3b013b0",
   "metadata": {},
   "outputs": [],
   "source": [
    "# Add \"parch\" > 0 and \"Age\" > 19 stats here."
   ]
  },
  {
   "cell_type": "markdown",
   "id": "2b591f1f",
   "metadata": {},
   "source": []
  },
  {
   "cell_type": "code",
   "execution_count": 7,
   "id": "1cdbfe02",
   "metadata": {
    "scrolled": true
   },
   "outputs": [
    {
     "data": {
      "text/html": [
       "<div>\n",
       "<style scoped>\n",
       "    .dataframe tbody tr th:only-of-type {\n",
       "        vertical-align: middle;\n",
       "    }\n",
       "\n",
       "    .dataframe tbody tr th {\n",
       "        vertical-align: top;\n",
       "    }\n",
       "\n",
       "    .dataframe thead th {\n",
       "        text-align: right;\n",
       "    }\n",
       "</style>\n",
       "<table border=\"1\" class=\"dataframe\">\n",
       "  <thead>\n",
       "    <tr style=\"text-align: right;\">\n",
       "      <th></th>\n",
       "      <th>0-10</th>\n",
       "      <th>11-18</th>\n",
       "      <th>18-21</th>\n",
       "      <th>21-24</th>\n",
       "      <th>24-26</th>\n",
       "      <th>26-29</th>\n",
       "      <th>29-31</th>\n",
       "      <th>31-35</th>\n",
       "      <th>35-39</th>\n",
       "      <th>39-45</th>\n",
       "      <th>45-54</th>\n",
       "      <th>54-80</th>\n",
       "      <th>Sum</th>\n",
       "    </tr>\n",
       "  </thead>\n",
       "  <tbody>\n",
       "    <tr>\n",
       "      <th>0</th>\n",
       "      <td>36.000000</td>\n",
       "      <td>45.000000</td>\n",
       "      <td>55.000000</td>\n",
       "      <td>49.000000</td>\n",
       "      <td>48.000000</td>\n",
       "      <td>47.000000</td>\n",
       "      <td>47.000000</td>\n",
       "      <td>43.000000</td>\n",
       "      <td>48.000000</td>\n",
       "      <td>49.000000</td>\n",
       "      <td>46.000000</td>\n",
       "      <td>36.000000</td>\n",
       "      <td>549.000000</td>\n",
       "    </tr>\n",
       "    <tr>\n",
       "      <th>1</th>\n",
       "      <td>40.000000</td>\n",
       "      <td>31.000000</td>\n",
       "      <td>21.000000</td>\n",
       "      <td>27.000000</td>\n",
       "      <td>28.000000</td>\n",
       "      <td>29.000000</td>\n",
       "      <td>29.000000</td>\n",
       "      <td>33.000000</td>\n",
       "      <td>28.000000</td>\n",
       "      <td>27.000000</td>\n",
       "      <td>30.000000</td>\n",
       "      <td>19.000000</td>\n",
       "      <td>342.000000</td>\n",
       "    </tr>\n",
       "    <tr>\n",
       "      <th>%</th>\n",
       "      <td>52.631579</td>\n",
       "      <td>40.789474</td>\n",
       "      <td>27.631579</td>\n",
       "      <td>35.526316</td>\n",
       "      <td>36.842105</td>\n",
       "      <td>38.157895</td>\n",
       "      <td>38.157895</td>\n",
       "      <td>43.421053</td>\n",
       "      <td>36.842105</td>\n",
       "      <td>35.526316</td>\n",
       "      <td>39.473684</td>\n",
       "      <td>34.545455</td>\n",
       "      <td>38.383838</td>\n",
       "    </tr>\n",
       "  </tbody>\n",
       "</table>\n",
       "</div>"
      ],
      "text/plain": [
       "        0-10      11-18      18-21      21-24      24-26      26-29  \\\n",
       "0  36.000000  45.000000  55.000000  49.000000  48.000000  47.000000   \n",
       "1  40.000000  31.000000  21.000000  27.000000  28.000000  29.000000   \n",
       "%  52.631579  40.789474  27.631579  35.526316  36.842105  38.157895   \n",
       "\n",
       "       29-31      31-35      35-39      39-45      45-54      54-80  \\\n",
       "0  47.000000  43.000000  48.000000  49.000000  46.000000  36.000000   \n",
       "1  29.000000  33.000000  28.000000  27.000000  30.000000  19.000000   \n",
       "%  38.157895  43.421053  36.842105  35.526316  39.473684  34.545455   \n",
       "\n",
       "          Sum  \n",
       "0  549.000000  \n",
       "1  342.000000  \n",
       "%   38.383838  "
      ]
     },
     "execution_count": 7,
     "metadata": {},
     "output_type": "execute_result"
    },
    {
     "data": {
      "image/png": "[encoded data removed]",
      "text/plain": [
       "<Figure size 432x288 with 1 Axes>"
      ]
     },
     "metadata": {
      "needs_background": "light"
     },
     "output_type": "display_data"
    }
   ],
   "source": [
    "sns.histplot(data=df, x='Age', hue='Survived', multiple='stack')\n",
    "\n",
    "boundry = 10\n",
    "binSize = (df.loc[df.Age <= boundry, 'Age'].size)\n",
    "\n",
    "# Sort by age and then bin\n",
    "sortAge = df.loc[:, ['Age', 'Survived']].sort_values(by=['Age'])\n",
    "temp = sortAge.iloc[0:binSize, :]\n",
    "pivotAge = pd.DataFrame(data=[binSize - temp.Survived.sum(), temp.Survived.sum()],\n",
    "                        index=[0, 1], columns=[f'0-{int(round(boundry))}'])\n",
    "for i in range(1, df.Age.size//binSize):\n",
    "    temp = sortAge.iloc[i*binSize:(i+1)*binSize, :]\n",
    "    low = int(round(sortAge.iloc[i*binSize, 0]))\n",
    "    high = int(round(sortAge.iloc[(i+1)*binSize-1, 0]))\n",
    "    pivotAge[f'{low}-{high}'] = [binSize -\n",
    "                                 temp.Survived.sum(), temp.Survived.sum()]\n",
    "\n",
    "temp = sortAge.iloc[(df.Age.size//binSize)*binSize:, :]\n",
    "if not temp.empty:\n",
    "    low = int(round(sortAge.iloc[(df.Age.size//binSize)*binSize, 0]))\n",
    "    high = int(round(sortAge.iloc[-1, 0]))\n",
    "    pivotAge[f'{low}-{high}'] = [temp.size/2 -\n",
    "                                 temp.Survived.sum(), temp.Survived.sum()]\n",
    "\n",
    "pivotAge['Sum'] = pd.Series(\n",
    "    [pivotAge.iloc[0, :].sum(), pivotAge.iloc[1, :].sum()])\n",
    "cols = pivotAge.columns.to_list()\n",
    "pcents = []\n",
    "for i in range(len(cols)):\n",
    "    pcents.append(pivotAge.iloc[1, i]/pivotAge.iloc[:, i].sum() * 100)\n",
    "pivotAge = pd.concat([pivotAge, pd.DataFrame(\n",
    "    [pcents], columns=cols, index=['%'])])\n",
    "pivotAge"
   ]
  },
  {
   "cell_type": "markdown",
   "id": "73a247cb",
   "metadata": {},
   "source": [
    "Children have a high chance of surviving as children and women were rescued first.  \n",
    "Teens probably preferential treatment.  \n",
    "Young adults were left behind as they were the fittest.  \n",
    "I am unsure why the 31-35 group survived more often. Maybe got 'unlucky' with filling in the missing data. \n",
    "Older folk have a lower chance of surviving, as expected."
   ]
  },
  {
   "cell_type": "code",
   "execution_count": 25,
   "id": "964a93b8",
   "metadata": {
    "scrolled": true
   },
   "outputs": [
    {
     "data": {
      "text/html": [
       "<div>\n",
       "<style scoped>\n",
       "    .dataframe tbody tr th:only-of-type {\n",
       "        vertical-align: middle;\n",
       "    }\n",
       "\n",
       "    .dataframe tbody tr th {\n",
       "        vertical-align: top;\n",
       "    }\n",
       "\n",
       "    .dataframe thead th {\n",
       "        text-align: right;\n",
       "    }\n",
       "</style>\n",
       "<table border=\"1\" class=\"dataframe\">\n",
       "  <thead>\n",
       "    <tr style=\"text-align: right;\">\n",
       "      <th></th>\n",
       "      <th>0-10</th>\n",
       "      <th>10-30</th>\n",
       "      <th>30-100</th>\n",
       "      <th>100+</th>\n",
       "      <th>Sum</th>\n",
       "    </tr>\n",
       "  </thead>\n",
       "  <tbody>\n",
       "    <tr>\n",
       "      <th>0</th>\n",
       "      <td>269.000000</td>\n",
       "      <td>182.000000</td>\n",
       "      <td>84.00000</td>\n",
       "      <td>14.000000</td>\n",
       "      <td>549.000000</td>\n",
       "    </tr>\n",
       "    <tr>\n",
       "      <th>1</th>\n",
       "      <td>67.000000</td>\n",
       "      <td>139.000000</td>\n",
       "      <td>97.00000</td>\n",
       "      <td>39.000000</td>\n",
       "      <td>342.000000</td>\n",
       "    </tr>\n",
       "    <tr>\n",
       "      <th>%</th>\n",
       "      <td>19.940476</td>\n",
       "      <td>43.302181</td>\n",
       "      <td>53.59116</td>\n",
       "      <td>73.584906</td>\n",
       "      <td>38.383838</td>\n",
       "    </tr>\n",
       "  </tbody>\n",
       "</table>\n",
       "</div>"
      ],
      "text/plain": [
       "         0-10       10-30    30-100       100+         Sum\n",
       "0  269.000000  182.000000  84.00000  14.000000  549.000000\n",
       "1   67.000000  139.000000  97.00000  39.000000  342.000000\n",
       "%   19.940476   43.302181  53.59116  73.584906   38.383838"
      ]
     },
     "execution_count": 25,
     "metadata": {},
     "output_type": "execute_result"
    },
    {
     "data": {
      "image/png": "[encoded data removed]",
      "text/plain": [
       "<Figure size 432x288 with 1 Axes>"
      ]
     },
     "metadata": {
      "needs_background": "light"
     },
     "output_type": "display_data"
    }
   ],
   "source": [
    "sns.histplot(data=df, x='Fare', hue='Survived', multiple='stack')\n",
    "\n",
    "# I'll decide the ranges:\n",
    "# 0-10\n",
    "# 10-30\n",
    "# 30-100\n",
    "# 100+\n",
    "\n",
    "col_1 = [df.loc[df.Fare <= 10, 'Survived'].size - df.loc[df.Fare <= 10, 'Survived'].sum(),\n",
    "         df.loc[df.Fare <= 10, 'Survived'].sum()]\n",
    "col_2 = [df.loc[df.Fare.between(10, 30, inclusive='right'), 'Survived'].size - df.loc[df.Fare.between(10, 30, inclusive='right'), 'Survived'].sum(),\n",
    "         df.loc[df.Fare.between(10, 30, inclusive='right'), 'Survived'].sum()]\n",
    "col_3 = [df.loc[df.Fare.between(30, 100, inclusive='right'), 'Survived'].size - df.loc[df.Fare.between(30, 100, inclusive='right'), 'Survived'].sum(),\n",
    "         df.loc[df.Fare.between(30, 100, inclusive='right'), 'Survived'].sum()]\n",
    "col_4 = [df.loc[100 < df.Fare, 'Survived'].size - df.loc[100 < df.Fare, 'Survived'].sum(),\n",
    "         df.loc[100 < df.Fare, 'Survived'].sum()]\n",
    "fareData = np.array([col_1, col_2, col_3, col_4]).T\n",
    "pivotFare = pd.DataFrame(fareData, index=[0, 1], columns=[\n",
    "                         '0-10', '10-30', '30-100', '100+'])\n",
    "\n",
    "pivotFare['Sum'] = pd.Series(\n",
    "    [pivotFare.iloc[0, :].sum(), pivotFare.iloc[1, :].sum()])\n",
    "cols = pivotFare.columns.to_list()\n",
    "pcents = []\n",
    "for i in range(len(cols)):\n",
    "    pcents.append(pivotFare.iloc[1, i]/pivotFare.iloc[:, i].sum() * 100)\n",
    "\n",
    "pivotFare = pd.concat(\n",
    "    [pivotFare, pd.DataFrame([pcents], columns=cols, index=['%'])])\n",
    "\n",
    "pivotFare"
   ]
  },
  {
   "cell_type": "markdown",
   "id": "483d8b57",
   "metadata": {},
   "source": [
    "As fares go up so do survival rates.  \n",
    "From the 10-30 range you already have a higher chance of surviving, and at 100+ you are much more likely to survive."
   ]
  },
  {
   "cell_type": "code",
   "execution_count": 121,
   "id": "d4e0a461",
   "metadata": {
    "scrolled": true
   },
   "outputs": [
    {
     "data": {
      "text/html": [
       "<div>\n",
       "<style scoped>\n",
       "    .dataframe tbody tr th:only-of-type {\n",
       "        vertical-align: middle;\n",
       "    }\n",
       "\n",
       "    .dataframe tbody tr th {\n",
       "        vertical-align: top;\n",
       "    }\n",
       "\n",
       "    .dataframe thead th {\n",
       "        text-align: right;\n",
       "    }\n",
       "</style>\n",
       "<table border=\"1\" class=\"dataframe\">\n",
       "  <thead>\n",
       "    <tr style=\"text-align: right;\">\n",
       "      <th></th>\n",
       "      <th>C</th>\n",
       "      <th>Q</th>\n",
       "      <th>S</th>\n",
       "      <th>Sum</th>\n",
       "    </tr>\n",
       "  </thead>\n",
       "  <tbody>\n",
       "    <tr>\n",
       "      <th>0</th>\n",
       "      <td>75.000000</td>\n",
       "      <td>47.000000</td>\n",
       "      <td>427.000000</td>\n",
       "      <td>549.000000</td>\n",
       "    </tr>\n",
       "    <tr>\n",
       "      <th>1</th>\n",
       "      <td>93.000000</td>\n",
       "      <td>30.000000</td>\n",
       "      <td>217.000000</td>\n",
       "      <td>340.000000</td>\n",
       "    </tr>\n",
       "    <tr>\n",
       "      <th>%</th>\n",
       "      <td>55.357143</td>\n",
       "      <td>38.961039</td>\n",
       "      <td>33.695652</td>\n",
       "      <td>38.245219</td>\n",
       "    </tr>\n",
       "  </tbody>\n",
       "</table>\n",
       "</div>"
      ],
      "text/plain": [
       "           C          Q           S         Sum\n",
       "0  75.000000  47.000000  427.000000  549.000000\n",
       "1  93.000000  30.000000  217.000000  340.000000\n",
       "%  55.357143  38.961039   33.695652   38.245219"
      ]
     },
     "execution_count": 121,
     "metadata": {},
     "output_type": "execute_result"
    },
    {
     "data": {
      "image/png": "[encoded data removed]",
      "text/plain": [
       "<Figure size 432x288 with 1 Axes>"
      ]
     },
     "metadata": {
      "needs_background": "light"
     },
     "output_type": "display_data"
    }
   ],
   "source": [
    "sns.histplot(data=df, x='Embarked', hue='Survived', multiple='stack')\n",
    "# Notice the 'Sum' column, it shows there are 2 missing survivors.\n",
    "PercentPivot(df, 'Survived', 'Embarked')"
   ]
  },
  {
   "cell_type": "markdown",
   "id": "2f627469",
   "metadata": {},
   "source": [
    "The 2 missing values are not catastrophic here and won't change the probabilities by a considerable amount.  \n",
    "\n",
    "Departing from port Q seems to have little to no effect on survivorship.  \n",
    "As a matter of fact, that's somewhat surprising, I wonder if this is to do with rich/poor distributions, young/old or female/male (I doubt it).  \n",
    "Of course it may be that the distribution perfectly mirrors that of the ship.  \n",
    "\n",
    "Departing from S seems to negatively affect survivorship. I'd guess that town is poorer.  \n",
    "\n",
    "Departing from C seem to positively affect survivorship. I'd guess that town is more wealthy."
   ]
  },
  {
   "cell_type": "code",
   "execution_count": 22,
   "id": "9272b8d5",
   "metadata": {
    "scrolled": true
   },
   "outputs": [
    {
     "data": {
      "text/html": [
       "<div>\n",
       "<style scoped>\n",
       "    .dataframe tbody tr th:only-of-type {\n",
       "        vertical-align: middle;\n",
       "    }\n",
       "\n",
       "    .dataframe tbody tr th {\n",
       "        vertical-align: top;\n",
       "    }\n",
       "\n",
       "    .dataframe thead th {\n",
       "        text-align: right;\n",
       "    }\n",
       "</style>\n",
       "<table border=\"1\" class=\"dataframe\">\n",
       "  <thead>\n",
       "    <tr style=\"text-align: right;\">\n",
       "      <th></th>\n",
       "      <th>Master</th>\n",
       "      <th>Miss</th>\n",
       "      <th>Mr.</th>\n",
       "      <th>Mrs.</th>\n",
       "      <th>Sum</th>\n",
       "    </tr>\n",
       "  </thead>\n",
       "  <tbody>\n",
       "    <tr>\n",
       "      <th>0</th>\n",
       "      <td>17.0</td>\n",
       "      <td>55.00000</td>\n",
       "      <td>447.000000</td>\n",
       "      <td>30.00000</td>\n",
       "      <td>549.000000</td>\n",
       "    </tr>\n",
       "    <tr>\n",
       "      <th>1</th>\n",
       "      <td>23.0</td>\n",
       "      <td>130.00000</td>\n",
       "      <td>83.000000</td>\n",
       "      <td>104.00000</td>\n",
       "      <td>340.000000</td>\n",
       "    </tr>\n",
       "    <tr>\n",
       "      <th>%</th>\n",
       "      <td>57.5</td>\n",
       "      <td>70.27027</td>\n",
       "      <td>15.660377</td>\n",
       "      <td>77.61194</td>\n",
       "      <td>38.245219</td>\n",
       "    </tr>\n",
       "  </tbody>\n",
       "</table>\n",
       "</div>"
      ],
      "text/plain": [
       "   Master       Miss         Mr.       Mrs.         Sum\n",
       "0    17.0   55.00000  447.000000   30.00000  549.000000\n",
       "1    23.0  130.00000   83.000000  104.00000  340.000000\n",
       "%    57.5   70.27027   15.660377   77.61194   38.245219"
      ]
     },
     "execution_count": 22,
     "metadata": {},
     "output_type": "execute_result"
    },
    {
     "data": {
      "image/png": "[encoded data removed]",
      "text/plain": [
       "<Figure size 432x288 with 1 Axes>"
      ]
     },
     "metadata": {
      "needs_background": "light"
     },
     "output_type": "display_data"
    }
   ],
   "source": [
    "sns.histplot(data=df, x='Title', hue='Survived', multiple='stack')\n",
    "PercentPivot(df, 'Survived', 'Title')"
   ]
  },
  {
   "cell_type": "markdown",
   "id": "aaf04945",
   "metadata": {},
   "source": [
    "Seems that a \"Mrs.\" is more likely to survive than a \"Miss\". Perhaps because a \"Mrs.\" has a husband who will fight for her or because she is more likely to have a child and be rescued with him.  \n",
    "\"Master\" addresses a young man, children were rescued first and so \"Master\"s survived more often."
   ]
  },
  {
   "cell_type": "code",
   "execution_count": 123,
   "id": "f000bb87",
   "metadata": {
    "scrolled": false
   },
   "outputs": [
    {
     "data": {
      "text/html": [
       "<div>\n",
       "<style scoped>\n",
       "    .dataframe tbody tr th:only-of-type {\n",
       "        vertical-align: middle;\n",
       "    }\n",
       "\n",
       "    .dataframe tbody tr th {\n",
       "        vertical-align: top;\n",
       "    }\n",
       "\n",
       "    .dataframe thead th {\n",
       "        text-align: right;\n",
       "    }\n",
       "</style>\n",
       "<table border=\"1\" class=\"dataframe\">\n",
       "  <thead>\n",
       "    <tr style=\"text-align: right;\">\n",
       "      <th></th>\n",
       "      <th>A</th>\n",
       "      <th>B</th>\n",
       "      <th>C</th>\n",
       "      <th>D</th>\n",
       "      <th>E</th>\n",
       "      <th>F</th>\n",
       "      <th>G</th>\n",
       "      <th>T</th>\n",
       "      <th>U</th>\n",
       "      <th>Sum</th>\n",
       "    </tr>\n",
       "  </thead>\n",
       "  <tbody>\n",
       "    <tr>\n",
       "      <th>0</th>\n",
       "      <td>8.000000</td>\n",
       "      <td>12.000000</td>\n",
       "      <td>24.000000</td>\n",
       "      <td>8.000000</td>\n",
       "      <td>8.0</td>\n",
       "      <td>5.000000</td>\n",
       "      <td>2.0</td>\n",
       "      <td>1.0</td>\n",
       "      <td>481.000000</td>\n",
       "      <td>549.000000</td>\n",
       "    </tr>\n",
       "    <tr>\n",
       "      <th>1</th>\n",
       "      <td>7.000000</td>\n",
       "      <td>35.000000</td>\n",
       "      <td>35.000000</td>\n",
       "      <td>25.000000</td>\n",
       "      <td>24.0</td>\n",
       "      <td>8.000000</td>\n",
       "      <td>2.0</td>\n",
       "      <td>0.0</td>\n",
       "      <td>206.000000</td>\n",
       "      <td>342.000000</td>\n",
       "    </tr>\n",
       "    <tr>\n",
       "      <th>%</th>\n",
       "      <td>46.666667</td>\n",
       "      <td>74.468085</td>\n",
       "      <td>59.322034</td>\n",
       "      <td>75.757576</td>\n",
       "      <td>75.0</td>\n",
       "      <td>61.538462</td>\n",
       "      <td>50.0</td>\n",
       "      <td>0.0</td>\n",
       "      <td>29.985444</td>\n",
       "      <td>38.383838</td>\n",
       "    </tr>\n",
       "  </tbody>\n",
       "</table>\n",
       "</div>"
      ],
      "text/plain": [
       "           A          B          C          D     E          F     G    T  \\\n",
       "0   8.000000  12.000000  24.000000   8.000000   8.0   5.000000   2.0  1.0   \n",
       "1   7.000000  35.000000  35.000000  25.000000  24.0   8.000000   2.0  0.0   \n",
       "%  46.666667  74.468085  59.322034  75.757576  75.0  61.538462  50.0  0.0   \n",
       "\n",
       "            U         Sum  \n",
       "0  481.000000  549.000000  \n",
       "1  206.000000  342.000000  \n",
       "%   29.985444   38.383838  "
      ]
     },
     "execution_count": 123,
     "metadata": {},
     "output_type": "execute_result"
    },
    {
     "data": {
      "image/png": "[encoded data removed]",
      "text/plain": [
       "<Figure size 432x288 with 1 Axes>"
      ]
     },
     "metadata": {
      "needs_background": "light"
     },
     "output_type": "display_data"
    }
   ],
   "source": [
    "sns.histplot(data=df, x='Deck', hue='Survived', multiple='stack')\n",
    "PercentPivot(df, 'Survived', 'Deck')"
   ]
  },
  {
   "cell_type": "markdown",
   "id": "e3cda208",
   "metadata": {},
   "source": [
    "<font size=4>These cabin statistics are quite interesting.  \n",
    "    Let's have a look at the [physical layout](https://en.wikipedia.org/wiki/First-class_facilities_of_the_Titanic) of the decks:</font> \n",
    "![title](Data/Olympic_&_Titanic_cutaway_diagram.png)\n",
    "<br>I'll stay reserved in my analysis and say there's no difference between cabin decks, and that the differences we see are caused merely by a small dataset.\n",
    "<br>I'd expect the lower decks to know of the crash sooner but have a harder time getting to the lifeboats, so it might cancel out.\n",
    "<br>Since I'm uncertain whether the decks do have an effect or not, I'll add a \"Has a cabin\" feature, a OHE of the cabin data, and a \"Upper Decks\", \"Lower Decks\" feature and see which is the most important."
   ]
  },
  {
   "cell_type": "markdown",
   "id": "ce04cd76",
   "metadata": {},
   "source": [
    "Port analysis:"
   ]
  },
  {
   "cell_type": "code",
   "execution_count": null,
   "id": "e0ab049d",
   "metadata": {},
   "outputs": [],
   "source": [
    "queensdale"
   ]
  },
  {
   "cell_type": "markdown",
   "id": "93ab1448",
   "metadata": {},
   "source": [
    "### Major takeaways and features to add:"
   ]
  },
  {
   "cell_type": "code",
   "execution_count": null,
   "id": "00055e9f",
   "metadata": {},
   "outputs": [],
   "source": []
  },
  {
   "cell_type": "markdown",
   "id": "6d2d535f",
   "metadata": {},
   "source": [
    "We'll handle different data types differently in our preprocessing.<br>\n",
    "The pipelines help adding other transformers later and keeping things consistent.<br>\n",
    "The binary columns don't need an imputer since they don't have any missing data in both datasets."
   ]
  },
  {
   "cell_type": "code",
   "execution_count": null,
   "id": "3b2d64e7",
   "metadata": {
    "ExecuteTime": {
     "end_time": "2021-09-18T17:25:40.988163Z",
     "start_time": "2021-09-18T17:25:40.988141Z"
    }
   },
   "outputs": [],
   "source": [
    "Numerical_Pre = make_pipeline(SimpleImputer(strategy='mean'))\n",
    "OneHot_Pre = make_pipeline(SimpleImputer(strategy='most_frequent'),OneHotEncoder(handle_unknown = 'ignore'))\n",
    "\n",
    "Col_Num = ['Age','Fare','SibSp','Parch']\n",
    "Col_OHE = ['Sex','Deck','Title','Embarked','Pclass']\n",
    "\n",
    "\n",
    "Preprocess = ColumnTransformer([('Col_OHE', OneHot_Pre, Col_OHE),\n",
    "                                ('Col_Num', Numerical_Pre, Col_Num)\n",
    "                                ])"
   ]
  },
  {
   "cell_type": "code",
   "execution_count": null,
   "id": "edc9eee2",
   "metadata": {
    "ExecuteTime": {
     "end_time": "2021-09-18T17:25:40.990653Z",
     "start_time": "2021-09-18T17:25:40.990636Z"
    },
    "scrolled": false
   },
   "outputs": [],
   "source": [
    "PreProOHE = [sorted([str(Col) + \"_\" + str(i) for i in df[Col].unique() if str(i) != 'nan']) for Col in Col_OHE]\n",
    "Cols = PreProOHE + Col_Num\n",
    "Cols"
   ]
  }
 ],
 "metadata": {
  "celltoolbar": "Initialization Cell",
  "kernelspec": {
   "display_name": "Python 3 (ipykernel)",
   "language": "python",
   "name": "python3"
  },
  "language_info": {
   "codemirror_mode": {
    "name": "ipython",
    "version": 3
   },
   "file_extension": ".py",
   "mimetype": "text/x-python",
   "name": "python",
   "nbconvert_exporter": "python",
   "pygments_lexer": "ipython3",
   "version": "3.8.10"
  },
  "varInspector": {
   "cols": {
    "lenName": 16,
    "lenType": 16,
    "lenVar": 40
   },
   "kernels_config": {
    "python": {
     "delete_cmd_postfix": "",
     "delete_cmd_prefix": "del ",
     "library": "var_list.py",
     "varRefreshCmd": "print(var_dic_list())"
    },
    "r": {
     "delete_cmd_postfix": ") ",
     "delete_cmd_prefix": "rm(",
     "library": "var_list.r",
     "varRefreshCmd": "cat(var_dic_list()) "
    }
   },
   "types_to_exclude": [
    "module",
    "function",
    "builtin_function_or_method",
    "instance",
    "_Feature"
   ],
   "window_display": false
  }
 },
 "nbformat": 4,
 "nbformat_minor": 5
}
