{
 "cells": [
  {
   "cell_type": "markdown",
   "id": "0eb1824a",
   "metadata": {},
   "source": [
    "<font color='black' size='5'>To be added:</font>\n",
    "1. Data visualization for default features.\n",
    "1. inferences from that data.\n",
    "1. New features based on those inferences (Partially done).\n",
    "1. Specified preprocessing for the various features."
   ]
  },
  {
   "cell_type": "markdown",
   "id": "4d18ae5c",
   "metadata": {},
   "source": [
    "using the nbextention \"Initialization cells\", I first of all save the standard output to the notebook, as it changes with each kernel. <br>\n",
    "The condition makes sure that no matter what happens, as long as I don't go out of my way to screw up, `saved_std` is always the original standard output.  \n",
    "This was done so that I can output the verbose cross-validation grids to the terminal without bogging down this notebook."
   ]
  },
  {
   "cell_type": "code",
   "execution_count": 8,
   "id": "a45c06f4",
   "metadata": {
    "init_cell": true,
    "scrolled": true
   },
   "outputs": [
    {
     "data": {
      "text/plain": [
       "<ipykernel.iostream.OutStream at 0x7f12a7311d90>"
      ]
     },
     "execution_count": 8,
     "metadata": {},
     "output_type": "execute_result"
    }
   ],
   "source": [
    "import sys\n",
    "\n",
    "if str(type(sys.stdout)) == \"<class 'ipykernel.iostream.OutStream'>\":\n",
    "    saved_std = sys.stdout\n",
    "else:\n",
    "    sys.stdout = saved_std\n",
    "\n",
    "import warnings\n",
    "warnings.filterwarnings('ignore') ## Not sure what this does anymore :(\n",
    "sys.stdout"
   ]
  },
  {
   "cell_type": "code",
   "execution_count": null,
   "id": "0527e504",
   "metadata": {},
   "outputs": [],
   "source": [
    "from sklearn.pipeline import Pipeline\n",
    "from sklearn.preprocessing import OneHotEncoder, StandardScaler\n",
    "from sklearn.impute import SimpleImputer\n",
    "from sklearn.compose import ColumnTransformer\n",
    "import pandas as pd\n",
    "import numpy as np\n",
    "import seaborn as sns\n",
    "import matplotlib.pyplot as plt\n",
    "import string\n",
    "import itertools\n",
    "from math import ceil"
   ]
  },
  {
   "cell_type": "code",
   "execution_count": 5,
   "id": "e825c38f",
   "metadata": {
    "init_cell": true
   },
   "outputs": [
    {
     "name": "stdout",
     "output_type": "stream",
     "text": [
      "These are kept here for now. This used to be both the modeling and preprocessing notebook.\n"
     ]
    }
   ],
   "source": [
    "'''\n",
    "from sklearn.ensemble import (RandomForestClassifier, GradientBoostingClassifier,\n",
    "                              AdaBoostClassifier,ExtraTreesClassifier, VotingClassifier)\n",
    "from xgboost import XGBClassifier\n",
    "from sklearn.svm import SVC\n",
    "from sklearn.linear_model import LogisticRegression\n",
    "from sklearn.neighbors import KNeighborsClassifier\n",
    "from sklearn.model_selection import GridSearchCV,RandomizedSearchCV,cross_val_score\n",
    "from sklearn import metrics\n",
    "from scipy.stats import uniform\n",
    "'''\n",
    "\n",
    "print(\"These are kept here for now. This used to be both the modeling and preprocessing notebook.\")"
   ]
  },
  {
   "cell_type": "code",
   "execution_count": 259,
   "id": "913dc90f",
   "metadata": {
    "init_cell": true,
    "scrolled": true
   },
   "outputs": [
    {
     "data": {
      "text/html": [
       "<div>\n",
       "<style scoped>\n",
       "    .dataframe tbody tr th:only-of-type {\n",
       "        vertical-align: middle;\n",
       "    }\n",
       "\n",
       "    .dataframe tbody tr th {\n",
       "        vertical-align: top;\n",
       "    }\n",
       "\n",
       "    .dataframe thead th {\n",
       "        text-align: right;\n",
       "    }\n",
       "</style>\n",
       "<table border=\"1\" class=\"dataframe\">\n",
       "  <thead>\n",
       "    <tr style=\"text-align: right;\">\n",
       "      <th></th>\n",
       "      <th>Pclass</th>\n",
       "      <th>Name</th>\n",
       "      <th>Sex</th>\n",
       "      <th>Age</th>\n",
       "      <th>SibSp</th>\n",
       "      <th>Parch</th>\n",
       "      <th>Ticket</th>\n",
       "      <th>Fare</th>\n",
       "      <th>Cabin</th>\n",
       "      <th>Embarked</th>\n",
       "    </tr>\n",
       "    <tr>\n",
       "      <th>PassengerId</th>\n",
       "      <th></th>\n",
       "      <th></th>\n",
       "      <th></th>\n",
       "      <th></th>\n",
       "      <th></th>\n",
       "      <th></th>\n",
       "      <th></th>\n",
       "      <th></th>\n",
       "      <th></th>\n",
       "      <th></th>\n",
       "    </tr>\n",
       "  </thead>\n",
       "  <tbody>\n",
       "    <tr>\n",
       "      <th>1</th>\n",
       "      <td>3</td>\n",
       "      <td>Braund, Mr. Owen Harris</td>\n",
       "      <td>male</td>\n",
       "      <td>22.0</td>\n",
       "      <td>1</td>\n",
       "      <td>0</td>\n",
       "      <td>A/5 21171</td>\n",
       "      <td>7.2500</td>\n",
       "      <td>Unknown</td>\n",
       "      <td>S</td>\n",
       "    </tr>\n",
       "    <tr>\n",
       "      <th>2</th>\n",
       "      <td>1</td>\n",
       "      <td>Cumings, Mrs. John Bradley (Florence Briggs Th...</td>\n",
       "      <td>female</td>\n",
       "      <td>38.0</td>\n",
       "      <td>1</td>\n",
       "      <td>0</td>\n",
       "      <td>PC 17599</td>\n",
       "      <td>71.2833</td>\n",
       "      <td>C85</td>\n",
       "      <td>C</td>\n",
       "    </tr>\n",
       "    <tr>\n",
       "      <th>3</th>\n",
       "      <td>3</td>\n",
       "      <td>Heikkinen, Miss. Laina</td>\n",
       "      <td>female</td>\n",
       "      <td>26.0</td>\n",
       "      <td>0</td>\n",
       "      <td>0</td>\n",
       "      <td>STON/O2. 3101282</td>\n",
       "      <td>7.9250</td>\n",
       "      <td>Unknown</td>\n",
       "      <td>S</td>\n",
       "    </tr>\n",
       "    <tr>\n",
       "      <th>4</th>\n",
       "      <td>1</td>\n",
       "      <td>Futrelle, Mrs. Jacques Heath (Lily May Peel)</td>\n",
       "      <td>female</td>\n",
       "      <td>35.0</td>\n",
       "      <td>1</td>\n",
       "      <td>0</td>\n",
       "      <td>113803</td>\n",
       "      <td>53.1000</td>\n",
       "      <td>C123</td>\n",
       "      <td>S</td>\n",
       "    </tr>\n",
       "    <tr>\n",
       "      <th>5</th>\n",
       "      <td>3</td>\n",
       "      <td>Allen, Mr. William Henry</td>\n",
       "      <td>male</td>\n",
       "      <td>35.0</td>\n",
       "      <td>0</td>\n",
       "      <td>0</td>\n",
       "      <td>373450</td>\n",
       "      <td>8.0500</td>\n",
       "      <td>Unknown</td>\n",
       "      <td>S</td>\n",
       "    </tr>\n",
       "    <tr>\n",
       "      <th>...</th>\n",
       "      <td>...</td>\n",
       "      <td>...</td>\n",
       "      <td>...</td>\n",
       "      <td>...</td>\n",
       "      <td>...</td>\n",
       "      <td>...</td>\n",
       "      <td>...</td>\n",
       "      <td>...</td>\n",
       "      <td>...</td>\n",
       "      <td>...</td>\n",
       "    </tr>\n",
       "    <tr>\n",
       "      <th>887</th>\n",
       "      <td>2</td>\n",
       "      <td>Montvila, Rev. Juozas</td>\n",
       "      <td>male</td>\n",
       "      <td>27.0</td>\n",
       "      <td>0</td>\n",
       "      <td>0</td>\n",
       "      <td>211536</td>\n",
       "      <td>13.0000</td>\n",
       "      <td>Unknown</td>\n",
       "      <td>S</td>\n",
       "    </tr>\n",
       "    <tr>\n",
       "      <th>888</th>\n",
       "      <td>1</td>\n",
       "      <td>Graham, Miss. Margaret Edith</td>\n",
       "      <td>female</td>\n",
       "      <td>19.0</td>\n",
       "      <td>0</td>\n",
       "      <td>0</td>\n",
       "      <td>112053</td>\n",
       "      <td>30.0000</td>\n",
       "      <td>B42</td>\n",
       "      <td>S</td>\n",
       "    </tr>\n",
       "    <tr>\n",
       "      <th>889</th>\n",
       "      <td>3</td>\n",
       "      <td>Johnston, Miss. Catherine Helen \"Carrie\"</td>\n",
       "      <td>female</td>\n",
       "      <td>NaN</td>\n",
       "      <td>1</td>\n",
       "      <td>2</td>\n",
       "      <td>W./C. 6607</td>\n",
       "      <td>23.4500</td>\n",
       "      <td>Unknown</td>\n",
       "      <td>S</td>\n",
       "    </tr>\n",
       "    <tr>\n",
       "      <th>890</th>\n",
       "      <td>1</td>\n",
       "      <td>Behr, Mr. Karl Howell</td>\n",
       "      <td>male</td>\n",
       "      <td>26.0</td>\n",
       "      <td>0</td>\n",
       "      <td>0</td>\n",
       "      <td>111369</td>\n",
       "      <td>30.0000</td>\n",
       "      <td>C148</td>\n",
       "      <td>C</td>\n",
       "    </tr>\n",
       "    <tr>\n",
       "      <th>891</th>\n",
       "      <td>3</td>\n",
       "      <td>Dooley, Mr. Patrick</td>\n",
       "      <td>male</td>\n",
       "      <td>32.0</td>\n",
       "      <td>0</td>\n",
       "      <td>0</td>\n",
       "      <td>370376</td>\n",
       "      <td>7.7500</td>\n",
       "      <td>Unknown</td>\n",
       "      <td>Q</td>\n",
       "    </tr>\n",
       "  </tbody>\n",
       "</table>\n",
       "<p>891 rows × 10 columns</p>\n",
       "</div>"
      ],
      "text/plain": [
       "             Pclass                                               Name  \\\n",
       "PassengerId                                                              \n",
       "1                 3                            Braund, Mr. Owen Harris   \n",
       "2                 1  Cumings, Mrs. John Bradley (Florence Briggs Th...   \n",
       "3                 3                             Heikkinen, Miss. Laina   \n",
       "4                 1       Futrelle, Mrs. Jacques Heath (Lily May Peel)   \n",
       "5                 3                           Allen, Mr. William Henry   \n",
       "...             ...                                                ...   \n",
       "887               2                              Montvila, Rev. Juozas   \n",
       "888               1                       Graham, Miss. Margaret Edith   \n",
       "889               3           Johnston, Miss. Catherine Helen \"Carrie\"   \n",
       "890               1                              Behr, Mr. Karl Howell   \n",
       "891               3                                Dooley, Mr. Patrick   \n",
       "\n",
       "                Sex   Age  SibSp  Parch            Ticket     Fare    Cabin  \\\n",
       "PassengerId                                                                   \n",
       "1              male  22.0      1      0         A/5 21171   7.2500  Unknown   \n",
       "2            female  38.0      1      0          PC 17599  71.2833      C85   \n",
       "3            female  26.0      0      0  STON/O2. 3101282   7.9250  Unknown   \n",
       "4            female  35.0      1      0            113803  53.1000     C123   \n",
       "5              male  35.0      0      0            373450   8.0500  Unknown   \n",
       "...             ...   ...    ...    ...               ...      ...      ...   \n",
       "887            male  27.0      0      0            211536  13.0000  Unknown   \n",
       "888          female  19.0      0      0            112053  30.0000      B42   \n",
       "889          female   NaN      1      2        W./C. 6607  23.4500  Unknown   \n",
       "890            male  26.0      0      0            111369  30.0000     C148   \n",
       "891            male  32.0      0      0            370376   7.7500  Unknown   \n",
       "\n",
       "            Embarked  \n",
       "PassengerId           \n",
       "1                  S  \n",
       "2                  C  \n",
       "3                  S  \n",
       "4                  S  \n",
       "5                  S  \n",
       "...              ...  \n",
       "887                S  \n",
       "888                S  \n",
       "889                S  \n",
       "890                C  \n",
       "891                Q  \n",
       "\n",
       "[891 rows x 10 columns]"
      ]
     },
     "execution_count": 259,
     "metadata": {},
     "output_type": "execute_result"
    }
   ],
   "source": [
    "df = pd.read_csv('train.csv', index_col='PassengerId').fillna(value={'Cabin':'Unknown'})\n",
    "test = pd.read_csv('test.csv', index_col='PassengerId').fillna(value={'Cabin':'Unknown'})\n",
    "y = df['Survived']\n",
    "df.drop(['Survived'],axis=1,inplace=True)\n",
    "df"
   ]
  },
  {
   "cell_type": "markdown",
   "id": "19b4d4b4",
   "metadata": {},
   "source": [
    "Note that only people with a Pclass of 1 have a cabin. Which makes sense since they are the richest."
   ]
  },
  {
   "cell_type": "markdown",
   "id": "1997e55d",
   "metadata": {},
   "source": [
    "As shown in this __[forum dicussion](https://www.kaggle.com/c/titanic/discussion/57447)__ the surname contains a lot of information. <br>While it may not generalize, it never hurts to try :)."
   ]
  },
  {
   "cell_type": "code",
   "execution_count": 260,
   "id": "56f7e0de",
   "metadata": {
    "init_cell": true
   },
   "outputs": [
    {
     "data": {
      "text/plain": [
       "667"
      ]
     },
     "execution_count": 260,
     "metadata": {},
     "output_type": "execute_result"
    }
   ],
   "source": [
    "df['Surname'] =  [Name.split(',')[0] for Name in df['Name']]\n",
    "test['Surname'] =  [Name.split(',')[0] for Name in test['Name']]\n",
    "len(df['Surname'].unique())"
   ]
  },
  {
   "cell_type": "markdown",
   "id": "2eba4dd3",
   "metadata": {},
   "source": [
    "There are many unique surnames and so, instead of the usual OneHot encoding, I'll be using the Binary encoding (Same thing goes for tickets).  \n",
    "\n",
    "<font color='red' size='6'>May Change</font>"
   ]
  },
  {
   "cell_type": "markdown",
   "id": "a5bba42f",
   "metadata": {},
   "source": [
    "Another feature which may be very useful is the person's title, as it contains both gender and economic status.<br>\n",
    "The method by which I find all possible titles and assign each person a title is taken from __[here](https://triangleinequality.wordpress.com/2013/09/08/basic-feature-engineering-with-the-titanic-data/)__."
   ]
  },
  {
   "cell_type": "code",
   "execution_count": 261,
   "id": "e02c087b",
   "metadata": {
    "init_cell": true
   },
   "outputs": [],
   "source": [
    "def substrings_in_string(big_string, substrings):\n",
    "    for substring in substrings:\n",
    "        if big_string.find(substring) != -1:\n",
    "            return substring\n",
    "    print(big_string)\n",
    "    return None"
   ]
  },
  {
   "cell_type": "code",
   "execution_count": 262,
   "id": "9818b845",
   "metadata": {
    "init_cell": true
   },
   "outputs": [],
   "source": [
    "# Titles = ['Mr','Mrs','Miss','Master'] \n",
    "\n",
    "# # all other titles must be found and entered by hand\n",
    "# # since there is no pattern to their placement\n",
    "# for Name in df['Name']:\n",
    "#     if substrings_in_string(Name,Titles) == None:\n",
    "#         Title = input(\"Please enter this person's title:\")\n",
    "#         Titles.append(Title)\n",
    "\n",
    "# for Name in test['Name']:\n",
    "#     if substrings_in_string(Name,Titles) == None:\n",
    "#         Title = input(\"Please enter this person's title:\")\n",
    "#         Titles.append(Title)\n",
    "\n",
    "Titles = ['Mr', 'Mrs', 'Miss', 'Master', 'Don', 'Rev', 'Dr', 'Mme',\n",
    "          'Ms', 'Major', 'Mlle', 'Col', 'Capt', 'Countess', 'Jonkheer']\n",
    "\n",
    "\n",
    "df['Title'] = df['Name'].apply(substrings_in_string, substrings=Titles)\n",
    "test['Title'] = test['Name'].apply(substrings_in_string, substrings=Titles)"
   ]
  },
  {
   "cell_type": "markdown",
   "id": "5f81d964",
   "metadata": {},
   "source": [
    "The list of titles is quite big and contains many titles that appear with a very low frequency.<br>\n",
    "I'd like to simplify them, the method by which I reduce the number of titles is also taken from __[here](https://triangleinequality.wordpress.com/2013/09/08/basic-feature-engineering-with-the-titanic-data/)__."
   ]
  },
  {
   "cell_type": "code",
   "execution_count": 263,
   "id": "1de9ef5d",
   "metadata": {
    "init_cell": true
   },
   "outputs": [],
   "source": [
    "def replace_titles(x):\n",
    "    title=x['Title']\n",
    "    if title in ['Don', 'Major', 'Capt', 'Jonkheer', 'Rev', 'Col']:\n",
    "        return 'Mr'\n",
    "    elif title in ['Countess', 'Mme']:\n",
    "        return 'Mrs'\n",
    "    elif title in ['Mlle', 'Ms']:\n",
    "        return 'Miss'\n",
    "    elif title =='Dr':\n",
    "        if x['Sex']=='Male':\n",
    "            return 'Mr'\n",
    "        else:\n",
    "            return 'Mrs'\n",
    "    else:\n",
    "        return title"
   ]
  },
  {
   "cell_type": "code",
   "execution_count": 264,
   "id": "96cac799",
   "metadata": {
    "init_cell": true
   },
   "outputs": [],
   "source": [
    "df['Title'] = df.apply(replace_titles, axis=1)\n",
    "test['Title'] = test.apply(replace_titles, axis=1)"
   ]
  },
  {
   "cell_type": "markdown",
   "id": "6546d356",
   "metadata": {},
   "source": [
    "The deck which a person stayed on may be relevant, as some cabins were closer to the lifeboats.<br>\n",
    "However, this column contains by far the highest percentage of missing data which may hurt the model or not affect it at all."
   ]
  },
  {
   "cell_type": "code",
   "execution_count": 265,
   "id": "a794c323",
   "metadata": {
    "init_cell": true
   },
   "outputs": [
    {
     "data": {
      "text/html": [
       "<div>\n",
       "<style scoped>\n",
       "    .dataframe tbody tr th:only-of-type {\n",
       "        vertical-align: middle;\n",
       "    }\n",
       "\n",
       "    .dataframe tbody tr th {\n",
       "        vertical-align: top;\n",
       "    }\n",
       "\n",
       "    .dataframe thead th {\n",
       "        text-align: right;\n",
       "    }\n",
       "</style>\n",
       "<table border=\"1\" class=\"dataframe\">\n",
       "  <thead>\n",
       "    <tr style=\"text-align: right;\">\n",
       "      <th></th>\n",
       "      <th>Pclass</th>\n",
       "      <th>Name</th>\n",
       "      <th>Sex</th>\n",
       "      <th>Age</th>\n",
       "      <th>SibSp</th>\n",
       "      <th>Parch</th>\n",
       "      <th>Ticket</th>\n",
       "      <th>Fare</th>\n",
       "      <th>Cabin</th>\n",
       "      <th>Embarked</th>\n",
       "      <th>Surname</th>\n",
       "      <th>Title</th>\n",
       "      <th>Deck</th>\n",
       "    </tr>\n",
       "    <tr>\n",
       "      <th>PassengerId</th>\n",
       "      <th></th>\n",
       "      <th></th>\n",
       "      <th></th>\n",
       "      <th></th>\n",
       "      <th></th>\n",
       "      <th></th>\n",
       "      <th></th>\n",
       "      <th></th>\n",
       "      <th></th>\n",
       "      <th></th>\n",
       "      <th></th>\n",
       "      <th></th>\n",
       "      <th></th>\n",
       "    </tr>\n",
       "  </thead>\n",
       "  <tbody>\n",
       "    <tr>\n",
       "      <th>1</th>\n",
       "      <td>3</td>\n",
       "      <td>Braund, Mr. Owen Harris</td>\n",
       "      <td>male</td>\n",
       "      <td>22.0</td>\n",
       "      <td>1</td>\n",
       "      <td>0</td>\n",
       "      <td>A/5 21171</td>\n",
       "      <td>7.2500</td>\n",
       "      <td>Unknown</td>\n",
       "      <td>S</td>\n",
       "      <td>Braund</td>\n",
       "      <td>Mr</td>\n",
       "      <td>U</td>\n",
       "    </tr>\n",
       "    <tr>\n",
       "      <th>2</th>\n",
       "      <td>1</td>\n",
       "      <td>Cumings, Mrs. John Bradley (Florence Briggs Th...</td>\n",
       "      <td>female</td>\n",
       "      <td>38.0</td>\n",
       "      <td>1</td>\n",
       "      <td>0</td>\n",
       "      <td>PC 17599</td>\n",
       "      <td>71.2833</td>\n",
       "      <td>C85</td>\n",
       "      <td>C</td>\n",
       "      <td>Cumings</td>\n",
       "      <td>Mr</td>\n",
       "      <td>C</td>\n",
       "    </tr>\n",
       "    <tr>\n",
       "      <th>3</th>\n",
       "      <td>3</td>\n",
       "      <td>Heikkinen, Miss. Laina</td>\n",
       "      <td>female</td>\n",
       "      <td>26.0</td>\n",
       "      <td>0</td>\n",
       "      <td>0</td>\n",
       "      <td>STON/O2. 3101282</td>\n",
       "      <td>7.9250</td>\n",
       "      <td>Unknown</td>\n",
       "      <td>S</td>\n",
       "      <td>Heikkinen</td>\n",
       "      <td>Miss</td>\n",
       "      <td>U</td>\n",
       "    </tr>\n",
       "    <tr>\n",
       "      <th>4</th>\n",
       "      <td>1</td>\n",
       "      <td>Futrelle, Mrs. Jacques Heath (Lily May Peel)</td>\n",
       "      <td>female</td>\n",
       "      <td>35.0</td>\n",
       "      <td>1</td>\n",
       "      <td>0</td>\n",
       "      <td>113803</td>\n",
       "      <td>53.1000</td>\n",
       "      <td>C123</td>\n",
       "      <td>S</td>\n",
       "      <td>Futrelle</td>\n",
       "      <td>Mr</td>\n",
       "      <td>C</td>\n",
       "    </tr>\n",
       "    <tr>\n",
       "      <th>5</th>\n",
       "      <td>3</td>\n",
       "      <td>Allen, Mr. William Henry</td>\n",
       "      <td>male</td>\n",
       "      <td>35.0</td>\n",
       "      <td>0</td>\n",
       "      <td>0</td>\n",
       "      <td>373450</td>\n",
       "      <td>8.0500</td>\n",
       "      <td>Unknown</td>\n",
       "      <td>S</td>\n",
       "      <td>Allen</td>\n",
       "      <td>Mr</td>\n",
       "      <td>U</td>\n",
       "    </tr>\n",
       "    <tr>\n",
       "      <th>...</th>\n",
       "      <td>...</td>\n",
       "      <td>...</td>\n",
       "      <td>...</td>\n",
       "      <td>...</td>\n",
       "      <td>...</td>\n",
       "      <td>...</td>\n",
       "      <td>...</td>\n",
       "      <td>...</td>\n",
       "      <td>...</td>\n",
       "      <td>...</td>\n",
       "      <td>...</td>\n",
       "      <td>...</td>\n",
       "      <td>...</td>\n",
       "    </tr>\n",
       "    <tr>\n",
       "      <th>887</th>\n",
       "      <td>2</td>\n",
       "      <td>Montvila, Rev. Juozas</td>\n",
       "      <td>male</td>\n",
       "      <td>27.0</td>\n",
       "      <td>0</td>\n",
       "      <td>0</td>\n",
       "      <td>211536</td>\n",
       "      <td>13.0000</td>\n",
       "      <td>Unknown</td>\n",
       "      <td>S</td>\n",
       "      <td>Montvila</td>\n",
       "      <td>Mr</td>\n",
       "      <td>U</td>\n",
       "    </tr>\n",
       "    <tr>\n",
       "      <th>888</th>\n",
       "      <td>1</td>\n",
       "      <td>Graham, Miss. Margaret Edith</td>\n",
       "      <td>female</td>\n",
       "      <td>19.0</td>\n",
       "      <td>0</td>\n",
       "      <td>0</td>\n",
       "      <td>112053</td>\n",
       "      <td>30.0000</td>\n",
       "      <td>B42</td>\n",
       "      <td>S</td>\n",
       "      <td>Graham</td>\n",
       "      <td>Miss</td>\n",
       "      <td>B</td>\n",
       "    </tr>\n",
       "    <tr>\n",
       "      <th>889</th>\n",
       "      <td>3</td>\n",
       "      <td>Johnston, Miss. Catherine Helen \"Carrie\"</td>\n",
       "      <td>female</td>\n",
       "      <td>NaN</td>\n",
       "      <td>1</td>\n",
       "      <td>2</td>\n",
       "      <td>W./C. 6607</td>\n",
       "      <td>23.4500</td>\n",
       "      <td>Unknown</td>\n",
       "      <td>S</td>\n",
       "      <td>Johnston</td>\n",
       "      <td>Miss</td>\n",
       "      <td>U</td>\n",
       "    </tr>\n",
       "    <tr>\n",
       "      <th>890</th>\n",
       "      <td>1</td>\n",
       "      <td>Behr, Mr. Karl Howell</td>\n",
       "      <td>male</td>\n",
       "      <td>26.0</td>\n",
       "      <td>0</td>\n",
       "      <td>0</td>\n",
       "      <td>111369</td>\n",
       "      <td>30.0000</td>\n",
       "      <td>C148</td>\n",
       "      <td>C</td>\n",
       "      <td>Behr</td>\n",
       "      <td>Mr</td>\n",
       "      <td>C</td>\n",
       "    </tr>\n",
       "    <tr>\n",
       "      <th>891</th>\n",
       "      <td>3</td>\n",
       "      <td>Dooley, Mr. Patrick</td>\n",
       "      <td>male</td>\n",
       "      <td>32.0</td>\n",
       "      <td>0</td>\n",
       "      <td>0</td>\n",
       "      <td>370376</td>\n",
       "      <td>7.7500</td>\n",
       "      <td>Unknown</td>\n",
       "      <td>Q</td>\n",
       "      <td>Dooley</td>\n",
       "      <td>Mr</td>\n",
       "      <td>U</td>\n",
       "    </tr>\n",
       "  </tbody>\n",
       "</table>\n",
       "<p>891 rows × 13 columns</p>\n",
       "</div>"
      ],
      "text/plain": [
       "             Pclass                                               Name  \\\n",
       "PassengerId                                                              \n",
       "1                 3                            Braund, Mr. Owen Harris   \n",
       "2                 1  Cumings, Mrs. John Bradley (Florence Briggs Th...   \n",
       "3                 3                             Heikkinen, Miss. Laina   \n",
       "4                 1       Futrelle, Mrs. Jacques Heath (Lily May Peel)   \n",
       "5                 3                           Allen, Mr. William Henry   \n",
       "...             ...                                                ...   \n",
       "887               2                              Montvila, Rev. Juozas   \n",
       "888               1                       Graham, Miss. Margaret Edith   \n",
       "889               3           Johnston, Miss. Catherine Helen \"Carrie\"   \n",
       "890               1                              Behr, Mr. Karl Howell   \n",
       "891               3                                Dooley, Mr. Patrick   \n",
       "\n",
       "                Sex   Age  SibSp  Parch            Ticket     Fare    Cabin  \\\n",
       "PassengerId                                                                   \n",
       "1              male  22.0      1      0         A/5 21171   7.2500  Unknown   \n",
       "2            female  38.0      1      0          PC 17599  71.2833      C85   \n",
       "3            female  26.0      0      0  STON/O2. 3101282   7.9250  Unknown   \n",
       "4            female  35.0      1      0            113803  53.1000     C123   \n",
       "5              male  35.0      0      0            373450   8.0500  Unknown   \n",
       "...             ...   ...    ...    ...               ...      ...      ...   \n",
       "887            male  27.0      0      0            211536  13.0000  Unknown   \n",
       "888          female  19.0      0      0            112053  30.0000      B42   \n",
       "889          female   NaN      1      2        W./C. 6607  23.4500  Unknown   \n",
       "890            male  26.0      0      0            111369  30.0000     C148   \n",
       "891            male  32.0      0      0            370376   7.7500  Unknown   \n",
       "\n",
       "            Embarked    Surname Title Deck  \n",
       "PassengerId                                 \n",
       "1                  S     Braund    Mr    U  \n",
       "2                  C    Cumings    Mr    C  \n",
       "3                  S  Heikkinen  Miss    U  \n",
       "4                  S   Futrelle    Mr    C  \n",
       "5                  S      Allen    Mr    U  \n",
       "...              ...        ...   ...  ...  \n",
       "887                S   Montvila    Mr    U  \n",
       "888                S     Graham  Miss    B  \n",
       "889                S   Johnston  Miss    U  \n",
       "890                C       Behr    Mr    C  \n",
       "891                Q     Dooley    Mr    U  \n",
       "\n",
       "[891 rows x 13 columns]"
      ]
     },
     "execution_count": 265,
     "metadata": {},
     "output_type": "execute_result"
    }
   ],
   "source": [
    "df['Deck'] = [Cab[0] for Cab in df['Cabin']]\n",
    "test['Deck'] = [Cab[0] for Cab in test['Cabin']]\n",
    "df"
   ]
  },
  {
   "cell_type": "markdown",
   "id": "72bf6e09",
   "metadata": {},
   "source": [
    "We'll handle different data types differently in our preprocessing.<br>\n",
    "The pipelines help adding other transformers later and keeping things consistent.<br>\n",
    "The binary columns don't need an Imputer since they don't have any missing data in both datasets."
   ]
  },
  {
   "cell_type": "code",
   "execution_count": 266,
   "id": "ce7ca0a7",
   "metadata": {
    "init_cell": true
   },
   "outputs": [],
   "source": [
    "Numerical_Pre = make_pipeline(SimpleImputer(strategy='mean'))\n",
    "OneHot_Pre = make_pipeline(SimpleImputer(strategy='most_frequent'),OneHotEncoder(handle_unknown = 'ignore'))\n",
    "Binary_Pre = make_pipeline(BinaryEncoder())\n",
    "Col_Num = ['Age','Fare','SibSp','Parch']\n",
    "Col_OHE = ['Sex','Deck','Title','Embarked','Pclass']\n",
    "Col_Bin = ['Surname','Ticket']\n",
    "\n",
    "\n",
    "Preprocess = ColumnTransformer([('Col_OHE', OneHot_Pre, Col_OHE),\n",
    "                                ('Col_Bin', Binary_Pre, Col_Bin),\n",
    "                                ('Col_Num', Numerical_Pre, Col_Num),\n",
    "                                ])"
   ]
  },
  {
   "cell_type": "code",
   "execution_count": 267,
   "id": "b569eb22",
   "metadata": {
    "init_cell": true,
    "scrolled": true
   },
   "outputs": [
    {
     "data": {
      "text/plain": [
       "['Sex_female',\n",
       " 'Sex_male',\n",
       " 'Deck_A',\n",
       " 'Deck_B',\n",
       " 'Deck_C',\n",
       " 'Deck_D',\n",
       " 'Deck_E',\n",
       " 'Deck_F',\n",
       " 'Deck_G',\n",
       " 'Deck_T',\n",
       " 'Deck_U',\n",
       " 'Title_Master',\n",
       " 'Title_Miss',\n",
       " 'Title_Mr',\n",
       " 'Title_Mrs',\n",
       " 'Embarked_C',\n",
       " 'Embarked_Q',\n",
       " 'Embarked_S',\n",
       " 'Pclass_1',\n",
       " 'Pclass_2',\n",
       " 'Pclass_3',\n",
       " 'Surname_1',\n",
       " 'Surname_2',\n",
       " 'Surname_3',\n",
       " 'Surname_4',\n",
       " 'Surname_5',\n",
       " 'Surname_6',\n",
       " 'Surname_7',\n",
       " 'Surname_8',\n",
       " 'Surname_9',\n",
       " 'Surname_10',\n",
       " 'Surname_11',\n",
       " 'Ticket_1',\n",
       " 'Ticket_2',\n",
       " 'Ticket_3',\n",
       " 'Ticket_4',\n",
       " 'Ticket_5',\n",
       " 'Ticket_6',\n",
       " 'Ticket_7',\n",
       " 'Ticket_8',\n",
       " 'Ticket_9',\n",
       " 'Ticket_10',\n",
       " 'Ticket_11',\n",
       " 'Age',\n",
       " 'Fare',\n",
       " 'SibSp',\n",
       " 'Parch']"
      ]
     },
     "execution_count": 267,
     "metadata": {},
     "output_type": "execute_result"
    }
   ],
   "source": [
    "PreProOHE = [sorted([str(Col) + \"_\" + str(i) for i in df[Col].unique() if str(i) != 'nan']) for Col in Col_OHE]\n",
    "PreProBin = [[str(Col) + \"_\" + str(i+1) for i in range(ceil(np.log2(len(df[Col].unique()))) + 1)] for Col in Col_Bin]\n",
    "Cols = list(itertools.chain(*(PreProOHE+PreProBin))) + Col_Num\n",
    "Cols"
   ]
  },
  {
   "cell_type": "markdown",
   "id": "62f41c4b",
   "metadata": {},
   "source": [
    "All of this was done so we could understand the preprocessing and data we're fitting better."
   ]
  },
  {
   "cell_type": "markdown",
   "id": "d3e6cfe9",
   "metadata": {},
   "source": [
    "# Comparing models:\n",
    "We'll look at a quick estimation of the best hyper parameters for each model and the accuracy score.  \n",
    "\n",
    "<font color='red' size='6'>Changes:</font>  \n",
    "This section will no longer be part of this notebook and the last section will be extended."
   ]
  },
  {
   "cell_type": "code",
   "execution_count": 268,
   "id": "5c7b8946",
   "metadata": {
    "init_cell": true
   },
   "outputs": [],
   "source": [
    "def print_best(Grid,Prints = True):\n",
    "    if Prints:\n",
    "        print(Grid.best_score_,Grid.best_params_)\n",
    "    if not Prints:\n",
    "        return [Grid.best_score_,Grid.best_params_]"
   ]
  },
  {
   "cell_type": "code",
   "execution_count": 211,
   "id": "1d7f1835",
   "metadata": {},
   "outputs": [],
   "source": [
    "Gradient = GradientBoostingClassifier(warm_start=True)\n",
    "Grad_Pipe = Pipeline([('Preprocess', Preprocess),\n",
    "                     ('Gradient', Gradient)])\n",
    "\n",
    "params_Grad = dict(Gradient__n_estimators = [200,300],\n",
    "                   Gradient__max_depth=[3,5], \n",
    "                   Gradient__random_state=[12],\n",
    "                   Gradient__learning_rate=[0.1,0.15])"
   ]
  },
  {
   "cell_type": "code",
   "execution_count": 226,
   "id": "d946e8fb",
   "metadata": {},
   "outputs": [
    {
     "name": "stdout",
     "output_type": "stream",
     "text": [
      "0.8249639068482832 {'Gradient__random_state': 12, 'Gradient__n_estimators': 300, 'Gradient__max_depth': 3, 'Gradient__learning_rate': 0.1}\n"
     ]
    }
   ],
   "source": [
    "Rand_Grad = RandomizedSearchCV(Grad_Pipe,params_Grad,cv=5,verbose=10,scoring='accuracy',n_iter=4,random_state=1,error_score='raise')\n",
    "\n",
    "sys.stdout = open(1, 'w')\n",
    "Rand_Grad.fit(df,y)\n",
    "print('Done with grid :)')\n",
    "sys.stdout = saved_std\n",
    "print_best(Rand_Grad)\n"
   ]
  },
  {
   "cell_type": "code",
   "execution_count": 227,
   "id": "4de0d305",
   "metadata": {
    "scrolled": true
   },
   "outputs": [
    {
     "name": "stdout",
     "output_type": "stream",
     "text": [
      "0.821542903772519 {'tree__eta': 0.3965807272960261, 'tree__gamma': 3.8791074116200743, 'tree__max_depth': 3}\n",
      "0.8137467830016949 {'lin__eta': 0.1862602113776709}\n"
     ]
    }
   ],
   "source": [
    "xgbtree = XGBClassifier(use_label_encoder=False, eval_metric='rmse', objective='binary:logistic')\n",
    "xgblin = XGBClassifier(booster = 'gblinear',use_label_encoder=False, eval_metric='rmse', objective='binary:logistic')\n",
    "\n",
    "Pipe_tree = Pipeline([('Preprocess', Preprocess),\n",
    "                     ('tree', xgbtree)])\n",
    "\n",
    "Pipe_lin = Pipeline([('Preprocess', Preprocess),\n",
    "                     ('lin', xgblin)])\n",
    "\n",
    "xgb_distribution1 = dict(tree__eta = uniform(), tree__gamma = uniform(0,10),\n",
    "                        tree__max_depth = [3,6,9])\n",
    "xgb_distribution2 = dict(lin__eta = uniform())\n",
    "\n",
    "Rand_xgtree = RandomizedSearchCV(Pipe_tree,xgb_distribution1,scoring='accuracy',cv=5,verbose=10,n_iter=10,random_state=1)\n",
    "Rand_xglin = RandomizedSearchCV(Pipe_lin,xgb_distribution2,scoring='accuracy',cv=5,verbose=10,n_iter=10,random_state=1)\n",
    "\n",
    "sys.stdout = open(1, 'w')\n",
    "Rand_xgtree.fit(df,y)\n",
    "print('Done with grid :)')\n",
    "sys.stdout = saved_std\n",
    "print_best(Rand_xgtree)\n",
    "\n",
    "sys.stdout = open(1, 'w')\n",
    "Rand_xglin.fit(df,y)\n",
    "print('Done with grid :)')\n",
    "sys.stdout = saved_std\n",
    "print_best(Rand_xglin)"
   ]
  },
  {
   "cell_type": "code",
   "execution_count": 269,
   "id": "bd350875",
   "metadata": {},
   "outputs": [
    {
     "name": "stdout",
     "output_type": "stream",
     "text": [
      "0.6970686083736112 {'SVC__C': 3.5055566091841532, 'SVC__kernel': 'rbf'}\n"
     ]
    }
   ],
   "source": [
    "SVC = Pipeline([('Preprocess',Preprocess),('SVC',SVC())])\n",
    "\n",
    "SVC_distribution = dict(SVC__C=uniform(0,4), SVC__kernel = ['rbf','poly'])\n",
    "\n",
    "Rand_SVC = RandomizedSearchCV(SVC,SVC_distribution,scoring='accuracy',cv=5,verbose=10,n_iter=25,random_state=1)\n",
    "\n",
    "sys.stdout = open(1, 'w')\n",
    "Rand_SVC.fit(df,y)\n",
    "print('Done with grid :)')\n",
    "sys.stdout = saved_std\n",
    "print_best(Rand_SVC)"
   ]
  },
  {
   "cell_type": "code",
   "execution_count": 270,
   "id": "b1c152a5",
   "metadata": {},
   "outputs": [
    {
     "name": "stdout",
     "output_type": "stream",
     "text": [
      "0.6936664365074383 {'KNN__n_neighbors': 5}\n"
     ]
    }
   ],
   "source": [
    "KNN = Pipeline([('Preprocess',Preprocess),('KNN',KNeighborsClassifier())])\n",
    "KNN_distribution = dict(KNN__n_neighbors = range(2,7))\n",
    "Rand_KNN = RandomizedSearchCV(KNN,KNN_distribution,scoring='accuracy',cv=5,verbose=10,random_state=1)\n",
    "\n",
    "sys.stdout = open(1, 'w')\n",
    "Rand_KNN.fit(df,y)\n",
    "print('Done with grid :)')\n",
    "sys.stdout = saved_std\n",
    "print_best(Rand_KNN)"
   ]
  },
  {
   "cell_type": "code",
   "execution_count": null,
   "id": "db0ae6f5",
   "metadata": {},
   "outputs": [],
   "source": []
  }
 ],
 "metadata": {
  "celltoolbar": "Initialization Cell",
  "kernelspec": {
   "display_name": "Python 3 (ipykernel)",
   "language": "python",
   "name": "python3"
  },
  "language_info": {
   "codemirror_mode": {
    "name": "ipython",
    "version": 3
   },
   "file_extension": ".py",
   "mimetype": "text/x-python",
   "name": "python",
   "nbconvert_exporter": "python",
   "pygments_lexer": "ipython3",
   "version": "3.8.10"
  }
 },
 "nbformat": 4,
 "nbformat_minor": 5
}
