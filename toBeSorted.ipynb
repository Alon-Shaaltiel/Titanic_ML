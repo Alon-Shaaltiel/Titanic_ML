{
 "cells": [
  {
   "cell_type": "markdown",
   "id": "5120cb31",
   "metadata": {},
   "source": [
    "This notebook includes parts that are no longer relevant in a data analysis notebook. They'll be sorted when data analysis is complete."
   ]
  },
  {
   "cell_type": "code",
   "execution_count": null,
   "id": "ec138323",
   "metadata": {},
   "outputs": [],
   "source": [
    "'''\n",
    "from sklearn.ensemble import (RandomForestClassifier, GradientBoostingClassifier,\n",
    "                              AdaBoostClassifier,ExtraTreesClassifier, VotingClassifier)\n",
    "from xgboost import XGBClassifier\n",
    "from sklearn.svm import SVC\n",
    "from sklearn.linear_model import LogisticRegression\n",
    "from sklearn.neighbors import KNeighborsClassifier\n",
    "from sklearn.model_selection import GridSearchCV,RandomizedSearchCV,cross_val_score\n",
    "from sklearn import metrics\n",
    "from scipy.stats import uniform\n",
    "'''\n",
    "\n",
    "print(\"These are kept here for now. This used to be both the modeling and preprocessing notebook.\")"
   ]
  },
  {
   "cell_type": "code",
   "execution_count": null,
   "id": "0360eb8d",
   "metadata": {},
   "outputs": [],
   "source": [
    "def print_best(Grid,Prints = True):\n",
    "    if Prints:\n",
    "        print(Grid.best_score_,Grid.best_params_)\n",
    "    if not Prints:\n",
    "        return [Grid.best_score_,Grid.best_params_]"
   ]
  },
  {
   "cell_type": "code",
   "execution_count": null,
   "id": "7618f44b",
   "metadata": {},
   "outputs": [],
   "source": [
    "Gradient = GradientBoostingClassifier(warm_start=True)\n",
    "Grad_Pipe = Pipeline([('Preprocess', Preprocess),\n",
    "                     ('Gradient', Gradient)])\n",
    "\n",
    "params_Grad = dict(Gradient__n_estimators = [200,300],\n",
    "                   Gradient__max_depth=[3,5], \n",
    "                   Gradient__random_state=[12],\n",
    "                   Gradient__learning_rate=[0.1,0.15])"
   ]
  },
  {
   "cell_type": "code",
   "execution_count": null,
   "id": "02213844",
   "metadata": {},
   "outputs": [],
   "source": [
    "Rand_Grad = RandomizedSearchCV(Grad_Pipe,params_Grad,cv=5,verbose=10,scoring='accuracy',n_iter=4,random_state=1,error_score='raise')\n",
    "\n",
    "sys.stdout = open(1, 'w')\n",
    "Rand_Grad.fit(df,y)\n",
    "print('Done with grid :)')\n",
    "sys.stdout = saved_std\n",
    "print_best(Rand_Grad)\n"
   ]
  },
  {
   "cell_type": "code",
   "execution_count": null,
   "id": "df60d7b1",
   "metadata": {},
   "outputs": [],
   "source": [
    "xgbtree = XGBClassifier(use_label_encoder=False, eval_metric='rmse', objective='binary:logistic')\n",
    "xgblin = XGBClassifier(booster = 'gblinear',use_label_encoder=False, eval_metric='rmse', objective='binary:logistic')\n",
    "\n",
    "Pipe_tree = Pipeline([('Preprocess', Preprocess),\n",
    "                     ('tree', xgbtree)])\n",
    "\n",
    "Pipe_lin = Pipeline([('Preprocess', Preprocess),\n",
    "                     ('lin', xgblin)])\n",
    "\n",
    "xgb_distribution1 = dict(tree__eta = uniform(), tree__gamma = uniform(0,10),\n",
    "                        tree__max_depth = [3,6,9])\n",
    "xgb_distribution2 = dict(lin__eta = uniform())\n",
    "\n",
    "Rand_xgtree = RandomizedSearchCV(Pipe_tree,xgb_distribution1,scoring='accuracy',cv=5,verbose=10,n_iter=10,random_state=1)\n",
    "Rand_xglin = RandomizedSearchCV(Pipe_lin,xgb_distribution2,scoring='accuracy',cv=5,verbose=10,n_iter=10,random_state=1)\n",
    "\n",
    "sys.stdout = open(1, 'w')\n",
    "Rand_xgtree.fit(df,y)\n",
    "print('Done with grid :)')\n",
    "sys.stdout = saved_std\n",
    "print_best(Rand_xgtree)\n",
    "\n",
    "sys.stdout = open(1, 'w')\n",
    "Rand_xglin.fit(df,y)\n",
    "print('Done with grid :)')\n",
    "sys.stdout = saved_std\n",
    "print_best(Rand_xglin)"
   ]
  },
  {
   "cell_type": "code",
   "execution_count": null,
   "id": "0838cfe9",
   "metadata": {},
   "outputs": [],
   "source": [
    "SVC = Pipeline([('Preprocess',Preprocess),('SVC',SVC())])\n",
    "\n",
    "SVC_distribution = dict(SVC__C=uniform(0,4), SVC__kernel = ['rbf','poly'])\n",
    "\n",
    "Rand_SVC = RandomizedSearchCV(SVC,SVC_distribution,scoring='accuracy',cv=5,verbose=10,n_iter=25,random_state=1)\n",
    "\n",
    "sys.stdout = open(1, 'w')\n",
    "Rand_SVC.fit(df,y)\n",
    "print('Done with grid :)')\n",
    "sys.stdout = saved_std\n",
    "print_best(Rand_SVC)"
   ]
  },
  {
   "cell_type": "code",
   "execution_count": null,
   "id": "9a346ff0",
   "metadata": {},
   "outputs": [],
   "source": [
    "KNN = Pipeline([('Preprocess',Preprocess),('KNN',KNeighborsClassifier())])\n",
    "KNN_distribution = dict(KNN__n_neighbors = range(2,7))\n",
    "Rand_KNN = RandomizedSearchCV(KNN,KNN_distribution,scoring='accuracy',cv=5,verbose=10,random_state=1)\n",
    "\n",
    "sys.stdout = open(1, 'w')\n",
    "Rand_KNN.fit(df,y)\n",
    "print('Done with grid :)')\n",
    "sys.stdout = saved_std\n",
    "print_best(Rand_KNN)"
   ]
  }
 ],
 "metadata": {
  "kernelspec": {
   "display_name": "Python 3 (ipykernel)",
   "language": "python",
   "name": "python3"
  },
  "language_info": {
   "codemirror_mode": {
    "name": "ipython",
    "version": 3
   },
   "file_extension": ".py",
   "mimetype": "text/x-python",
   "name": "python",
   "nbconvert_exporter": "python",
   "pygments_lexer": "ipython3",
   "version": "3.8.10"
  }
 },
 "nbformat": 4,
 "nbformat_minor": 5
}
