{
 "cells": [
  {
   "cell_type": "code",
   "execution_count": 1,
   "metadata": {
    "ExecuteTime": {
     "end_time": "2021-09-20T16:16:02.261198Z",
     "start_time": "2021-09-20T16:16:02.248910Z"
    },
    "init_cell": true
   },
   "outputs": [
    {
     "data": {
      "text/plain": [
       "<ipykernel.iostream.OutStream at 0x7fd938c788e0>"
      ]
     },
     "execution_count": 1,
     "metadata": {},
     "output_type": "execute_result"
    }
   ],
   "source": [
    "import sys\n",
    "\n",
    "if str(type(sys.stdout)) == \"<class 'ipykernel.iostream.OutStream'>\":\n",
    "    saved_std = sys.stdout\n",
    "else:\n",
    "    sys.stdout = saved_std\n",
    "\n",
    "sys.stdout"
   ]
  },
  {
   "cell_type": "markdown",
   "metadata": {},
   "source": [
    "### TO DO:\n",
    "1. ~~Cleanup imports~~\n",
    "1. ~~Decide on how to impute values for each column~~\n",
    "1. ~~Use OHE and binarize the data.~~\n",
    "1. ~~Make pipelines that process the data~~\n",
    "1. ~~Use pipelines to fit models~~"
   ]
  },
  {
   "cell_type": "code",
   "execution_count": 2,
   "metadata": {
    "ExecuteTime": {
     "end_time": "2021-09-20T16:16:05.011981Z",
     "start_time": "2021-09-20T16:16:02.265789Z"
    },
    "init_cell": true
   },
   "outputs": [],
   "source": [
    "#models:\n",
    "from sklearn.model_selection import cross_val_score\n",
    "from sklearn.linear_model import LogisticRegression\n",
    "from sklearn.svm import SVC\n",
    "from sklearn import tree\n",
    "from sklearn.naive_bayes import GaussianNB\n",
    "from sklearn.neighbors import KNeighborsClassifier\n",
    "from sklearn.ensemble import RandomForestClassifier, VotingClassifier\n",
    "from xgboost import XGBClassifier\n",
    "\n",
    "\n",
    "#Preprocessing:\n",
    "from sklearn.preprocessing import OneHotEncoder, StandardScaler\n",
    "from sklearn.impute import SimpleImputer\n",
    "from sklearn.compose import ColumnTransformer\n",
    "\n",
    "\n",
    "#Other:\n",
    "from sklearn.model_selection import cross_val_score, GridSearchCV, RandomizedSearchCV\n",
    "from sklearn.pipeline import Pipeline\n",
    "from sklearn import metrics\n",
    "import pandas as pd\n",
    "import numpy as np\n",
    "import seaborn as sns\n",
    "import matplotlib.pyplot as plt"
   ]
  },
  {
   "cell_type": "code",
   "execution_count": 4,
   "metadata": {
    "ExecuteTime": {
     "end_time": "2021-09-20T16:16:22.765783Z",
     "start_time": "2021-09-20T16:16:22.717658Z"
    },
    "init_cell": true,
    "scrolled": true
   },
   "outputs": [
    {
     "data": {
      "text/html": [
       "<div>\n",
       "<style scoped>\n",
       "    .dataframe tbody tr th:only-of-type {\n",
       "        vertical-align: middle;\n",
       "    }\n",
       "\n",
       "    .dataframe tbody tr th {\n",
       "        vertical-align: top;\n",
       "    }\n",
       "\n",
       "    .dataframe thead th {\n",
       "        text-align: right;\n",
       "    }\n",
       "</style>\n",
       "<table border=\"1\" class=\"dataframe\">\n",
       "  <thead>\n",
       "    <tr style=\"text-align: right;\">\n",
       "      <th></th>\n",
       "      <th>PassengerId</th>\n",
       "      <th>Pclass</th>\n",
       "      <th>Sex</th>\n",
       "      <th>Age</th>\n",
       "      <th>SibSp</th>\n",
       "      <th>Parch</th>\n",
       "      <th>Fare</th>\n",
       "      <th>Embarked</th>\n",
       "      <th>Title</th>\n",
       "      <th>Deck</th>\n",
       "      <th>hasNChildren</th>\n",
       "      <th>hasCabin</th>\n",
       "      <th>has1or2sib</th>\n",
       "      <th>has3PSib</th>\n",
       "    </tr>\n",
       "  </thead>\n",
       "  <tbody>\n",
       "    <tr>\n",
       "      <th>0</th>\n",
       "      <td>1</td>\n",
       "      <td>3</td>\n",
       "      <td>male</td>\n",
       "      <td>22.0</td>\n",
       "      <td>1</td>\n",
       "      <td>0</td>\n",
       "      <td>7.2500</td>\n",
       "      <td>S</td>\n",
       "      <td>Mr.</td>\n",
       "      <td>U</td>\n",
       "      <td>0</td>\n",
       "      <td>0</td>\n",
       "      <td>1</td>\n",
       "      <td>0</td>\n",
       "    </tr>\n",
       "    <tr>\n",
       "      <th>1</th>\n",
       "      <td>2</td>\n",
       "      <td>1</td>\n",
       "      <td>female</td>\n",
       "      <td>38.0</td>\n",
       "      <td>1</td>\n",
       "      <td>0</td>\n",
       "      <td>71.2833</td>\n",
       "      <td>C</td>\n",
       "      <td>Mrs.</td>\n",
       "      <td>C</td>\n",
       "      <td>0</td>\n",
       "      <td>1</td>\n",
       "      <td>1</td>\n",
       "      <td>0</td>\n",
       "    </tr>\n",
       "    <tr>\n",
       "      <th>2</th>\n",
       "      <td>3</td>\n",
       "      <td>3</td>\n",
       "      <td>female</td>\n",
       "      <td>26.0</td>\n",
       "      <td>0</td>\n",
       "      <td>0</td>\n",
       "      <td>7.9250</td>\n",
       "      <td>S</td>\n",
       "      <td>Miss.</td>\n",
       "      <td>U</td>\n",
       "      <td>0</td>\n",
       "      <td>0</td>\n",
       "      <td>0</td>\n",
       "      <td>0</td>\n",
       "    </tr>\n",
       "    <tr>\n",
       "      <th>3</th>\n",
       "      <td>4</td>\n",
       "      <td>1</td>\n",
       "      <td>female</td>\n",
       "      <td>35.0</td>\n",
       "      <td>1</td>\n",
       "      <td>0</td>\n",
       "      <td>53.1000</td>\n",
       "      <td>S</td>\n",
       "      <td>Mrs.</td>\n",
       "      <td>C</td>\n",
       "      <td>0</td>\n",
       "      <td>1</td>\n",
       "      <td>1</td>\n",
       "      <td>0</td>\n",
       "    </tr>\n",
       "    <tr>\n",
       "      <th>4</th>\n",
       "      <td>5</td>\n",
       "      <td>3</td>\n",
       "      <td>male</td>\n",
       "      <td>35.0</td>\n",
       "      <td>0</td>\n",
       "      <td>0</td>\n",
       "      <td>8.0500</td>\n",
       "      <td>S</td>\n",
       "      <td>Mr.</td>\n",
       "      <td>U</td>\n",
       "      <td>0</td>\n",
       "      <td>0</td>\n",
       "      <td>0</td>\n",
       "      <td>0</td>\n",
       "    </tr>\n",
       "    <tr>\n",
       "      <th>...</th>\n",
       "      <td>...</td>\n",
       "      <td>...</td>\n",
       "      <td>...</td>\n",
       "      <td>...</td>\n",
       "      <td>...</td>\n",
       "      <td>...</td>\n",
       "      <td>...</td>\n",
       "      <td>...</td>\n",
       "      <td>...</td>\n",
       "      <td>...</td>\n",
       "      <td>...</td>\n",
       "      <td>...</td>\n",
       "      <td>...</td>\n",
       "      <td>...</td>\n",
       "    </tr>\n",
       "    <tr>\n",
       "      <th>886</th>\n",
       "      <td>887</td>\n",
       "      <td>2</td>\n",
       "      <td>male</td>\n",
       "      <td>27.0</td>\n",
       "      <td>0</td>\n",
       "      <td>0</td>\n",
       "      <td>13.0000</td>\n",
       "      <td>S</td>\n",
       "      <td>Mr.</td>\n",
       "      <td>U</td>\n",
       "      <td>0</td>\n",
       "      <td>0</td>\n",
       "      <td>0</td>\n",
       "      <td>0</td>\n",
       "    </tr>\n",
       "    <tr>\n",
       "      <th>887</th>\n",
       "      <td>888</td>\n",
       "      <td>1</td>\n",
       "      <td>female</td>\n",
       "      <td>19.0</td>\n",
       "      <td>0</td>\n",
       "      <td>0</td>\n",
       "      <td>30.0000</td>\n",
       "      <td>S</td>\n",
       "      <td>Miss.</td>\n",
       "      <td>B</td>\n",
       "      <td>0</td>\n",
       "      <td>1</td>\n",
       "      <td>0</td>\n",
       "      <td>0</td>\n",
       "    </tr>\n",
       "    <tr>\n",
       "      <th>888</th>\n",
       "      <td>889</td>\n",
       "      <td>3</td>\n",
       "      <td>female</td>\n",
       "      <td>15.0</td>\n",
       "      <td>1</td>\n",
       "      <td>2</td>\n",
       "      <td>23.4500</td>\n",
       "      <td>S</td>\n",
       "      <td>Miss.</td>\n",
       "      <td>U</td>\n",
       "      <td>0</td>\n",
       "      <td>0</td>\n",
       "      <td>1</td>\n",
       "      <td>0</td>\n",
       "    </tr>\n",
       "    <tr>\n",
       "      <th>889</th>\n",
       "      <td>890</td>\n",
       "      <td>1</td>\n",
       "      <td>male</td>\n",
       "      <td>26.0</td>\n",
       "      <td>0</td>\n",
       "      <td>0</td>\n",
       "      <td>30.0000</td>\n",
       "      <td>C</td>\n",
       "      <td>Mr.</td>\n",
       "      <td>C</td>\n",
       "      <td>0</td>\n",
       "      <td>1</td>\n",
       "      <td>0</td>\n",
       "      <td>0</td>\n",
       "    </tr>\n",
       "    <tr>\n",
       "      <th>890</th>\n",
       "      <td>891</td>\n",
       "      <td>3</td>\n",
       "      <td>male</td>\n",
       "      <td>32.0</td>\n",
       "      <td>0</td>\n",
       "      <td>0</td>\n",
       "      <td>7.7500</td>\n",
       "      <td>Q</td>\n",
       "      <td>Mr.</td>\n",
       "      <td>U</td>\n",
       "      <td>0</td>\n",
       "      <td>0</td>\n",
       "      <td>0</td>\n",
       "      <td>0</td>\n",
       "    </tr>\n",
       "  </tbody>\n",
       "</table>\n",
       "<p>891 rows × 14 columns</p>\n",
       "</div>"
      ],
      "text/plain": [
       "     PassengerId  Pclass     Sex   Age  SibSp  Parch     Fare Embarked  Title  \\\n",
       "0              1       3    male  22.0      1      0   7.2500        S    Mr.   \n",
       "1              2       1  female  38.0      1      0  71.2833        C   Mrs.   \n",
       "2              3       3  female  26.0      0      0   7.9250        S  Miss.   \n",
       "3              4       1  female  35.0      1      0  53.1000        S   Mrs.   \n",
       "4              5       3    male  35.0      0      0   8.0500        S    Mr.   \n",
       "..           ...     ...     ...   ...    ...    ...      ...      ...    ...   \n",
       "886          887       2    male  27.0      0      0  13.0000        S    Mr.   \n",
       "887          888       1  female  19.0      0      0  30.0000        S  Miss.   \n",
       "888          889       3  female  15.0      1      2  23.4500        S  Miss.   \n",
       "889          890       1    male  26.0      0      0  30.0000        C    Mr.   \n",
       "890          891       3    male  32.0      0      0   7.7500        Q    Mr.   \n",
       "\n",
       "    Deck  hasNChildren  hasCabin  has1or2sib  has3PSib  \n",
       "0      U             0         0           1         0  \n",
       "1      C             0         1           1         0  \n",
       "2      U             0         0           0         0  \n",
       "3      C             0         1           1         0  \n",
       "4      U             0         0           0         0  \n",
       "..   ...           ...       ...         ...       ...  \n",
       "886    U             0         0           0         0  \n",
       "887    B             0         1           0         0  \n",
       "888    U             0         0           1         0  \n",
       "889    C             0         1           0         0  \n",
       "890    U             0         0           0         0  \n",
       "\n",
       "[891 rows x 14 columns]"
      ]
     },
     "metadata": {},
     "output_type": "display_data"
    },
    {
     "data": {
      "text/html": [
       "<div>\n",
       "<style scoped>\n",
       "    .dataframe tbody tr th:only-of-type {\n",
       "        vertical-align: middle;\n",
       "    }\n",
       "\n",
       "    .dataframe tbody tr th {\n",
       "        vertical-align: top;\n",
       "    }\n",
       "\n",
       "    .dataframe thead th {\n",
       "        text-align: right;\n",
       "    }\n",
       "</style>\n",
       "<table border=\"1\" class=\"dataframe\">\n",
       "  <thead>\n",
       "    <tr style=\"text-align: right;\">\n",
       "      <th></th>\n",
       "      <th>PassengerId</th>\n",
       "      <th>Pclass</th>\n",
       "      <th>Sex</th>\n",
       "      <th>Age</th>\n",
       "      <th>SibSp</th>\n",
       "      <th>Parch</th>\n",
       "      <th>Fare</th>\n",
       "      <th>Embarked</th>\n",
       "      <th>Title</th>\n",
       "      <th>Deck</th>\n",
       "      <th>hasNChildren</th>\n",
       "      <th>hasCabin</th>\n",
       "      <th>has1or2sib</th>\n",
       "      <th>has3PSib</th>\n",
       "    </tr>\n",
       "  </thead>\n",
       "  <tbody>\n",
       "    <tr>\n",
       "      <th>0</th>\n",
       "      <td>892</td>\n",
       "      <td>3</td>\n",
       "      <td>male</td>\n",
       "      <td>34.5</td>\n",
       "      <td>0</td>\n",
       "      <td>0</td>\n",
       "      <td>7.8292</td>\n",
       "      <td>Q</td>\n",
       "      <td>Mr.</td>\n",
       "      <td>U</td>\n",
       "      <td>0</td>\n",
       "      <td>0</td>\n",
       "      <td>0</td>\n",
       "      <td>0</td>\n",
       "    </tr>\n",
       "    <tr>\n",
       "      <th>1</th>\n",
       "      <td>893</td>\n",
       "      <td>3</td>\n",
       "      <td>female</td>\n",
       "      <td>47.0</td>\n",
       "      <td>1</td>\n",
       "      <td>0</td>\n",
       "      <td>7.0000</td>\n",
       "      <td>S</td>\n",
       "      <td>Mrs.</td>\n",
       "      <td>U</td>\n",
       "      <td>0</td>\n",
       "      <td>0</td>\n",
       "      <td>1</td>\n",
       "      <td>0</td>\n",
       "    </tr>\n",
       "    <tr>\n",
       "      <th>2</th>\n",
       "      <td>894</td>\n",
       "      <td>2</td>\n",
       "      <td>male</td>\n",
       "      <td>62.0</td>\n",
       "      <td>0</td>\n",
       "      <td>0</td>\n",
       "      <td>9.6875</td>\n",
       "      <td>Q</td>\n",
       "      <td>Mr.</td>\n",
       "      <td>U</td>\n",
       "      <td>0</td>\n",
       "      <td>0</td>\n",
       "      <td>0</td>\n",
       "      <td>0</td>\n",
       "    </tr>\n",
       "    <tr>\n",
       "      <th>3</th>\n",
       "      <td>895</td>\n",
       "      <td>3</td>\n",
       "      <td>male</td>\n",
       "      <td>27.0</td>\n",
       "      <td>0</td>\n",
       "      <td>0</td>\n",
       "      <td>8.6625</td>\n",
       "      <td>S</td>\n",
       "      <td>Mr.</td>\n",
       "      <td>U</td>\n",
       "      <td>0</td>\n",
       "      <td>0</td>\n",
       "      <td>0</td>\n",
       "      <td>0</td>\n",
       "    </tr>\n",
       "    <tr>\n",
       "      <th>4</th>\n",
       "      <td>896</td>\n",
       "      <td>3</td>\n",
       "      <td>female</td>\n",
       "      <td>22.0</td>\n",
       "      <td>1</td>\n",
       "      <td>1</td>\n",
       "      <td>12.2875</td>\n",
       "      <td>S</td>\n",
       "      <td>Mrs.</td>\n",
       "      <td>U</td>\n",
       "      <td>1</td>\n",
       "      <td>0</td>\n",
       "      <td>1</td>\n",
       "      <td>0</td>\n",
       "    </tr>\n",
       "    <tr>\n",
       "      <th>...</th>\n",
       "      <td>...</td>\n",
       "      <td>...</td>\n",
       "      <td>...</td>\n",
       "      <td>...</td>\n",
       "      <td>...</td>\n",
       "      <td>...</td>\n",
       "      <td>...</td>\n",
       "      <td>...</td>\n",
       "      <td>...</td>\n",
       "      <td>...</td>\n",
       "      <td>...</td>\n",
       "      <td>...</td>\n",
       "      <td>...</td>\n",
       "      <td>...</td>\n",
       "    </tr>\n",
       "    <tr>\n",
       "      <th>413</th>\n",
       "      <td>1305</td>\n",
       "      <td>3</td>\n",
       "      <td>male</td>\n",
       "      <td>37.0</td>\n",
       "      <td>0</td>\n",
       "      <td>0</td>\n",
       "      <td>8.0500</td>\n",
       "      <td>S</td>\n",
       "      <td>Mr.</td>\n",
       "      <td>U</td>\n",
       "      <td>0</td>\n",
       "      <td>0</td>\n",
       "      <td>0</td>\n",
       "      <td>0</td>\n",
       "    </tr>\n",
       "    <tr>\n",
       "      <th>414</th>\n",
       "      <td>1306</td>\n",
       "      <td>1</td>\n",
       "      <td>female</td>\n",
       "      <td>39.0</td>\n",
       "      <td>0</td>\n",
       "      <td>0</td>\n",
       "      <td>108.9000</td>\n",
       "      <td>C</td>\n",
       "      <td>Mr.</td>\n",
       "      <td>C</td>\n",
       "      <td>0</td>\n",
       "      <td>1</td>\n",
       "      <td>0</td>\n",
       "      <td>0</td>\n",
       "    </tr>\n",
       "    <tr>\n",
       "      <th>415</th>\n",
       "      <td>1307</td>\n",
       "      <td>3</td>\n",
       "      <td>male</td>\n",
       "      <td>38.5</td>\n",
       "      <td>0</td>\n",
       "      <td>0</td>\n",
       "      <td>7.2500</td>\n",
       "      <td>S</td>\n",
       "      <td>Mr.</td>\n",
       "      <td>U</td>\n",
       "      <td>0</td>\n",
       "      <td>0</td>\n",
       "      <td>0</td>\n",
       "      <td>0</td>\n",
       "    </tr>\n",
       "    <tr>\n",
       "      <th>416</th>\n",
       "      <td>1308</td>\n",
       "      <td>3</td>\n",
       "      <td>male</td>\n",
       "      <td>26.0</td>\n",
       "      <td>0</td>\n",
       "      <td>0</td>\n",
       "      <td>8.0500</td>\n",
       "      <td>S</td>\n",
       "      <td>Mr.</td>\n",
       "      <td>U</td>\n",
       "      <td>0</td>\n",
       "      <td>0</td>\n",
       "      <td>0</td>\n",
       "      <td>0</td>\n",
       "    </tr>\n",
       "    <tr>\n",
       "      <th>417</th>\n",
       "      <td>1309</td>\n",
       "      <td>3</td>\n",
       "      <td>male</td>\n",
       "      <td>4.0</td>\n",
       "      <td>1</td>\n",
       "      <td>1</td>\n",
       "      <td>22.3583</td>\n",
       "      <td>C</td>\n",
       "      <td>Master.</td>\n",
       "      <td>U</td>\n",
       "      <td>0</td>\n",
       "      <td>0</td>\n",
       "      <td>1</td>\n",
       "      <td>0</td>\n",
       "    </tr>\n",
       "  </tbody>\n",
       "</table>\n",
       "<p>418 rows × 14 columns</p>\n",
       "</div>"
      ],
      "text/plain": [
       "     PassengerId  Pclass     Sex   Age  SibSp  Parch      Fare Embarked  \\\n",
       "0            892       3    male  34.5      0      0    7.8292        Q   \n",
       "1            893       3  female  47.0      1      0    7.0000        S   \n",
       "2            894       2    male  62.0      0      0    9.6875        Q   \n",
       "3            895       3    male  27.0      0      0    8.6625        S   \n",
       "4            896       3  female  22.0      1      1   12.2875        S   \n",
       "..           ...     ...     ...   ...    ...    ...       ...      ...   \n",
       "413         1305       3    male  37.0      0      0    8.0500        S   \n",
       "414         1306       1  female  39.0      0      0  108.9000        C   \n",
       "415         1307       3    male  38.5      0      0    7.2500        S   \n",
       "416         1308       3    male  26.0      0      0    8.0500        S   \n",
       "417         1309       3    male   4.0      1      1   22.3583        C   \n",
       "\n",
       "       Title Deck  hasNChildren  hasCabin  has1or2sib  has3PSib  \n",
       "0        Mr.    U             0         0           0         0  \n",
       "1       Mrs.    U             0         0           1         0  \n",
       "2        Mr.    U             0         0           0         0  \n",
       "3        Mr.    U             0         0           0         0  \n",
       "4       Mrs.    U             1         0           1         0  \n",
       "..       ...  ...           ...       ...         ...       ...  \n",
       "413      Mr.    U             0         0           0         0  \n",
       "414      Mr.    C             0         1           0         0  \n",
       "415      Mr.    U             0         0           0         0  \n",
       "416      Mr.    U             0         0           0         0  \n",
       "417  Master.    U             0         0           1         0  \n",
       "\n",
       "[418 rows x 14 columns]"
      ]
     },
     "metadata": {},
     "output_type": "display_data"
    }
   ],
   "source": [
    "df = pd.read_csv('Data/modifiedData.csv')\n",
    "test = pd.read_csv('Data/modifiedTest.csv')\n",
    "y = df['Survived']\n",
    "df.drop('Survived',axis=1,inplace=True)\n",
    "display(df)\n",
    "display(test)"
   ]
  },
  {
   "cell_type": "code",
   "execution_count": null,
   "metadata": {},
   "outputs": [],
   "source": [
    "# Age & Fare will be filled in using the appropriate distribution (as normal doesn't fit).\n",
    "# SibSp & Parch will be filled in as 0\n",
    "# Pclass & Embarked will be filled in with modal class (3rd) "
   ]
  },
  {
   "cell_type": "code",
   "execution_count": null,
   "metadata": {
    "ExecuteTime": {
     "end_time": "2021-09-20T16:16:05.289674Z",
     "start_time": "2021-09-20T16:16:05.289662Z"
    },
    "init_cell": true
   },
   "outputs": [],
   "source": [
    "preSib = Pipeline(\n",
    "    [('Sib_NA', SimpleImputer(strategy='constant', fill_value=0)),('Scaler',StandardScaler())])\n",
    "\n",
    "preClass = Pipeline([('Class_NA', SimpleImputer(\n",
    "    strategy='most_frequent')), (\"OHE\", OneHotEncoder(handle_unknown='ignore'))])\n",
    "\n",
    "# handle_unknown='ignore' means that if the OHE encounters a class it doesn't recognize when transforming,\n",
    "# it'll continue instead of throwing an error.\n",
    "\n",
    "Preprocess = ColumnTransformer([('Scaler',StandardScaler(),\n",
    "                                ['Age', 'Fare', 'hasNChildren', 'hasCabin', 'has1or2sib', 'has3PSib']),\n",
    "                                ('FillNA', preSib, ['SibSp', 'Parch']), \n",
    "                                ('OHE',preClass,['Sex','Deck','Title','Embarked','Pclass'])])"
   ]
  },
  {
   "cell_type": "markdown",
   "metadata": {},
   "source": [
    "The models I'm using are those suggested [here](https://www.kaggle.com/kenjee/titanic-project-example)"
   ]
  },
  {
   "cell_type": "code",
   "execution_count": 28,
   "metadata": {
    "ExecuteTime": {
     "end_time": "2021-09-20T13:16:22.554789Z",
     "start_time": "2021-09-20T13:16:22.427180Z"
    }
   },
   "outputs": [
    {
     "name": "stdout",
     "output_type": "stream",
     "text": [
      "0.7677170296905406\n"
     ]
    }
   ],
   "source": [
    "gnb_pipe = Pipeline([('Preprocess',Preprocess),('GNB',GaussianNB())])\n",
    "cv = cross_val_score(gnb_pipe,df,y,cv=5)\n",
    "print(cv.mean())"
   ]
  },
  {
   "cell_type": "code",
   "execution_count": 29,
   "metadata": {
    "ExecuteTime": {
     "end_time": "2021-09-20T13:16:23.440385Z",
     "start_time": "2021-09-20T13:16:23.304925Z"
    }
   },
   "outputs": [
    {
     "name": "stdout",
     "output_type": "stream",
     "text": [
      "0.7620802209528592\n"
     ]
    }
   ],
   "source": [
    "tree_pipe = Pipeline([('Preprocess',Preprocess),('Tree',tree.DecisionTreeClassifier(random_state=7))])\n",
    "cv = cross_val_score(tree_pipe,df,y,cv=5)\n",
    "print(cv.mean())"
   ]
  },
  {
   "cell_type": "code",
   "execution_count": 33,
   "metadata": {
    "ExecuteTime": {
     "end_time": "2021-09-20T13:19:06.717937Z",
     "start_time": "2021-09-20T13:19:06.190978Z"
    }
   },
   "outputs": [
    {
     "name": "stdout",
     "output_type": "stream",
     "text": [
      "0.827154604230745\n"
     ]
    }
   ],
   "source": [
    "SVC_pipe = Pipeline([('Preprocess',Preprocess),('SVC',SVC(probability = True))])\n",
    "cv = cross_val_score(SVC_pipe,df,y,cv=5)\n",
    "print(cv.mean()) # Maybe try one with less overlapping features."
   ]
  },
  {
   "cell_type": "code",
   "execution_count": 37,
   "metadata": {
    "ExecuteTime": {
     "end_time": "2021-09-20T13:26:53.889955Z",
     "start_time": "2021-09-20T13:26:53.429697Z"
    }
   },
   "outputs": [
    {
     "name": "stdout",
     "output_type": "stream",
     "text": [
      "0.8114744837110036\n"
     ]
    }
   ],
   "source": [
    "xgb_pipe = Pipeline([('Preprocess',Preprocess),\n",
    "                     ('xgb',XGBClassifier(random_state=7,use_label_encoder=False,eval_metric='logloss'))])\n",
    "cv = cross_val_score(xgb_pipe,df,y,cv=5)\n",
    "print(cv.mean()) # Maybe try one with less overlapping features."
   ]
  },
  {
   "cell_type": "code",
   "execution_count": 38,
   "metadata": {
    "ExecuteTime": {
     "end_time": "2021-09-20T13:31:50.065904Z",
     "start_time": "2021-09-20T13:31:49.261864Z"
    }
   },
   "outputs": [
    {
     "name": "stdout",
     "output_type": "stream",
     "text": [
      "0.8024731655263324\n"
     ]
    }
   ],
   "source": [
    "RF_pipe = Pipeline([('Preprocess',Preprocess),('RF',RandomForestClassifier(random_state=7))])\n",
    "cv = cross_val_score(RF_pipe,df,y,cv=5)\n",
    "print(cv.mean())"
   ]
  },
  {
   "cell_type": "code",
   "execution_count": 39,
   "metadata": {
    "ExecuteTime": {
     "end_time": "2021-09-20T13:32:53.751302Z",
     "start_time": "2021-09-20T13:32:53.569112Z"
    },
    "scrolled": true
   },
   "outputs": [
    {
     "name": "stdout",
     "output_type": "stream",
     "text": [
      "0.7957504237022157\n"
     ]
    }
   ],
   "source": [
    "KNN_pipe = Pipeline([('Preprocess',Preprocess),('KNN',KNeighborsClassifier())])\n",
    "cv = cross_val_score(KNN_pipe,df,y,cv=5)\n",
    "print(cv.mean())"
   ]
  },
  {
   "cell_type": "code",
   "execution_count": 40,
   "metadata": {
    "ExecuteTime": {
     "end_time": "2021-09-20T13:35:42.598745Z",
     "start_time": "2021-09-20T13:35:42.379318Z"
    },
    "run_control": {
     "marked": false
    }
   },
   "outputs": [
    {
     "name": "stdout",
     "output_type": "stream",
     "text": [
      "0.8249325214989642\n"
     ]
    }
   ],
   "source": [
    "logreg_pipe = Pipeline([('Preprocess',Preprocess),('Logreg',LogisticRegression())])\n",
    "cv = cross_val_score(logreg_pipe,df,y,cv=5)\n",
    "print(cv.mean())"
   ]
  },
  {
   "cell_type": "code",
   "execution_count": 41,
   "metadata": {
    "ExecuteTime": {
     "end_time": "2021-09-20T13:37:35.905043Z",
     "start_time": "2021-09-20T13:37:33.558633Z"
    }
   },
   "outputs": [
    {
     "name": "stdout",
     "output_type": "stream",
     "text": [
      "0.8327851358985626\n"
     ]
    }
   ],
   "source": [
    "voting_clf = VotingClassifier(estimators = [('lr',logreg_pipe),('knn',KNN_pipe),('rf',RF_pipe),\n",
    "                                            ('svc',SVC_pipe),('xgb',xgb_pipe)], voting = 'soft')\n",
    "cv = cross_val_score(voting_clf,df,y,cv=5)\n",
    "print(cv.mean())"
   ]
  },
  {
   "cell_type": "code",
   "execution_count": 47,
   "metadata": {
    "ExecuteTime": {
     "end_time": "2021-09-20T13:48:55.490252Z",
     "start_time": "2021-09-20T13:48:54.883703Z"
    }
   },
   "outputs": [],
   "source": [
    "voting_clf.fit(df,y)\n",
    "data = np.array([test.index, voting_clf.predict(test)]).T\n",
    "noTunePred = pd.DataFrame(data = data, columns = ['PassengerId','Survived'])\n",
    "noTunePred.to_csv('Predictions/basePrediction.csv', index=False)"
   ]
  },
  {
   "cell_type": "markdown",
   "metadata": {},
   "source": [
    "Now tuning:"
   ]
  },
  {
   "cell_type": "code",
   "execution_count": null,
   "metadata": {
    "ExecuteTime": {
     "end_time": "2021-09-20T16:16:05.291223Z",
     "start_time": "2021-09-20T16:16:05.291190Z"
    },
    "init_cell": true
   },
   "outputs": [],
   "source": [
    "#simple performance reporting function\n",
    "def clf_performance(classifier, model_name):\n",
    "    print(model_name)\n",
    "    print('Best Score: ' + str(classifier.best_score_))\n",
    "    print('Best Parameters: ' + str(classifier.best_params_))"
   ]
  },
  {
   "cell_type": "code",
   "execution_count": 76,
   "metadata": {
    "ExecuteTime": {
     "end_time": "2021-09-20T14:13:41.579904Z",
     "start_time": "2021-09-20T14:13:40.060187Z"
    }
   },
   "outputs": [
    {
     "name": "stdout",
     "output_type": "stream",
     "text": [
      "Fitting 5 folds for each of 40 candidates, totalling 200 fits\n",
      "Done with grid :)\n",
      "\n",
      "Logistic Regression\n",
      "Best Score: 0.8282907538760906\n",
      "Best Parameters: {'Logreg__C': 0.615848211066026, 'Logreg__max_iter': 2000, 'Logreg__penalty': 'l2', 'Logreg__solver': 'liblinear'}\n"
     ]
    }
   ],
   "source": [
    "logreg_pipe = Pipeline([('Preprocess',Preprocess),('Logreg',LogisticRegression())])\n",
    "param_grid = {'Logreg__max_iter' : [2000],\n",
    "              'Logreg__penalty' : ['l1', 'l2'],\n",
    "              'Logreg__C' : np.logspace(-4, 4, 20),\n",
    "              'Logreg__solver' : ['liblinear']}\n",
    "\n",
    "lr_grid = GridSearchCV(logreg_pipe, param_grid=param_grid, verbose = 1, n_jobs = -1)\n",
    "best_lr = lr_grid.fit(df,y)\n",
    "print('Done with grid :)\\n')\n",
    "\n",
    "clf_performance(best_lr,'Logistic Regression')"
   ]
  },
  {
   "cell_type": "code",
   "execution_count": 77,
   "metadata": {
    "ExecuteTime": {
     "end_time": "2021-09-20T14:16:48.299419Z",
     "start_time": "2021-09-20T14:16:46.522500Z"
    }
   },
   "outputs": [
    {
     "name": "stdout",
     "output_type": "stream",
     "text": [
      "Fitting 5 folds for each of 48 candidates, totalling 240 fits\n",
      "Done with grid :)\n",
      "\n",
      "KNN\n",
      "Best Score: 0.8226853304877283\n",
      "Best Parameters: {'KNN__algorithm': 'auto', 'KNN__n_neighbors': 7, 'KNN__p': 1, 'KNN__weights': 'uniform'}\n"
     ]
    }
   ],
   "source": [
    "knn_pipe = Pipeline([('Preprocess',Preprocess),('KNN',KNeighborsClassifier())])\n",
    "\n",
    "param_grid = {'KNN__n_neighbors' : [3,5,7,9],\n",
    "              'KNN__weights' : ['uniform', 'distance'],\n",
    "              'KNN__algorithm' : ['auto', 'ball_tree','kd_tree'],\n",
    "              'KNN__p' : [1,2]}\n",
    "\n",
    "knn_grid = GridSearchCV(knn_pipe, param_grid=param_grid, verbose = 1, n_jobs = -1)\n",
    "best_knn = knn_grid.fit(df,y)\n",
    "print('Done with grid :)\\n')\n",
    "\n",
    "clf_performance(best_knn,'KNN')"
   ]
  },
  {
   "cell_type": "code",
   "execution_count": 9,
   "metadata": {
    "ExecuteTime": {
     "end_time": "2021-09-20T14:39:02.297642Z",
     "start_time": "2021-09-20T14:38:11.214143Z"
    }
   },
   "outputs": [
    {
     "name": "stdout",
     "output_type": "stream",
     "text": [
      "Fitting 5 folds for each of 44 candidates, totalling 220 fits\n",
      "Done with grid :)\n",
      "\n",
      "SVC\n",
      "Best Score: 0.8293892411022534\n",
      "Best Parameters: {'SVC__C': 1, 'SVC__degree': 2, 'SVC__kernel': 'poly'}\n"
     ]
    }
   ],
   "source": [
    "SVC_pipe = Pipeline([('Preprocess',Preprocess),('SVC',SVC(probability = True))])\n",
    "\n",
    "param_grid = tuned_parameters = [{'SVC__kernel': ['rbf'], 'SVC__gamma': [.1,.5,1,2,5,10],\n",
    "                                  'SVC__C': [.1, 1, 10, 100]},\n",
    "                                 {'SVC__kernel': ['linear'], 'SVC__C': [.1, 1, 10, 100]},\n",
    "                                 {'SVC__kernel': ['poly'], 'SVC__degree' : [2,3,4,5], 'SVC__C': [.1, 1, 10, 100]}]\n",
    "\n",
    "sys.stdout = saved_std\n",
    "SVC_grid = GridSearchCV(SVC_pipe, param_grid=param_grid, verbose = 1)\n",
    "best_SVC = SVC_grid.fit(df,y)\n",
    "print('Done with grid :)\\n')\n",
    "\n",
    "\n",
    "clf_performance(best_SVC,'SVC')"
   ]
  },
  {
   "cell_type": "code",
   "execution_count": 14,
   "metadata": {
    "ExecuteTime": {
     "end_time": "2021-09-20T14:45:48.468220Z",
     "start_time": "2021-09-20T14:43:38.709753Z"
    }
   },
   "outputs": [
    {
     "name": "stdout",
     "output_type": "stream",
     "text": [
      "Fitting 5 folds for each of 100 candidates, totalling 500 fits\n",
      "[CV] END RF__bootstrap=True, RF__criterion=gini, RF__max_depth=20, RF__max_features=10, RF__min_samples_leaf=3, RF__min_samples_split=2, RF__n_estimators=550; total time=   1.5s\n",
      "[CV] END RF__bootstrap=True, RF__criterion=gini, RF__max_depth=15, RF__max_features=sqrt, RF__min_samples_leaf=3, RF__min_samples_split=3, RF__n_estimators=500; total time=   1.3s\n",
      "[CV] END RF__bootstrap=True, RF__criterion=gini, RF__max_depth=20, RF__max_features=sqrt, RF__min_samples_leaf=2, RF__min_samples_split=2, RF__n_estimators=450; total time=   1.2s\n",
      "[CV] END RF__bootstrap=True, RF__criterion=gini, RF__max_depth=15, RF__max_features=auto, RF__min_samples_leaf=3, RF__min_samples_split=2, RF__n_estimators=400; total time=   1.0s\n",
      "[CV] END RF__bootstrap=True, RF__criterion=entropy, RF__max_depth=15, RF__max_features=10, RF__min_samples_leaf=2, RF__min_samples_split=3, RF__n_estimators=550; total time=   2.0s\n",
      "[CV] END RF__bootstrap=True, RF__criterion=entropy, RF__max_depth=15, RF__max_features=sqrt, RF__min_samples_leaf=3, RF__min_samples_split=3, RF__n_estimators=450; total time=   1.9s\n",
      "[CV] END RF__bootstrap=True, RF__criterion=entropy, RF__max_depth=20, RF__max_features=10, RF__min_samples_leaf=3, RF__min_samples_split=3, RF__n_estimators=550; total time=   2.6s\n",
      "[CV] END RF__bootstrap=True, RF__criterion=gini, RF__max_depth=15, RF__max_features=auto, RF__min_samples_leaf=2, RF__min_samples_split=3, RF__n_estimators=450; total time=   1.8s\n",
      "[CV] END RF__bootstrap=True, RF__criterion=gini, RF__max_depth=25, RF__max_features=sqrt, RF__min_samples_leaf=2, RF__min_samples_split=3, RF__n_estimators=450; total time=   1.7s\n",
      "[CV] END RF__bootstrap=True, RF__criterion=gini, RF__max_depth=25, RF__max_features=10, RF__min_samples_leaf=3, RF__min_samples_split=3, RF__n_estimators=400; total time=   1.6s\n",
      "[CV] END RF__bootstrap=True, RF__criterion=gini, RF__max_depth=25, RF__max_features=10, RF__min_samples_leaf=3, RF__min_samples_split=3, RF__n_estimators=400; total time=   1.7s\n",
      "[CV] END RF__bootstrap=True, RF__criterion=entropy, RF__max_depth=15, RF__max_features=auto, RF__min_samples_leaf=2, RF__min_samples_split=2, RF__n_estimators=550; total time=   2.2s\n",
      "[CV] END RF__bootstrap=True, RF__criterion=gini, RF__max_depth=25, RF__max_features=sqrt, RF__min_samples_leaf=2, RF__min_samples_split=2, RF__n_estimators=500; total time=   2.1s\n",
      "[CV] END RF__bootstrap=True, RF__criterion=entropy, RF__max_depth=20, RF__max_features=sqrt, RF__min_samples_leaf=2, RF__min_samples_split=2, RF__n_estimators=550; total time=   2.5s\n",
      "[CV] END RF__bootstrap=True, RF__criterion=entropy, RF__max_depth=15, RF__max_features=auto, RF__min_samples_leaf=3, RF__min_samples_split=2, RF__n_estimators=500; total time=   2.6s\n",
      "[CV] END RF__bootstrap=True, RF__criterion=gini, RF__max_depth=25, RF__max_features=auto, RF__min_samples_leaf=3, RF__min_samples_split=2, RF__n_estimators=500; total time=   2.2s\n",
      "[CV] END RF__bootstrap=True, RF__criterion=entropy, RF__max_depth=20, RF__max_features=sqrt, RF__min_samples_leaf=3, RF__min_samples_split=3, RF__n_estimators=400; total time=   1.8s\n",
      "[CV] END RF__bootstrap=True, RF__criterion=entropy, RF__max_depth=25, RF__max_features=auto, RF__min_samples_leaf=2, RF__min_samples_split=3, RF__n_estimators=400; total time=   1.6s\n",
      "[CV] END RF__bootstrap=True, RF__criterion=entropy, RF__max_depth=20, RF__max_features=10, RF__min_samples_leaf=2, RF__min_samples_split=2, RF__n_estimators=450; total time=   1.9s\n",
      "[CV] END RF__bootstrap=True, RF__criterion=gini, RF__max_depth=15, RF__max_features=sqrt, RF__min_samples_leaf=3, RF__min_samples_split=3, RF__n_estimators=550; total time=   2.1s\n",
      "[CV] END RF__bootstrap=True, RF__criterion=gini, RF__max_depth=25, RF__max_features=sqrt, RF__min_samples_leaf=3, RF__min_samples_split=3, RF__n_estimators=400; total time=   1.6s\n",
      "[CV] END RF__bootstrap=True, RF__criterion=gini, RF__max_depth=20, RF__max_features=auto, RF__min_samples_leaf=2, RF__min_samples_split=3, RF__n_estimators=500; total time=   1.8s\n",
      "[CV] END RF__bootstrap=True, RF__criterion=entropy, RF__max_depth=20, RF__max_features=sqrt, RF__min_samples_leaf=3, RF__min_samples_split=3, RF__n_estimators=550; total time=   2.6s\n",
      "[CV] END RF__bootstrap=True, RF__criterion=entropy, RF__max_depth=15, RF__max_features=auto, RF__min_samples_leaf=2, RF__min_samples_split=3, RF__n_estimators=450; total time=   1.8s\n",
      "[CV] END RF__bootstrap=True, RF__criterion=gini, RF__max_depth=25, RF__max_features=auto, RF__min_samples_leaf=3, RF__min_samples_split=3, RF__n_estimators=400; total time=   1.6s\n",
      "[CV] END RF__bootstrap=True, RF__criterion=gini, RF__max_depth=20, RF__max_features=auto, RF__min_samples_leaf=2, RF__min_samples_split=3, RF__n_estimators=400; total time=   1.6s\n",
      "[CV] END RF__bootstrap=True, RF__criterion=entropy, RF__max_depth=20, RF__max_features=10, RF__min_samples_leaf=2, RF__min_samples_split=2, RF__n_estimators=550; total time=   2.3s\n",
      "[CV] END RF__bootstrap=True, RF__criterion=entropy, RF__max_depth=15, RF__max_features=auto, RF__min_samples_leaf=3, RF__min_samples_split=2, RF__n_estimators=550; total time=   2.1s\n",
      "[CV] END RF__bootstrap=True, RF__criterion=entropy, RF__max_depth=15, RF__max_features=auto, RF__min_samples_leaf=2, RF__min_samples_split=3, RF__n_estimators=550; total time=   2.3s\n",
      "[CV] END RF__bootstrap=True, RF__criterion=gini, RF__max_depth=20, RF__max_features=10, RF__min_samples_leaf=2, RF__min_samples_split=3, RF__n_estimators=400; total time=   1.6s\n",
      "[CV] END RF__bootstrap=True, RF__criterion=entropy, RF__max_depth=20, RF__max_features=10, RF__min_samples_leaf=2, RF__min_samples_split=3, RF__n_estimators=400; total time=   1.7s\n",
      "[CV] END RF__bootstrap=True, RF__criterion=gini, RF__max_depth=20, RF__max_features=sqrt, RF__min_samples_leaf=2, RF__min_samples_split=3, RF__n_estimators=400; total time=   1.6s\n",
      "[CV] END RF__bootstrap=True, RF__criterion=entropy, RF__max_depth=25, RF__max_features=sqrt, RF__min_samples_leaf=2, RF__min_samples_split=3, RF__n_estimators=400; total time=   1.5s\n",
      "[CV] END RF__bootstrap=True, RF__criterion=entropy, RF__max_depth=25, RF__max_features=10, RF__min_samples_leaf=2, RF__min_samples_split=2, RF__n_estimators=500; total time=   2.0s\n",
      "[CV] END RF__bootstrap=True, RF__criterion=entropy, RF__max_depth=15, RF__max_features=10, RF__min_samples_leaf=2, RF__min_samples_split=2, RF__n_estimators=550; total time=   2.4s\n",
      "[CV] END RF__bootstrap=True, RF__criterion=entropy, RF__max_depth=25, RF__max_features=10, RF__min_samples_leaf=3, RF__min_samples_split=2, RF__n_estimators=500; total time=   2.2s\n",
      "[CV] END RF__bootstrap=True, RF__criterion=entropy, RF__max_depth=20, RF__max_features=sqrt, RF__min_samples_leaf=2, RF__min_samples_split=3, RF__n_estimators=450; total time=   1.7s\n",
      "[CV] END RF__bootstrap=True, RF__criterion=entropy, RF__max_depth=15, RF__max_features=sqrt, RF__min_samples_leaf=3, RF__min_samples_split=2, RF__n_estimators=500; total time=   1.8s\n",
      "[CV] END RF__bootstrap=True, RF__criterion=entropy, RF__max_depth=20, RF__max_features=sqrt, RF__min_samples_leaf=2, RF__min_samples_split=2, RF__n_estimators=500; total time=   1.9s\n",
      "[CV] END RF__bootstrap=True, RF__criterion=entropy, RF__max_depth=25, RF__max_features=10, RF__min_samples_leaf=2, RF__min_samples_split=2, RF__n_estimators=400; total time=   1.6s\n",
      "[CV] END RF__bootstrap=True, RF__criterion=entropy, RF__max_depth=25, RF__max_features=auto, RF__min_samples_leaf=3, RF__min_samples_split=2, RF__n_estimators=550; total time=   2.1s\n",
      "[CV] END RF__bootstrap=True, RF__criterion=gini, RF__max_depth=20, RF__max_features=auto, RF__min_samples_leaf=3, RF__min_samples_split=2, RF__n_estimators=500; total time=   1.8s\n",
      "[CV] END RF__bootstrap=True, RF__criterion=gini, RF__max_depth=15, RF__max_features=auto, RF__min_samples_leaf=3, RF__min_samples_split=2, RF__n_estimators=450; total time=   1.8s\n",
      "[CV] END RF__bootstrap=True, RF__criterion=gini, RF__max_depth=15, RF__max_features=sqrt, RF__min_samples_leaf=2, RF__min_samples_split=3, RF__n_estimators=550; total time=   2.2s\n",
      "[CV] END RF__bootstrap=True, RF__criterion=entropy, RF__max_depth=15, RF__max_features=auto, RF__min_samples_leaf=2, RF__min_samples_split=3, RF__n_estimators=500; total time=   1.9s\n",
      "[CV] END RF__bootstrap=True, RF__criterion=gini, RF__max_depth=15, RF__max_features=sqrt, RF__min_samples_leaf=3, RF__min_samples_split=3, RF__n_estimators=500; total time=   1.2s\n",
      "[CV] END RF__bootstrap=True, RF__criterion=gini, RF__max_depth=15, RF__max_features=sqrt, RF__min_samples_leaf=3, RF__min_samples_split=3, RF__n_estimators=500; total time=   1.2s\n",
      "[CV] END RF__bootstrap=True, RF__criterion=gini, RF__max_depth=20, RF__max_features=sqrt, RF__min_samples_leaf=2, RF__min_samples_split=2, RF__n_estimators=450; total time=   1.3s\n",
      "[CV] END RF__bootstrap=True, RF__criterion=gini, RF__max_depth=15, RF__max_features=auto, RF__min_samples_leaf=3, RF__min_samples_split=2, RF__n_estimators=400; total time=   1.1s\n"
     ]
    },
    {
     "name": "stdout",
     "output_type": "stream",
     "text": [
      "[CV] END RF__bootstrap=True, RF__criterion=gini, RF__max_depth=15, RF__max_features=10, RF__min_samples_leaf=2, RF__min_samples_split=2, RF__n_estimators=450; total time=   1.5s\n",
      "[CV] END RF__bootstrap=True, RF__criterion=entropy, RF__max_depth=15, RF__max_features=sqrt, RF__min_samples_leaf=3, RF__min_samples_split=3, RF__n_estimators=450; total time=   1.7s\n",
      "[CV] END RF__bootstrap=True, RF__criterion=gini, RF__max_depth=20, RF__max_features=sqrt, RF__min_samples_leaf=2, RF__min_samples_split=3, RF__n_estimators=550; total time=   2.4s\n",
      "[CV] END RF__bootstrap=True, RF__criterion=entropy, RF__max_depth=25, RF__max_features=sqrt, RF__min_samples_leaf=2, RF__min_samples_split=2, RF__n_estimators=450; total time=   1.7s\n",
      "[CV] END RF__bootstrap=True, RF__criterion=gini, RF__max_depth=15, RF__max_features=auto, RF__min_samples_leaf=2, RF__min_samples_split=3, RF__n_estimators=450; total time=   1.8s\n",
      "[CV] END RF__bootstrap=True, RF__criterion=entropy, RF__max_depth=25, RF__max_features=10, RF__min_samples_leaf=2, RF__min_samples_split=2, RF__n_estimators=550; total time=   2.3s\n",
      "[CV] END RF__bootstrap=True, RF__criterion=entropy, RF__max_depth=15, RF__max_features=10, RF__min_samples_leaf=2, RF__min_samples_split=2, RF__n_estimators=500; total time=   2.2s\n",
      "[CV] END RF__bootstrap=True, RF__criterion=gini, RF__max_depth=15, RF__max_features=10, RF__min_samples_leaf=2, RF__min_samples_split=2, RF__n_estimators=500; total time=   2.1s\n",
      "[CV] END RF__bootstrap=True, RF__criterion=gini, RF__max_depth=25, RF__max_features=sqrt, RF__min_samples_leaf=2, RF__min_samples_split=2, RF__n_estimators=500; total time=   1.9s\n",
      "[CV] END RF__bootstrap=True, RF__criterion=gini, RF__max_depth=15, RF__max_features=auto, RF__min_samples_leaf=3, RF__min_samples_split=2, RF__n_estimators=550; total time=   2.3s\n",
      "[CV] END RF__bootstrap=True, RF__criterion=entropy, RF__max_depth=15, RF__max_features=auto, RF__min_samples_leaf=3, RF__min_samples_split=2, RF__n_estimators=500; total time=   2.1s\n",
      "[CV] END RF__bootstrap=True, RF__criterion=gini, RF__max_depth=15, RF__max_features=10, RF__min_samples_leaf=2, RF__min_samples_split=3, RF__n_estimators=500; total time=   2.2s\n",
      "[CV] END RF__bootstrap=True, RF__criterion=entropy, RF__max_depth=20, RF__max_features=sqrt, RF__min_samples_leaf=3, RF__min_samples_split=3, RF__n_estimators=400; total time=   1.7s\n",
      "[CV] END RF__bootstrap=True, RF__criterion=gini, RF__max_depth=25, RF__max_features=auto, RF__min_samples_leaf=3, RF__min_samples_split=2, RF__n_estimators=550; total time=   2.3s\n",
      "[CV] END RF__bootstrap=True, RF__criterion=gini, RF__max_depth=15, RF__max_features=sqrt, RF__min_samples_leaf=3, RF__min_samples_split=3, RF__n_estimators=550; total time=   2.1s\n",
      "[CV] END RF__bootstrap=True, RF__criterion=entropy, RF__max_depth=25, RF__max_features=auto, RF__min_samples_leaf=3, RF__min_samples_split=2, RF__n_estimators=400; total time=   1.5s\n",
      "[CV] END RF__bootstrap=True, RF__criterion=gini, RF__max_depth=25, RF__max_features=sqrt, RF__min_samples_leaf=3, RF__min_samples_split=3, RF__n_estimators=400; total time=   1.5s\n",
      "[CV] END RF__bootstrap=True, RF__criterion=gini, RF__max_depth=25, RF__max_features=sqrt, RF__min_samples_leaf=3, RF__min_samples_split=3, RF__n_estimators=400; total time=   1.5s\n",
      "[CV] END RF__bootstrap=True, RF__criterion=entropy, RF__max_depth=20, RF__max_features=sqrt, RF__min_samples_leaf=3, RF__min_samples_split=3, RF__n_estimators=550; total time=   2.3s\n",
      "[CV] END RF__bootstrap=True, RF__criterion=entropy, RF__max_depth=20, RF__max_features=auto, RF__min_samples_leaf=3, RF__min_samples_split=3, RF__n_estimators=550; total time=   2.1s\n",
      "[CV] END RF__bootstrap=True, RF__criterion=entropy, RF__max_depth=15, RF__max_features=auto, RF__min_samples_leaf=2, RF__min_samples_split=3, RF__n_estimators=400; total time=   1.6s\n",
      "[CV] END RF__bootstrap=True, RF__criterion=gini, RF__max_depth=20, RF__max_features=auto, RF__min_samples_leaf=2, RF__min_samples_split=3, RF__n_estimators=400; total time=   1.5s\n",
      "[CV] END RF__bootstrap=True, RF__criterion=gini, RF__max_depth=15, RF__max_features=sqrt, RF__min_samples_leaf=2, RF__min_samples_split=2, RF__n_estimators=500; total time=   1.8s\n",
      "[CV] END RF__bootstrap=True, RF__criterion=entropy, RF__max_depth=15, RF__max_features=auto, RF__min_samples_leaf=3, RF__min_samples_split=2, RF__n_estimators=550; total time=   2.2s\n",
      "[CV] END RF__bootstrap=True, RF__criterion=entropy, RF__max_depth=15, RF__max_features=auto, RF__min_samples_leaf=2, RF__min_samples_split=3, RF__n_estimators=550; total time=   2.1s\n",
      "[CV] END RF__bootstrap=True, RF__criterion=gini, RF__max_depth=15, RF__max_features=sqrt, RF__min_samples_leaf=3, RF__min_samples_split=3, RF__n_estimators=400; total time=   1.7s\n",
      "[CV] END RF__bootstrap=True, RF__criterion=entropy, RF__max_depth=20, RF__max_features=10, RF__min_samples_leaf=2, RF__min_samples_split=3, RF__n_estimators=400; total time=   1.7s\n",
      "[CV] END RF__bootstrap=True, RF__criterion=entropy, RF__max_depth=25, RF__max_features=10, RF__min_samples_leaf=3, RF__min_samples_split=3, RF__n_estimators=450; total time=   2.1s\n",
      "[CV] END RF__bootstrap=True, RF__criterion=entropy, RF__max_depth=25, RF__max_features=sqrt, RF__min_samples_leaf=2, RF__min_samples_split=3, RF__n_estimators=400; total time=   1.5s\n",
      "[CV] END RF__bootstrap=True, RF__criterion=entropy, RF__max_depth=25, RF__max_features=10, RF__min_samples_leaf=2, RF__min_samples_split=2, RF__n_estimators=500; total time=   2.1s\n",
      "[CV] END RF__bootstrap=True, RF__criterion=entropy, RF__max_depth=15, RF__max_features=10, RF__min_samples_leaf=2, RF__min_samples_split=2, RF__n_estimators=550; total time=   2.4s\n",
      "[CV] END RF__bootstrap=True, RF__criterion=entropy, RF__max_depth=25, RF__max_features=10, RF__min_samples_leaf=3, RF__min_samples_split=2, RF__n_estimators=500; total time=   2.1s\n",
      "[CV] END RF__bootstrap=True, RF__criterion=entropy, RF__max_depth=20, RF__max_features=sqrt, RF__min_samples_leaf=2, RF__min_samples_split=3, RF__n_estimators=450; total time=   1.8s\n",
      "[CV] END RF__bootstrap=True, RF__criterion=entropy, RF__max_depth=15, RF__max_features=sqrt, RF__min_samples_leaf=3, RF__min_samples_split=2, RF__n_estimators=500; total time=   1.9s\n",
      "[CV] END RF__bootstrap=True, RF__criterion=entropy, RF__max_depth=20, RF__max_features=sqrt, RF__min_samples_leaf=2, RF__min_samples_split=2, RF__n_estimators=500; total time=   2.0s\n",
      "[CV] END RF__bootstrap=True, RF__criterion=entropy, RF__max_depth=25, RF__max_features=10, RF__min_samples_leaf=2, RF__min_samples_split=2, RF__n_estimators=400; total time=   2.0s\n",
      "[CV] END RF__bootstrap=True, RF__criterion=entropy, RF__max_depth=25, RF__max_features=auto, RF__min_samples_leaf=3, RF__min_samples_split=2, RF__n_estimators=550; total time=   2.1s\n",
      "[CV] END RF__bootstrap=True, RF__criterion=entropy, RF__max_depth=25, RF__max_features=10, RF__min_samples_leaf=3, RF__min_samples_split=3, RF__n_estimators=550; total time=   2.2s\n",
      "[CV] END RF__bootstrap=True, RF__criterion=gini, RF__max_depth=15, RF__max_features=auto, RF__min_samples_leaf=3, RF__min_samples_split=2, RF__n_estimators=450; total time=   1.6s\n",
      "[CV] END RF__bootstrap=True, RF__criterion=entropy, RF__max_depth=15, RF__max_features=sqrt, RF__min_samples_leaf=3, RF__min_samples_split=3, RF__n_estimators=500; total time=   1.8s\n",
      "[CV] END RF__bootstrap=True, RF__criterion=entropy, RF__max_depth=15, RF__max_features=auto, RF__min_samples_leaf=2, RF__min_samples_split=3, RF__n_estimators=500; total time=   1.8s\n",
      "[CV] END RF__bootstrap=True, RF__criterion=gini, RF__max_depth=20, RF__max_features=10, RF__min_samples_leaf=3, RF__min_samples_split=2, RF__n_estimators=550; total time=   1.5s\n",
      "[CV] END RF__bootstrap=True, RF__criterion=entropy, RF__max_depth=25, RF__max_features=auto, RF__min_samples_leaf=3, RF__min_samples_split=3, RF__n_estimators=450; total time=   1.2s\n",
      "[CV] END RF__bootstrap=True, RF__criterion=gini, RF__max_depth=20, RF__max_features=sqrt, RF__min_samples_leaf=2, RF__min_samples_split=2, RF__n_estimators=450; total time=   1.2s\n",
      "[CV] END RF__bootstrap=True, RF__criterion=gini, RF__max_depth=15, RF__max_features=sqrt, RF__min_samples_leaf=3, RF__min_samples_split=3, RF__n_estimators=450; total time=   1.2s\n",
      "[CV] END RF__bootstrap=True, RF__criterion=entropy, RF__max_depth=15, RF__max_features=10, RF__min_samples_leaf=2, RF__min_samples_split=3, RF__n_estimators=550; total time=   1.8s\n",
      "[CV] END RF__bootstrap=True, RF__criterion=entropy, RF__max_depth=15, RF__max_features=sqrt, RF__min_samples_leaf=3, RF__min_samples_split=3, RF__n_estimators=450; total time=   1.8s\n",
      "[CV] END RF__bootstrap=True, RF__criterion=entropy, RF__max_depth=20, RF__max_features=10, RF__min_samples_leaf=3, RF__min_samples_split=3, RF__n_estimators=550; total time=   2.6s\n",
      "[CV] END RF__bootstrap=True, RF__criterion=entropy, RF__max_depth=25, RF__max_features=sqrt, RF__min_samples_leaf=2, RF__min_samples_split=2, RF__n_estimators=450; total time=   1.8s\n",
      "[CV] END RF__bootstrap=True, RF__criterion=gini, RF__max_depth=25, RF__max_features=sqrt, RF__min_samples_leaf=2, RF__min_samples_split=3, RF__n_estimators=450; total time=   1.8s\n"
     ]
    },
    {
     "name": "stdout",
     "output_type": "stream",
     "text": [
      "[CV] END RF__bootstrap=True, RF__criterion=gini, RF__max_depth=25, RF__max_features=10, RF__min_samples_leaf=3, RF__min_samples_split=3, RF__n_estimators=400; total time=   1.7s\n",
      "[CV] END RF__bootstrap=True, RF__criterion=entropy, RF__max_depth=15, RF__max_features=10, RF__min_samples_leaf=2, RF__min_samples_split=2, RF__n_estimators=500; total time=   2.1s\n",
      "[CV] END RF__bootstrap=True, RF__criterion=entropy, RF__max_depth=15, RF__max_features=auto, RF__min_samples_leaf=2, RF__min_samples_split=2, RF__n_estimators=550; total time=   2.2s\n",
      "[CV] END RF__bootstrap=True, RF__criterion=gini, RF__max_depth=25, RF__max_features=sqrt, RF__min_samples_leaf=2, RF__min_samples_split=2, RF__n_estimators=500; total time=   2.0s\n",
      "[CV] END RF__bootstrap=True, RF__criterion=gini, RF__max_depth=15, RF__max_features=auto, RF__min_samples_leaf=3, RF__min_samples_split=2, RF__n_estimators=550; total time=   2.3s\n",
      "[CV] END RF__bootstrap=True, RF__criterion=entropy, RF__max_depth=15, RF__max_features=auto, RF__min_samples_leaf=3, RF__min_samples_split=2, RF__n_estimators=500; total time=   2.3s\n",
      "[CV] END RF__bootstrap=True, RF__criterion=gini, RF__max_depth=25, RF__max_features=auto, RF__min_samples_leaf=3, RF__min_samples_split=2, RF__n_estimators=500; total time=   2.2s\n",
      "[CV] END RF__bootstrap=True, RF__criterion=entropy, RF__max_depth=20, RF__max_features=sqrt, RF__min_samples_leaf=3, RF__min_samples_split=3, RF__n_estimators=400; total time=   1.9s\n",
      "[CV] END RF__bootstrap=True, RF__criterion=entropy, RF__max_depth=25, RF__max_features=auto, RF__min_samples_leaf=2, RF__min_samples_split=3, RF__n_estimators=400; total time=   1.7s\n",
      "[CV] END RF__bootstrap=True, RF__criterion=entropy, RF__max_depth=20, RF__max_features=10, RF__min_samples_leaf=2, RF__min_samples_split=2, RF__n_estimators=450; total time=   2.1s\n",
      "[CV] END RF__bootstrap=True, RF__criterion=entropy, RF__max_depth=25, RF__max_features=auto, RF__min_samples_leaf=3, RF__min_samples_split=2, RF__n_estimators=400; total time=   1.5s\n",
      "[CV] END RF__bootstrap=True, RF__criterion=entropy, RF__max_depth=20, RF__max_features=10, RF__min_samples_leaf=3, RF__min_samples_split=2, RF__n_estimators=550; total time=   2.3s\n",
      "[CV] END RF__bootstrap=True, RF__criterion=gini, RF__max_depth=20, RF__max_features=auto, RF__min_samples_leaf=2, RF__min_samples_split=3, RF__n_estimators=500; total time=   2.0s\n",
      "[CV] END RF__bootstrap=True, RF__criterion=entropy, RF__max_depth=20, RF__max_features=auto, RF__min_samples_leaf=3, RF__min_samples_split=3, RF__n_estimators=550; total time=   2.3s\n",
      "[CV] END RF__bootstrap=True, RF__criterion=entropy, RF__max_depth=15, RF__max_features=auto, RF__min_samples_leaf=2, RF__min_samples_split=3, RF__n_estimators=400; total time=   1.5s\n",
      "[CV] END RF__bootstrap=True, RF__criterion=gini, RF__max_depth=25, RF__max_features=auto, RF__min_samples_leaf=3, RF__min_samples_split=3, RF__n_estimators=400; total time=   1.5s\n",
      "[CV] END RF__bootstrap=True, RF__criterion=gini, RF__max_depth=15, RF__max_features=sqrt, RF__min_samples_leaf=2, RF__min_samples_split=2, RF__n_estimators=500; total time=   2.0s\n",
      "[CV] END RF__bootstrap=True, RF__criterion=entropy, RF__max_depth=15, RF__max_features=auto, RF__min_samples_leaf=3, RF__min_samples_split=2, RF__n_estimators=550; total time=   2.1s\n",
      "[CV] END RF__bootstrap=True, RF__criterion=gini, RF__max_depth=25, RF__max_features=sqrt, RF__min_samples_leaf=2, RF__min_samples_split=3, RF__n_estimators=550; total time=   2.0s\n",
      "[CV] END RF__bootstrap=True, RF__criterion=entropy, RF__max_depth=15, RF__max_features=auto, RF__min_samples_leaf=2, RF__min_samples_split=3, RF__n_estimators=550; total time=   2.1s\n",
      "[CV] END RF__bootstrap=True, RF__criterion=gini, RF__max_depth=20, RF__max_features=10, RF__min_samples_leaf=2, RF__min_samples_split=3, RF__n_estimators=400; total time=   1.7s\n",
      "[CV] END RF__bootstrap=True, RF__criterion=entropy, RF__max_depth=25, RF__max_features=10, RF__min_samples_leaf=3, RF__min_samples_split=3, RF__n_estimators=450; total time=   1.8s\n",
      "[CV] END RF__bootstrap=True, RF__criterion=gini, RF__max_depth=20, RF__max_features=sqrt, RF__min_samples_leaf=2, RF__min_samples_split=3, RF__n_estimators=400; total time=   1.6s\n",
      "[CV] END RF__bootstrap=True, RF__criterion=entropy, RF__max_depth=20, RF__max_features=auto, RF__min_samples_leaf=3, RF__min_samples_split=3, RF__n_estimators=500; total time=   1.8s\n",
      "[CV] END RF__bootstrap=True, RF__criterion=entropy, RF__max_depth=25, RF__max_features=10, RF__min_samples_leaf=2, RF__min_samples_split=2, RF__n_estimators=500; total time=   2.1s\n",
      "[CV] END RF__bootstrap=True, RF__criterion=entropy, RF__max_depth=25, RF__max_features=sqrt, RF__min_samples_leaf=3, RF__min_samples_split=3, RF__n_estimators=450; total time=   1.7s\n",
      "[CV] END RF__bootstrap=True, RF__criterion=entropy, RF__max_depth=25, RF__max_features=10, RF__min_samples_leaf=3, RF__min_samples_split=2, RF__n_estimators=500; total time=   2.0s\n",
      "[CV] END RF__bootstrap=True, RF__criterion=entropy, RF__max_depth=20, RF__max_features=sqrt, RF__min_samples_leaf=2, RF__min_samples_split=3, RF__n_estimators=450; total time=   1.7s\n",
      "[CV] END RF__bootstrap=True, RF__criterion=entropy, RF__max_depth=15, RF__max_features=10, RF__min_samples_leaf=3, RF__min_samples_split=3, RF__n_estimators=450; total time=   1.8s\n",
      "[CV] END RF__bootstrap=True, RF__criterion=entropy, RF__max_depth=20, RF__max_features=sqrt, RF__min_samples_leaf=2, RF__min_samples_split=2, RF__n_estimators=500; total time=   2.0s\n",
      "[CV] END RF__bootstrap=True, RF__criterion=entropy, RF__max_depth=25, RF__max_features=10, RF__min_samples_leaf=2, RF__min_samples_split=2, RF__n_estimators=400; total time=   1.8s\n",
      "[CV] END RF__bootstrap=True, RF__criterion=entropy, RF__max_depth=25, RF__max_features=auto, RF__min_samples_leaf=3, RF__min_samples_split=2, RF__n_estimators=550; total time=   2.1s\n",
      "[CV] END RF__bootstrap=True, RF__criterion=entropy, RF__max_depth=25, RF__max_features=10, RF__min_samples_leaf=3, RF__min_samples_split=3, RF__n_estimators=550; total time=   2.3s\n",
      "[CV] END RF__bootstrap=True, RF__criterion=gini, RF__max_depth=15, RF__max_features=auto, RF__min_samples_leaf=3, RF__min_samples_split=2, RF__n_estimators=450; total time=   1.6s\n",
      "[CV] END RF__bootstrap=True, RF__criterion=entropy, RF__max_depth=15, RF__max_features=sqrt, RF__min_samples_leaf=3, RF__min_samples_split=3, RF__n_estimators=500; total time=   1.9s\n",
      "[CV] END RF__bootstrap=True, RF__criterion=entropy, RF__max_depth=20, RF__max_features=10, RF__min_samples_leaf=3, RF__min_samples_split=3, RF__n_estimators=450; total time=   1.9s\n",
      "[CV] END RF__bootstrap=True, RF__criterion=gini, RF__max_depth=20, RF__max_features=10, RF__min_samples_leaf=3, RF__min_samples_split=2, RF__n_estimators=550; total time=   1.5s\n",
      "[CV] END RF__bootstrap=True, RF__criterion=entropy, RF__max_depth=25, RF__max_features=auto, RF__min_samples_leaf=3, RF__min_samples_split=3, RF__n_estimators=450; total time=   1.1s\n",
      "[CV] END RF__bootstrap=True, RF__criterion=gini, RF__max_depth=20, RF__max_features=sqrt, RF__min_samples_leaf=2, RF__min_samples_split=2, RF__n_estimators=450; total time=   1.2s\n",
      "[CV] END RF__bootstrap=True, RF__criterion=gini, RF__max_depth=15, RF__max_features=auto, RF__min_samples_leaf=3, RF__min_samples_split=2, RF__n_estimators=400; total time=   1.1s\n",
      "[CV] END RF__bootstrap=True, RF__criterion=entropy, RF__max_depth=15, RF__max_features=10, RF__min_samples_leaf=2, RF__min_samples_split=3, RF__n_estimators=550; total time=   2.0s\n",
      "[CV] END RF__bootstrap=True, RF__criterion=gini, RF__max_depth=20, RF__max_features=sqrt, RF__min_samples_leaf=2, RF__min_samples_split=3, RF__n_estimators=550; total time=   2.5s\n",
      "[CV] END RF__bootstrap=True, RF__criterion=entropy, RF__max_depth=20, RF__max_features=10, RF__min_samples_leaf=3, RF__min_samples_split=3, RF__n_estimators=550; total time=   2.3s\n",
      "[CV] END RF__bootstrap=True, RF__criterion=gini, RF__max_depth=15, RF__max_features=auto, RF__min_samples_leaf=2, RF__min_samples_split=3, RF__n_estimators=450; total time=   1.7s\n",
      "[CV] END RF__bootstrap=True, RF__criterion=gini, RF__max_depth=25, RF__max_features=sqrt, RF__min_samples_leaf=2, RF__min_samples_split=3, RF__n_estimators=450; total time=   1.7s\n",
      "[CV] END RF__bootstrap=True, RF__criterion=gini, RF__max_depth=25, RF__max_features=10, RF__min_samples_leaf=3, RF__min_samples_split=3, RF__n_estimators=400; total time=   1.7s\n",
      "[CV] END RF__bootstrap=True, RF__criterion=entropy, RF__max_depth=15, RF__max_features=10, RF__min_samples_leaf=2, RF__min_samples_split=2, RF__n_estimators=500; total time=   2.1s\n",
      "[CV] END RF__bootstrap=True, RF__criterion=gini, RF__max_depth=15, RF__max_features=10, RF__min_samples_leaf=2, RF__min_samples_split=2, RF__n_estimators=500; total time=   2.0s\n",
      "[CV] END RF__bootstrap=True, RF__criterion=gini, RF__max_depth=25, RF__max_features=sqrt, RF__min_samples_leaf=2, RF__min_samples_split=2, RF__n_estimators=500; total time=   2.1s\n",
      "[CV] END RF__bootstrap=True, RF__criterion=gini, RF__max_depth=15, RF__max_features=auto, RF__min_samples_leaf=3, RF__min_samples_split=2, RF__n_estimators=550; total time=   2.7s\n"
     ]
    },
    {
     "name": "stdout",
     "output_type": "stream",
     "text": [
      "[CV] END RF__bootstrap=True, RF__criterion=gini, RF__max_depth=15, RF__max_features=10, RF__min_samples_leaf=2, RF__min_samples_split=3, RF__n_estimators=500; total time=   2.5s\n",
      "[CV] END RF__bootstrap=True, RF__criterion=gini, RF__max_depth=25, RF__max_features=auto, RF__min_samples_leaf=3, RF__min_samples_split=2, RF__n_estimators=500; total time=   2.1s\n",
      "[CV] END RF__bootstrap=True, RF__criterion=gini, RF__max_depth=25, RF__max_features=auto, RF__min_samples_leaf=3, RF__min_samples_split=2, RF__n_estimators=550; total time=   2.2s\n",
      "[CV] END RF__bootstrap=True, RF__criterion=entropy, RF__max_depth=25, RF__max_features=auto, RF__min_samples_leaf=2, RF__min_samples_split=3, RF__n_estimators=400; total time=   1.8s\n",
      "[CV] END RF__bootstrap=True, RF__criterion=gini, RF__max_depth=15, RF__max_features=sqrt, RF__min_samples_leaf=3, RF__min_samples_split=3, RF__n_estimators=550; total time=   2.1s\n",
      "[CV] END RF__bootstrap=True, RF__criterion=entropy, RF__max_depth=20, RF__max_features=10, RF__min_samples_leaf=3, RF__min_samples_split=2, RF__n_estimators=550; total time=   2.3s\n",
      "[CV] END RF__bootstrap=True, RF__criterion=gini, RF__max_depth=25, RF__max_features=sqrt, RF__min_samples_leaf=3, RF__min_samples_split=3, RF__n_estimators=400; total time=   1.6s\n",
      "[CV] END RF__bootstrap=True, RF__criterion=entropy, RF__max_depth=20, RF__max_features=sqrt, RF__min_samples_leaf=3, RF__min_samples_split=3, RF__n_estimators=550; total time=   2.3s\n",
      "[CV] END RF__bootstrap=True, RF__criterion=entropy, RF__max_depth=15, RF__max_features=auto, RF__min_samples_leaf=2, RF__min_samples_split=3, RF__n_estimators=450; total time=   1.8s\n",
      "[CV] END RF__bootstrap=True, RF__criterion=entropy, RF__max_depth=15, RF__max_features=auto, RF__min_samples_leaf=2, RF__min_samples_split=3, RF__n_estimators=400; total time=   1.5s\n",
      "[CV] END RF__bootstrap=True, RF__criterion=gini, RF__max_depth=20, RF__max_features=auto, RF__min_samples_leaf=2, RF__min_samples_split=3, RF__n_estimators=400; total time=   1.6s\n",
      "[CV] END RF__bootstrap=True, RF__criterion=gini, RF__max_depth=15, RF__max_features=sqrt, RF__min_samples_leaf=2, RF__min_samples_split=2, RF__n_estimators=500; total time=   2.0s\n",
      "[CV] END RF__bootstrap=True, RF__criterion=entropy, RF__max_depth=15, RF__max_features=auto, RF__min_samples_leaf=3, RF__min_samples_split=2, RF__n_estimators=550; total time=   2.0s\n",
      "[CV] END RF__bootstrap=True, RF__criterion=gini, RF__max_depth=25, RF__max_features=sqrt, RF__min_samples_leaf=2, RF__min_samples_split=3, RF__n_estimators=550; total time=   2.0s\n",
      "[CV] END RF__bootstrap=True, RF__criterion=gini, RF__max_depth=15, RF__max_features=sqrt, RF__min_samples_leaf=3, RF__min_samples_split=3, RF__n_estimators=400; total time=   1.5s\n",
      "[CV] END RF__bootstrap=True, RF__criterion=entropy, RF__max_depth=20, RF__max_features=10, RF__min_samples_leaf=2, RF__min_samples_split=3, RF__n_estimators=400; total time=   1.6s\n",
      "[CV] END RF__bootstrap=True, RF__criterion=entropy, RF__max_depth=25, RF__max_features=10, RF__min_samples_leaf=3, RF__min_samples_split=3, RF__n_estimators=450; total time=   2.0s\n",
      "[CV] END RF__bootstrap=True, RF__criterion=entropy, RF__max_depth=25, RF__max_features=sqrt, RF__min_samples_leaf=2, RF__min_samples_split=3, RF__n_estimators=400; total time=   1.6s\n",
      "[CV] END RF__bootstrap=True, RF__criterion=entropy, RF__max_depth=20, RF__max_features=auto, RF__min_samples_leaf=3, RF__min_samples_split=3, RF__n_estimators=500; total time=   1.8s\n",
      "[CV] END RF__bootstrap=True, RF__criterion=entropy, RF__max_depth=15, RF__max_features=10, RF__min_samples_leaf=2, RF__min_samples_split=2, RF__n_estimators=550; total time=   2.4s\n",
      "[CV] END RF__bootstrap=True, RF__criterion=entropy, RF__max_depth=25, RF__max_features=sqrt, RF__min_samples_leaf=3, RF__min_samples_split=3, RF__n_estimators=450; total time=   1.7s\n",
      "[CV] END RF__bootstrap=True, RF__criterion=gini, RF__max_depth=15, RF__max_features=auto, RF__min_samples_leaf=3, RF__min_samples_split=2, RF__n_estimators=500; total time=   1.9s\n",
      "[CV] END RF__bootstrap=True, RF__criterion=entropy, RF__max_depth=15, RF__max_features=10, RF__min_samples_leaf=3, RF__min_samples_split=3, RF__n_estimators=450; total time=   1.8s\n",
      "[CV] END RF__bootstrap=True, RF__criterion=entropy, RF__max_depth=15, RF__max_features=sqrt, RF__min_samples_leaf=3, RF__min_samples_split=2, RF__n_estimators=500; total time=   1.8s\n",
      "[CV] END RF__bootstrap=True, RF__criterion=gini, RF__max_depth=20, RF__max_features=10, RF__min_samples_leaf=2, RF__min_samples_split=2, RF__n_estimators=550; total time=   2.7s\n",
      "[CV] END RF__bootstrap=True, RF__criterion=entropy, RF__max_depth=25, RF__max_features=10, RF__min_samples_leaf=2, RF__min_samples_split=2, RF__n_estimators=400; total time=   1.8s\n",
      "[CV] END RF__bootstrap=True, RF__criterion=gini, RF__max_depth=20, RF__max_features=auto, RF__min_samples_leaf=3, RF__min_samples_split=2, RF__n_estimators=500; total time=   1.9s\n",
      "[CV] END RF__bootstrap=True, RF__criterion=gini, RF__max_depth=15, RF__max_features=auto, RF__min_samples_leaf=3, RF__min_samples_split=2, RF__n_estimators=450; total time=   1.7s\n",
      "[CV] END RF__bootstrap=True, RF__criterion=gini, RF__max_depth=15, RF__max_features=sqrt, RF__min_samples_leaf=2, RF__min_samples_split=3, RF__n_estimators=550; total time=   2.1s\n",
      "[CV] END RF__bootstrap=True, RF__criterion=entropy, RF__max_depth=15, RF__max_features=auto, RF__min_samples_leaf=2, RF__min_samples_split=3, RF__n_estimators=500; total time=   1.9s\n",
      "[CV] END RF__bootstrap=True, RF__criterion=entropy, RF__max_depth=20, RF__max_features=10, RF__min_samples_leaf=3, RF__min_samples_split=3, RF__n_estimators=450; total time=   1.8s\n",
      "[CV] END RF__bootstrap=True, RF__criterion=gini, RF__max_depth=20, RF__max_features=10, RF__min_samples_leaf=3, RF__min_samples_split=2, RF__n_estimators=550; total time=   1.6s\n",
      "[CV] END RF__bootstrap=True, RF__criterion=entropy, RF__max_depth=25, RF__max_features=auto, RF__min_samples_leaf=3, RF__min_samples_split=3, RF__n_estimators=450; total time=   1.3s\n",
      "[CV] END RF__bootstrap=True, RF__criterion=gini, RF__max_depth=15, RF__max_features=sqrt, RF__min_samples_leaf=3, RF__min_samples_split=3, RF__n_estimators=450; total time=   1.2s\n",
      "[CV] END RF__bootstrap=True, RF__criterion=gini, RF__max_depth=15, RF__max_features=auto, RF__min_samples_leaf=3, RF__min_samples_split=2, RF__n_estimators=400; total time=   1.0s\n",
      "[CV] END RF__bootstrap=True, RF__criterion=gini, RF__max_depth=15, RF__max_features=10, RF__min_samples_leaf=2, RF__min_samples_split=2, RF__n_estimators=450; total time=   1.4s\n",
      "[CV] END RF__bootstrap=True, RF__criterion=entropy, RF__max_depth=15, RF__max_features=sqrt, RF__min_samples_leaf=3, RF__min_samples_split=3, RF__n_estimators=450; total time=   2.2s\n",
      "[CV] END RF__bootstrap=True, RF__criterion=entropy, RF__max_depth=20, RF__max_features=10, RF__min_samples_leaf=3, RF__min_samples_split=3, RF__n_estimators=550; total time=   2.6s\n",
      "[CV] END RF__bootstrap=True, RF__criterion=entropy, RF__max_depth=25, RF__max_features=sqrt, RF__min_samples_leaf=2, RF__min_samples_split=2, RF__n_estimators=450; total time=   1.8s\n",
      "[CV] END RF__bootstrap=True, RF__criterion=gini, RF__max_depth=25, RF__max_features=sqrt, RF__min_samples_leaf=2, RF__min_samples_split=3, RF__n_estimators=450; total time=   1.7s\n",
      "[CV] END RF__bootstrap=True, RF__criterion=entropy, RF__max_depth=25, RF__max_features=10, RF__min_samples_leaf=2, RF__min_samples_split=2, RF__n_estimators=550; total time=   2.5s\n",
      "[CV] END RF__bootstrap=True, RF__criterion=entropy, RF__max_depth=15, RF__max_features=auto, RF__min_samples_leaf=2, RF__min_samples_split=2, RF__n_estimators=550; total time=   2.3s\n",
      "[CV] END RF__bootstrap=True, RF__criterion=gini, RF__max_depth=15, RF__max_features=10, RF__min_samples_leaf=2, RF__min_samples_split=2, RF__n_estimators=500; total time=   2.1s\n",
      "[CV] END RF__bootstrap=True, RF__criterion=entropy, RF__max_depth=20, RF__max_features=sqrt, RF__min_samples_leaf=2, RF__min_samples_split=2, RF__n_estimators=550; total time=   2.5s\n",
      "[CV] END RF__bootstrap=True, RF__criterion=gini, RF__max_depth=15, RF__max_features=auto, RF__min_samples_leaf=3, RF__min_samples_split=2, RF__n_estimators=550; total time=   3.0s\n",
      "[CV] END RF__bootstrap=True, RF__criterion=gini, RF__max_depth=15, RF__max_features=10, RF__min_samples_leaf=2, RF__min_samples_split=3, RF__n_estimators=500; total time=   2.4s\n",
      "[CV] END RF__bootstrap=True, RF__criterion=entropy, RF__max_depth=20, RF__max_features=sqrt, RF__min_samples_leaf=3, RF__min_samples_split=3, RF__n_estimators=400; total time=   1.7s\n",
      "[CV] END RF__bootstrap=True, RF__criterion=entropy, RF__max_depth=25, RF__max_features=auto, RF__min_samples_leaf=2, RF__min_samples_split=3, RF__n_estimators=400; total time=   1.6s\n",
      "[CV] END RF__bootstrap=True, RF__criterion=entropy, RF__max_depth=20, RF__max_features=10, RF__min_samples_leaf=2, RF__min_samples_split=2, RF__n_estimators=450; total time=   2.0s\n",
      "[CV] END RF__bootstrap=True, RF__criterion=gini, RF__max_depth=15, RF__max_features=sqrt, RF__min_samples_leaf=3, RF__min_samples_split=3, RF__n_estimators=550; total time=   2.0s\n",
      "[CV] END RF__bootstrap=True, RF__criterion=entropy, RF__max_depth=20, RF__max_features=10, RF__min_samples_leaf=3, RF__min_samples_split=2, RF__n_estimators=550; total time=   2.6s\n",
      "[CV] END RF__bootstrap=True, RF__criterion=entropy, RF__max_depth=20, RF__max_features=sqrt, RF__min_samples_leaf=3, RF__min_samples_split=3, RF__n_estimators=550; total time=   2.1s\n",
      "[CV] END RF__bootstrap=True, RF__criterion=entropy, RF__max_depth=20, RF__max_features=auto, RF__min_samples_leaf=3, RF__min_samples_split=3, RF__n_estimators=550; total time=   2.1s\n",
      "[CV] END RF__bootstrap=True, RF__criterion=entropy, RF__max_depth=15, RF__max_features=auto, RF__min_samples_leaf=2, RF__min_samples_split=3, RF__n_estimators=450; total time=   1.7s\n",
      "[CV] END RF__bootstrap=True, RF__criterion=gini, RF__max_depth=25, RF__max_features=auto, RF__min_samples_leaf=3, RF__min_samples_split=3, RF__n_estimators=400; total time=   1.5s\n"
     ]
    },
    {
     "name": "stdout",
     "output_type": "stream",
     "text": [
      "[CV] END RF__bootstrap=True, RF__criterion=gini, RF__max_depth=15, RF__max_features=sqrt, RF__min_samples_leaf=2, RF__min_samples_split=2, RF__n_estimators=500; total time=   1.8s\n",
      "[CV] END RF__bootstrap=True, RF__criterion=entropy, RF__max_depth=20, RF__max_features=10, RF__min_samples_leaf=2, RF__min_samples_split=2, RF__n_estimators=550; total time=   2.3s\n",
      "[CV] END RF__bootstrap=True, RF__criterion=gini, RF__max_depth=25, RF__max_features=sqrt, RF__min_samples_leaf=2, RF__min_samples_split=3, RF__n_estimators=550; total time=   2.2s\n",
      "[CV] END RF__bootstrap=True, RF__criterion=gini, RF__max_depth=15, RF__max_features=sqrt, RF__min_samples_leaf=3, RF__min_samples_split=3, RF__n_estimators=400; total time=   1.6s\n",
      "[CV] END RF__bootstrap=True, RF__criterion=gini, RF__max_depth=20, RF__max_features=10, RF__min_samples_leaf=2, RF__min_samples_split=3, RF__n_estimators=400; total time=   1.7s\n",
      "[CV] END RF__bootstrap=True, RF__criterion=entropy, RF__max_depth=20, RF__max_features=10, RF__min_samples_leaf=2, RF__min_samples_split=3, RF__n_estimators=400; total time=   1.7s\n",
      "[CV] END RF__bootstrap=True, RF__criterion=gini, RF__max_depth=20, RF__max_features=sqrt, RF__min_samples_leaf=2, RF__min_samples_split=3, RF__n_estimators=400; total time=   1.7s\n",
      "[CV] END RF__bootstrap=True, RF__criterion=entropy, RF__max_depth=25, RF__max_features=sqrt, RF__min_samples_leaf=2, RF__min_samples_split=3, RF__n_estimators=400; total time=   1.6s\n",
      "[CV] END RF__bootstrap=True, RF__criterion=entropy, RF__max_depth=25, RF__max_features=10, RF__min_samples_leaf=2, RF__min_samples_split=2, RF__n_estimators=500; total time=   2.0s\n",
      "[CV] END RF__bootstrap=True, RF__criterion=entropy, RF__max_depth=25, RF__max_features=sqrt, RF__min_samples_leaf=3, RF__min_samples_split=3, RF__n_estimators=450; total time=   1.6s\n",
      "[CV] END RF__bootstrap=True, RF__criterion=entropy, RF__max_depth=25, RF__max_features=10, RF__min_samples_leaf=3, RF__min_samples_split=2, RF__n_estimators=500; total time=   2.2s\n",
      "[CV] END RF__bootstrap=True, RF__criterion=gini, RF__max_depth=15, RF__max_features=auto, RF__min_samples_leaf=3, RF__min_samples_split=2, RF__n_estimators=500; total time=   1.8s\n",
      "[CV] END RF__bootstrap=True, RF__criterion=entropy, RF__max_depth=15, RF__max_features=10, RF__min_samples_leaf=3, RF__min_samples_split=3, RF__n_estimators=450; total time=   1.9s\n",
      "[CV] END RF__bootstrap=True, RF__criterion=entropy, RF__max_depth=20, RF__max_features=sqrt, RF__min_samples_leaf=2, RF__min_samples_split=2, RF__n_estimators=500; total time=   1.9s\n",
      "[CV] END RF__bootstrap=True, RF__criterion=gini, RF__max_depth=20, RF__max_features=10, RF__min_samples_leaf=2, RF__min_samples_split=2, RF__n_estimators=550; total time=   2.2s\n",
      "[CV] END RF__bootstrap=True, RF__criterion=entropy, RF__max_depth=25, RF__max_features=auto, RF__min_samples_leaf=3, RF__min_samples_split=2, RF__n_estimators=550; total time=   2.0s\n",
      "[CV] END RF__bootstrap=True, RF__criterion=gini, RF__max_depth=20, RF__max_features=auto, RF__min_samples_leaf=3, RF__min_samples_split=2, RF__n_estimators=500; total time=   1.8s\n",
      "[CV] END RF__bootstrap=True, RF__criterion=gini, RF__max_depth=15, RF__max_features=auto, RF__min_samples_leaf=3, RF__min_samples_split=2, RF__n_estimators=450; total time=   1.7s\n",
      "[CV] END RF__bootstrap=True, RF__criterion=entropy, RF__max_depth=15, RF__max_features=sqrt, RF__min_samples_leaf=3, RF__min_samples_split=3, RF__n_estimators=500; total time=   1.8s\n",
      "[CV] END RF__bootstrap=True, RF__criterion=entropy, RF__max_depth=15, RF__max_features=auto, RF__min_samples_leaf=2, RF__min_samples_split=3, RF__n_estimators=500; total time=   2.0s\n",
      "[CV] END RF__bootstrap=True, RF__criterion=entropy, RF__max_depth=20, RF__max_features=10, RF__min_samples_leaf=3, RF__min_samples_split=3, RF__n_estimators=450; total time=   1.8s\n",
      "[CV] END RF__bootstrap=True, RF__criterion=gini, RF__max_depth=15, RF__max_features=sqrt, RF__min_samples_leaf=3, RF__min_samples_split=3, RF__n_estimators=500; total time=   1.4s\n",
      "[CV] END RF__bootstrap=True, RF__criterion=entropy, RF__max_depth=25, RF__max_features=auto, RF__min_samples_leaf=3, RF__min_samples_split=3, RF__n_estimators=450; total time=   1.2s\n",
      "[CV] END RF__bootstrap=True, RF__criterion=gini, RF__max_depth=15, RF__max_features=sqrt, RF__min_samples_leaf=3, RF__min_samples_split=3, RF__n_estimators=450; total time=   1.2s\n",
      "[CV] END RF__bootstrap=True, RF__criterion=gini, RF__max_depth=15, RF__max_features=auto, RF__min_samples_leaf=3, RF__min_samples_split=2, RF__n_estimators=400; total time=   1.0s\n",
      "[CV] END RF__bootstrap=True, RF__criterion=gini, RF__max_depth=15, RF__max_features=10, RF__min_samples_leaf=2, RF__min_samples_split=2, RF__n_estimators=450; total time=   1.5s\n",
      "[CV] END RF__bootstrap=True, RF__criterion=entropy, RF__max_depth=15, RF__max_features=sqrt, RF__min_samples_leaf=3, RF__min_samples_split=3, RF__n_estimators=450; total time=   1.9s\n",
      "[CV] END RF__bootstrap=True, RF__criterion=gini, RF__max_depth=20, RF__max_features=sqrt, RF__min_samples_leaf=2, RF__min_samples_split=3, RF__n_estimators=550; total time=   2.1s\n",
      "[CV] END RF__bootstrap=True, RF__criterion=entropy, RF__max_depth=25, RF__max_features=sqrt, RF__min_samples_leaf=2, RF__min_samples_split=2, RF__n_estimators=450; total time=   1.7s\n",
      "[CV] END RF__bootstrap=True, RF__criterion=gini, RF__max_depth=15, RF__max_features=auto, RF__min_samples_leaf=2, RF__min_samples_split=3, RF__n_estimators=450; total time=   1.7s\n",
      "[CV] END RF__bootstrap=True, RF__criterion=entropy, RF__max_depth=25, RF__max_features=10, RF__min_samples_leaf=2, RF__min_samples_split=2, RF__n_estimators=550; total time=   2.4s\n",
      "[CV] END RF__bootstrap=True, RF__criterion=entropy, RF__max_depth=15, RF__max_features=10, RF__min_samples_leaf=2, RF__min_samples_split=2, RF__n_estimators=500; total time=   2.1s\n",
      "[CV] END RF__bootstrap=True, RF__criterion=entropy, RF__max_depth=15, RF__max_features=auto, RF__min_samples_leaf=2, RF__min_samples_split=2, RF__n_estimators=550; total time=   2.1s\n",
      "[CV] END RF__bootstrap=True, RF__criterion=gini, RF__max_depth=25, RF__max_features=sqrt, RF__min_samples_leaf=2, RF__min_samples_split=2, RF__n_estimators=500; total time=   2.0s\n",
      "[CV] END RF__bootstrap=True, RF__criterion=entropy, RF__max_depth=20, RF__max_features=sqrt, RF__min_samples_leaf=2, RF__min_samples_split=2, RF__n_estimators=550; total time=   2.5s\n",
      "[CV] END RF__bootstrap=True, RF__criterion=entropy, RF__max_depth=15, RF__max_features=auto, RF__min_samples_leaf=3, RF__min_samples_split=2, RF__n_estimators=500; total time=   2.6s\n",
      "[CV] END RF__bootstrap=True, RF__criterion=gini, RF__max_depth=25, RF__max_features=auto, RF__min_samples_leaf=3, RF__min_samples_split=2, RF__n_estimators=500; total time=   2.0s\n",
      "[CV] END RF__bootstrap=True, RF__criterion=gini, RF__max_depth=25, RF__max_features=auto, RF__min_samples_leaf=3, RF__min_samples_split=2, RF__n_estimators=550; total time=   2.3s\n",
      "[CV] END RF__bootstrap=True, RF__criterion=entropy, RF__max_depth=25, RF__max_features=auto, RF__min_samples_leaf=2, RF__min_samples_split=3, RF__n_estimators=400; total time=   1.7s\n",
      "[CV] END RF__bootstrap=True, RF__criterion=gini, RF__max_depth=15, RF__max_features=sqrt, RF__min_samples_leaf=3, RF__min_samples_split=3, RF__n_estimators=550; total time=   2.0s\n",
      "[CV] END RF__bootstrap=True, RF__criterion=entropy, RF__max_depth=25, RF__max_features=auto, RF__min_samples_leaf=3, RF__min_samples_split=2, RF__n_estimators=400; total time=   1.7s\n",
      "[CV] END RF__bootstrap=True, RF__criterion=gini, RF__max_depth=25, RF__max_features=sqrt, RF__min_samples_leaf=3, RF__min_samples_split=3, RF__n_estimators=400; total time=   1.5s\n",
      "[CV] END RF__bootstrap=True, RF__criterion=gini, RF__max_depth=20, RF__max_features=auto, RF__min_samples_leaf=2, RF__min_samples_split=3, RF__n_estimators=500; total time=   2.0s\n",
      "[CV] END RF__bootstrap=True, RF__criterion=entropy, RF__max_depth=20, RF__max_features=auto, RF__min_samples_leaf=3, RF__min_samples_split=3, RF__n_estimators=550; total time=   2.3s\n",
      "[CV] END RF__bootstrap=True, RF__criterion=entropy, RF__max_depth=15, RF__max_features=auto, RF__min_samples_leaf=2, RF__min_samples_split=3, RF__n_estimators=400; total time=   1.6s\n",
      "[CV] END RF__bootstrap=True, RF__criterion=gini, RF__max_depth=25, RF__max_features=auto, RF__min_samples_leaf=3, RF__min_samples_split=3, RF__n_estimators=400; total time=   1.4s\n",
      "[CV] END RF__bootstrap=True, RF__criterion=gini, RF__max_depth=15, RF__max_features=sqrt, RF__min_samples_leaf=2, RF__min_samples_split=2, RF__n_estimators=500; total time=   1.8s\n",
      "[CV] END RF__bootstrap=True, RF__criterion=entropy, RF__max_depth=20, RF__max_features=10, RF__min_samples_leaf=2, RF__min_samples_split=2, RF__n_estimators=550; total time=   2.6s\n",
      "[CV] END RF__bootstrap=True, RF__criterion=gini, RF__max_depth=25, RF__max_features=sqrt, RF__min_samples_leaf=2, RF__min_samples_split=3, RF__n_estimators=550; total time=   2.1s\n",
      "[CV] END RF__bootstrap=True, RF__criterion=gini, RF__max_depth=15, RF__max_features=sqrt, RF__min_samples_leaf=3, RF__min_samples_split=3, RF__n_estimators=400; total time=   1.4s\n"
     ]
    },
    {
     "name": "stdout",
     "output_type": "stream",
     "text": [
      "[CV] END RF__bootstrap=True, RF__criterion=gini, RF__max_depth=20, RF__max_features=10, RF__min_samples_leaf=2, RF__min_samples_split=3, RF__n_estimators=400; total time=   1.9s\n",
      "[CV] END RF__bootstrap=True, RF__criterion=entropy, RF__max_depth=25, RF__max_features=10, RF__min_samples_leaf=3, RF__min_samples_split=3, RF__n_estimators=450; total time=   2.3s\n",
      "[CV] END RF__bootstrap=True, RF__criterion=entropy, RF__max_depth=25, RF__max_features=sqrt, RF__min_samples_leaf=2, RF__min_samples_split=3, RF__n_estimators=400; total time=   1.7s\n",
      "[CV] END RF__bootstrap=True, RF__criterion=entropy, RF__max_depth=20, RF__max_features=auto, RF__min_samples_leaf=3, RF__min_samples_split=3, RF__n_estimators=500; total time=   1.9s\n",
      "[CV] END RF__bootstrap=True, RF__criterion=entropy, RF__max_depth=15, RF__max_features=10, RF__min_samples_leaf=2, RF__min_samples_split=2, RF__n_estimators=550; total time=   2.3s\n",
      "[CV] END RF__bootstrap=True, RF__criterion=entropy, RF__max_depth=25, RF__max_features=10, RF__min_samples_leaf=3, RF__min_samples_split=2, RF__n_estimators=500; total time=   2.1s\n",
      "[CV] END RF__bootstrap=True, RF__criterion=gini, RF__max_depth=15, RF__max_features=auto, RF__min_samples_leaf=3, RF__min_samples_split=2, RF__n_estimators=500; total time=   1.9s\n",
      "[CV] END RF__bootstrap=True, RF__criterion=entropy, RF__max_depth=15, RF__max_features=10, RF__min_samples_leaf=3, RF__min_samples_split=3, RF__n_estimators=450; total time=   1.9s\n",
      "[CV] END RF__bootstrap=True, RF__criterion=entropy, RF__max_depth=15, RF__max_features=sqrt, RF__min_samples_leaf=3, RF__min_samples_split=2, RF__n_estimators=500; total time=   2.0s\n",
      "[CV] END RF__bootstrap=True, RF__criterion=gini, RF__max_depth=20, RF__max_features=10, RF__min_samples_leaf=2, RF__min_samples_split=2, RF__n_estimators=550; total time=   2.3s\n",
      "[CV] END RF__bootstrap=True, RF__criterion=entropy, RF__max_depth=25, RF__max_features=auto, RF__min_samples_leaf=3, RF__min_samples_split=2, RF__n_estimators=550; total time=   2.2s\n",
      "[CV] END RF__bootstrap=True, RF__criterion=entropy, RF__max_depth=25, RF__max_features=10, RF__min_samples_leaf=3, RF__min_samples_split=3, RF__n_estimators=550; total time=   2.3s\n",
      "[CV] END RF__bootstrap=True, RF__criterion=gini, RF__max_depth=15, RF__max_features=sqrt, RF__min_samples_leaf=2, RF__min_samples_split=3, RF__n_estimators=550; total time=   2.1s\n",
      "[CV] END RF__bootstrap=True, RF__criterion=entropy, RF__max_depth=15, RF__max_features=sqrt, RF__min_samples_leaf=3, RF__min_samples_split=3, RF__n_estimators=500; total time=   1.9s\n",
      "[CV] END RF__bootstrap=True, RF__criterion=entropy, RF__max_depth=20, RF__max_features=10, RF__min_samples_leaf=3, RF__min_samples_split=3, RF__n_estimators=450; total time=   1.9s\n",
      "[CV] END RF__bootstrap=True, RF__criterion=entropy, RF__max_depth=20, RF__max_features=10, RF__min_samples_leaf=2, RF__min_samples_split=2, RF__n_estimators=400; total time=   1.8s\n",
      "[CV] END RF__bootstrap=True, RF__criterion=gini, RF__max_depth=15, RF__max_features=sqrt, RF__min_samples_leaf=3, RF__min_samples_split=3, RF__n_estimators=500; total time=   1.4s\n",
      "[CV] END RF__bootstrap=True, RF__criterion=entropy, RF__max_depth=25, RF__max_features=auto, RF__min_samples_leaf=3, RF__min_samples_split=3, RF__n_estimators=450; total time=   1.2s\n",
      "[CV] END RF__bootstrap=True, RF__criterion=gini, RF__max_depth=15, RF__max_features=sqrt, RF__min_samples_leaf=3, RF__min_samples_split=3, RF__n_estimators=450; total time=   1.2s\n",
      "[CV] END RF__bootstrap=True, RF__criterion=entropy, RF__max_depth=15, RF__max_features=10, RF__min_samples_leaf=2, RF__min_samples_split=3, RF__n_estimators=550; total time=   1.8s\n",
      "[CV] END RF__bootstrap=True, RF__criterion=gini, RF__max_depth=15, RF__max_features=10, RF__min_samples_leaf=2, RF__min_samples_split=2, RF__n_estimators=450; total time=   1.9s\n",
      "[CV] END RF__bootstrap=True, RF__criterion=gini, RF__max_depth=20, RF__max_features=sqrt, RF__min_samples_leaf=2, RF__min_samples_split=3, RF__n_estimators=550; total time=   2.3s\n",
      "[CV] END RF__bootstrap=True, RF__criterion=entropy, RF__max_depth=25, RF__max_features=sqrt, RF__min_samples_leaf=2, RF__min_samples_split=2, RF__n_estimators=450; total time=   1.8s\n",
      "[CV] END RF__bootstrap=True, RF__criterion=gini, RF__max_depth=15, RF__max_features=auto, RF__min_samples_leaf=2, RF__min_samples_split=3, RF__n_estimators=450; total time=   1.8s\n",
      "[CV] END RF__bootstrap=True, RF__criterion=entropy, RF__max_depth=25, RF__max_features=10, RF__min_samples_leaf=2, RF__min_samples_split=2, RF__n_estimators=550; total time=   2.3s\n",
      "[CV] END RF__bootstrap=True, RF__criterion=gini, RF__max_depth=25, RF__max_features=10, RF__min_samples_leaf=3, RF__min_samples_split=3, RF__n_estimators=400; total time=   1.7s\n",
      "[CV] END RF__bootstrap=True, RF__criterion=entropy, RF__max_depth=15, RF__max_features=auto, RF__min_samples_leaf=2, RF__min_samples_split=2, RF__n_estimators=550; total time=   2.1s\n",
      "[CV] END RF__bootstrap=True, RF__criterion=gini, RF__max_depth=15, RF__max_features=10, RF__min_samples_leaf=2, RF__min_samples_split=2, RF__n_estimators=500; total time=   2.1s\n",
      "[CV] END RF__bootstrap=True, RF__criterion=entropy, RF__max_depth=20, RF__max_features=sqrt, RF__min_samples_leaf=2, RF__min_samples_split=2, RF__n_estimators=550; total time=   2.7s\n",
      "[CV] END RF__bootstrap=True, RF__criterion=entropy, RF__max_depth=15, RF__max_features=auto, RF__min_samples_leaf=3, RF__min_samples_split=2, RF__n_estimators=500; total time=   2.8s\n",
      "[CV] END RF__bootstrap=True, RF__criterion=gini, RF__max_depth=15, RF__max_features=10, RF__min_samples_leaf=2, RF__min_samples_split=3, RF__n_estimators=500; total time=   2.2s\n",
      "[CV] END RF__bootstrap=True, RF__criterion=entropy, RF__max_depth=20, RF__max_features=sqrt, RF__min_samples_leaf=3, RF__min_samples_split=3, RF__n_estimators=400; total time=   1.7s\n",
      "[CV] END RF__bootstrap=True, RF__criterion=gini, RF__max_depth=25, RF__max_features=auto, RF__min_samples_leaf=3, RF__min_samples_split=2, RF__n_estimators=550; total time=   2.1s\n",
      "[CV] END RF__bootstrap=True, RF__criterion=entropy, RF__max_depth=20, RF__max_features=10, RF__min_samples_leaf=2, RF__min_samples_split=2, RF__n_estimators=450; total time=   2.1s\n",
      "[CV] END RF__bootstrap=True, RF__criterion=entropy, RF__max_depth=25, RF__max_features=auto, RF__min_samples_leaf=3, RF__min_samples_split=2, RF__n_estimators=400; total time=   1.6s\n",
      "[CV] END RF__bootstrap=True, RF__criterion=entropy, RF__max_depth=20, RF__max_features=10, RF__min_samples_leaf=3, RF__min_samples_split=2, RF__n_estimators=550; total time=   2.4s\n",
      "[CV] END RF__bootstrap=True, RF__criterion=gini, RF__max_depth=20, RF__max_features=auto, RF__min_samples_leaf=2, RF__min_samples_split=3, RF__n_estimators=500; total time=   1.9s\n",
      "[CV] END RF__bootstrap=True, RF__criterion=entropy, RF__max_depth=20, RF__max_features=auto, RF__min_samples_leaf=3, RF__min_samples_split=3, RF__n_estimators=550; total time=   2.0s\n",
      "[CV] END RF__bootstrap=True, RF__criterion=entropy, RF__max_depth=15, RF__max_features=auto, RF__min_samples_leaf=2, RF__min_samples_split=3, RF__n_estimators=450; total time=   1.7s\n",
      "[CV] END RF__bootstrap=True, RF__criterion=gini, RF__max_depth=25, RF__max_features=auto, RF__min_samples_leaf=3, RF__min_samples_split=3, RF__n_estimators=400; total time=   1.5s\n",
      "[CV] END RF__bootstrap=True, RF__criterion=gini, RF__max_depth=20, RF__max_features=auto, RF__min_samples_leaf=2, RF__min_samples_split=3, RF__n_estimators=400; total time=   1.6s\n",
      "[CV] END RF__bootstrap=True, RF__criterion=entropy, RF__max_depth=20, RF__max_features=10, RF__min_samples_leaf=2, RF__min_samples_split=2, RF__n_estimators=550; total time=   2.4s\n",
      "[CV] END RF__bootstrap=True, RF__criterion=gini, RF__max_depth=25, RF__max_features=sqrt, RF__min_samples_leaf=2, RF__min_samples_split=3, RF__n_estimators=550; total time=   2.0s\n",
      "[CV] END RF__bootstrap=True, RF__criterion=entropy, RF__max_depth=15, RF__max_features=auto, RF__min_samples_leaf=2, RF__min_samples_split=3, RF__n_estimators=550; total time=   2.1s\n",
      "[CV] END RF__bootstrap=True, RF__criterion=gini, RF__max_depth=15, RF__max_features=sqrt, RF__min_samples_leaf=3, RF__min_samples_split=3, RF__n_estimators=400; total time=   1.7s\n",
      "[CV] END RF__bootstrap=True, RF__criterion=entropy, RF__max_depth=20, RF__max_features=10, RF__min_samples_leaf=2, RF__min_samples_split=3, RF__n_estimators=400; total time=   2.0s\n",
      "[CV] END RF__bootstrap=True, RF__criterion=gini, RF__max_depth=20, RF__max_features=sqrt, RF__min_samples_leaf=2, RF__min_samples_split=3, RF__n_estimators=400; total time=   1.5s\n",
      "[CV] END RF__bootstrap=True, RF__criterion=entropy, RF__max_depth=20, RF__max_features=auto, RF__min_samples_leaf=3, RF__min_samples_split=3, RF__n_estimators=500; total time=   1.9s\n",
      "[CV] END RF__bootstrap=True, RF__criterion=entropy, RF__max_depth=25, RF__max_features=10, RF__min_samples_leaf=2, RF__min_samples_split=2, RF__n_estimators=500; total time=   2.1s\n"
     ]
    },
    {
     "name": "stdout",
     "output_type": "stream",
     "text": [
      "[CV] END RF__bootstrap=True, RF__criterion=entropy, RF__max_depth=25, RF__max_features=sqrt, RF__min_samples_leaf=3, RF__min_samples_split=3, RF__n_estimators=450; total time=   1.7s\n",
      "[CV] END RF__bootstrap=True, RF__criterion=gini, RF__max_depth=15, RF__max_features=auto, RF__min_samples_leaf=3, RF__min_samples_split=2, RF__n_estimators=500; total time=   1.8s\n",
      "[CV] END RF__bootstrap=True, RF__criterion=entropy, RF__max_depth=20, RF__max_features=sqrt, RF__min_samples_leaf=2, RF__min_samples_split=3, RF__n_estimators=450; total time=   1.7s\n",
      "[CV] END RF__bootstrap=True, RF__criterion=entropy, RF__max_depth=15, RF__max_features=10, RF__min_samples_leaf=3, RF__min_samples_split=3, RF__n_estimators=450; total time=   2.0s\n",
      "[CV] END RF__bootstrap=True, RF__criterion=entropy, RF__max_depth=20, RF__max_features=sqrt, RF__min_samples_leaf=2, RF__min_samples_split=2, RF__n_estimators=500; total time=   1.8s\n",
      "[CV] END RF__bootstrap=True, RF__criterion=gini, RF__max_depth=20, RF__max_features=10, RF__min_samples_leaf=2, RF__min_samples_split=2, RF__n_estimators=550; total time=   2.6s\n",
      "[CV] END RF__bootstrap=True, RF__criterion=gini, RF__max_depth=20, RF__max_features=auto, RF__min_samples_leaf=3, RF__min_samples_split=2, RF__n_estimators=500; total time=   1.8s\n",
      "[CV] END RF__bootstrap=True, RF__criterion=entropy, RF__max_depth=25, RF__max_features=10, RF__min_samples_leaf=3, RF__min_samples_split=3, RF__n_estimators=550; total time=   2.1s\n",
      "[CV] END RF__bootstrap=True, RF__criterion=gini, RF__max_depth=15, RF__max_features=sqrt, RF__min_samples_leaf=2, RF__min_samples_split=3, RF__n_estimators=550; total time=   2.0s\n",
      "[CV] END RF__bootstrap=True, RF__criterion=entropy, RF__max_depth=15, RF__max_features=sqrt, RF__min_samples_leaf=3, RF__min_samples_split=3, RF__n_estimators=500; total time=   2.0s\n",
      "[CV] END RF__bootstrap=True, RF__criterion=entropy, RF__max_depth=20, RF__max_features=10, RF__min_samples_leaf=3, RF__min_samples_split=3, RF__n_estimators=450; total time=   1.8s\n",
      "[CV] END RF__bootstrap=True, RF__criterion=entropy, RF__max_depth=20, RF__max_features=sqrt, RF__min_samples_leaf=3, RF__min_samples_split=2, RF__n_estimators=500; total time=   2.2s\n",
      "[CV] END RF__bootstrap=True, RF__criterion=gini, RF__max_depth=20, RF__max_features=10, RF__min_samples_leaf=3, RF__min_samples_split=2, RF__n_estimators=550; total time=   1.6s\n",
      "[CV] END RF__bootstrap=True, RF__criterion=gini, RF__max_depth=20, RF__max_features=sqrt, RF__min_samples_leaf=2, RF__min_samples_split=2, RF__n_estimators=450; total time=   1.2s\n",
      "[CV] END RF__bootstrap=True, RF__criterion=gini, RF__max_depth=15, RF__max_features=sqrt, RF__min_samples_leaf=3, RF__min_samples_split=3, RF__n_estimators=450; total time=   1.2s\n",
      "[CV] END RF__bootstrap=True, RF__criterion=entropy, RF__max_depth=15, RF__max_features=10, RF__min_samples_leaf=2, RF__min_samples_split=3, RF__n_estimators=550; total time=   1.7s\n",
      "[CV] END RF__bootstrap=True, RF__criterion=gini, RF__max_depth=15, RF__max_features=10, RF__min_samples_leaf=2, RF__min_samples_split=2, RF__n_estimators=450; total time=   1.9s\n",
      "[CV] END RF__bootstrap=True, RF__criterion=gini, RF__max_depth=20, RF__max_features=sqrt, RF__min_samples_leaf=2, RF__min_samples_split=3, RF__n_estimators=550; total time=   2.4s\n",
      "[CV] END RF__bootstrap=True, RF__criterion=entropy, RF__max_depth=20, RF__max_features=10, RF__min_samples_leaf=3, RF__min_samples_split=3, RF__n_estimators=550; total time=   2.4s\n",
      "[CV] END RF__bootstrap=True, RF__criterion=gini, RF__max_depth=25, RF__max_features=sqrt, RF__min_samples_leaf=2, RF__min_samples_split=3, RF__n_estimators=450; total time=   1.8s\n",
      "[CV] END RF__bootstrap=True, RF__criterion=entropy, RF__max_depth=25, RF__max_features=10, RF__min_samples_leaf=2, RF__min_samples_split=2, RF__n_estimators=550; total time=   2.5s\n",
      "[CV] END RF__bootstrap=True, RF__criterion=entropy, RF__max_depth=15, RF__max_features=10, RF__min_samples_leaf=2, RF__min_samples_split=2, RF__n_estimators=500; total time=   2.2s\n",
      "[CV] END RF__bootstrap=True, RF__criterion=gini, RF__max_depth=15, RF__max_features=10, RF__min_samples_leaf=2, RF__min_samples_split=2, RF__n_estimators=500; total time=   2.1s\n",
      "[CV] END RF__bootstrap=True, RF__criterion=entropy, RF__max_depth=20, RF__max_features=sqrt, RF__min_samples_leaf=2, RF__min_samples_split=2, RF__n_estimators=550; total time=   2.4s\n",
      "[CV] END RF__bootstrap=True, RF__criterion=gini, RF__max_depth=15, RF__max_features=auto, RF__min_samples_leaf=3, RF__min_samples_split=2, RF__n_estimators=550; total time=   2.9s\n",
      "[CV] END RF__bootstrap=True, RF__criterion=gini, RF__max_depth=15, RF__max_features=10, RF__min_samples_leaf=2, RF__min_samples_split=3, RF__n_estimators=500; total time=   2.4s\n",
      "[CV] END RF__bootstrap=True, RF__criterion=gini, RF__max_depth=25, RF__max_features=auto, RF__min_samples_leaf=3, RF__min_samples_split=2, RF__n_estimators=500; total time=   2.1s\n",
      "[CV] END RF__bootstrap=True, RF__criterion=gini, RF__max_depth=25, RF__max_features=auto, RF__min_samples_leaf=3, RF__min_samples_split=2, RF__n_estimators=550; total time=   2.2s\n",
      "[CV] END RF__bootstrap=True, RF__criterion=entropy, RF__max_depth=20, RF__max_features=10, RF__min_samples_leaf=2, RF__min_samples_split=2, RF__n_estimators=450; total time=   2.0s\n",
      "[CV] END RF__bootstrap=True, RF__criterion=entropy, RF__max_depth=25, RF__max_features=auto, RF__min_samples_leaf=3, RF__min_samples_split=2, RF__n_estimators=400; total time=   1.6s\n",
      "[CV] END RF__bootstrap=True, RF__criterion=entropy, RF__max_depth=20, RF__max_features=10, RF__min_samples_leaf=3, RF__min_samples_split=2, RF__n_estimators=550; total time=   2.3s\n",
      "[CV] END RF__bootstrap=True, RF__criterion=gini, RF__max_depth=20, RF__max_features=auto, RF__min_samples_leaf=2, RF__min_samples_split=3, RF__n_estimators=500; total time=   1.9s\n",
      "[CV] END RF__bootstrap=True, RF__criterion=entropy, RF__max_depth=20, RF__max_features=sqrt, RF__min_samples_leaf=3, RF__min_samples_split=3, RF__n_estimators=550; total time=   2.1s\n",
      "[CV] END RF__bootstrap=True, RF__criterion=entropy, RF__max_depth=15, RF__max_features=auto, RF__min_samples_leaf=2, RF__min_samples_split=3, RF__n_estimators=450; total time=   1.8s\n",
      "[CV] END RF__bootstrap=True, RF__criterion=entropy, RF__max_depth=15, RF__max_features=auto, RF__min_samples_leaf=2, RF__min_samples_split=3, RF__n_estimators=400; total time=   1.6s\n",
      "[CV] END RF__bootstrap=True, RF__criterion=gini, RF__max_depth=20, RF__max_features=auto, RF__min_samples_leaf=2, RF__min_samples_split=3, RF__n_estimators=400; total time=   1.5s\n",
      "[CV] END RF__bootstrap=True, RF__criterion=entropy, RF__max_depth=20, RF__max_features=10, RF__min_samples_leaf=2, RF__min_samples_split=2, RF__n_estimators=550; total time=   2.3s\n",
      "[CV] END RF__bootstrap=True, RF__criterion=entropy, RF__max_depth=15, RF__max_features=auto, RF__min_samples_leaf=3, RF__min_samples_split=2, RF__n_estimators=550; total time=   2.2s\n",
      "[CV] END RF__bootstrap=True, RF__criterion=entropy, RF__max_depth=15, RF__max_features=auto, RF__min_samples_leaf=2, RF__min_samples_split=3, RF__n_estimators=550; total time=   2.2s\n",
      "[CV] END RF__bootstrap=True, RF__criterion=gini, RF__max_depth=20, RF__max_features=10, RF__min_samples_leaf=2, RF__min_samples_split=3, RF__n_estimators=400; total time=   1.8s\n",
      "[CV] END RF__bootstrap=True, RF__criterion=entropy, RF__max_depth=25, RF__max_features=10, RF__min_samples_leaf=3, RF__min_samples_split=3, RF__n_estimators=450; total time=   2.2s\n",
      "[CV] END RF__bootstrap=True, RF__criterion=gini, RF__max_depth=20, RF__max_features=sqrt, RF__min_samples_leaf=2, RF__min_samples_split=3, RF__n_estimators=400; total time=   1.5s\n",
      "[CV] END RF__bootstrap=True, RF__criterion=entropy, RF__max_depth=20, RF__max_features=auto, RF__min_samples_leaf=3, RF__min_samples_split=3, RF__n_estimators=500; total time=   1.9s\n",
      "[CV] END RF__bootstrap=True, RF__criterion=entropy, RF__max_depth=15, RF__max_features=10, RF__min_samples_leaf=2, RF__min_samples_split=2, RF__n_estimators=550; total time=   2.4s\n",
      "[CV] END RF__bootstrap=True, RF__criterion=entropy, RF__max_depth=25, RF__max_features=sqrt, RF__min_samples_leaf=3, RF__min_samples_split=3, RF__n_estimators=450; total time=   1.6s\n",
      "[CV] END RF__bootstrap=True, RF__criterion=gini, RF__max_depth=15, RF__max_features=auto, RF__min_samples_leaf=3, RF__min_samples_split=2, RF__n_estimators=500; total time=   1.8s\n",
      "[CV] END RF__bootstrap=True, RF__criterion=entropy, RF__max_depth=20, RF__max_features=sqrt, RF__min_samples_leaf=2, RF__min_samples_split=3, RF__n_estimators=450; total time=   1.9s\n",
      "[CV] END RF__bootstrap=True, RF__criterion=entropy, RF__max_depth=15, RF__max_features=sqrt, RF__min_samples_leaf=3, RF__min_samples_split=2, RF__n_estimators=500; total time=   1.9s\n",
      "[CV] END RF__bootstrap=True, RF__criterion=gini, RF__max_depth=20, RF__max_features=10, RF__min_samples_leaf=2, RF__min_samples_split=2, RF__n_estimators=550; total time=   2.4s\n",
      "[CV] END RF__bootstrap=True, RF__criterion=entropy, RF__max_depth=25, RF__max_features=10, RF__min_samples_leaf=2, RF__min_samples_split=2, RF__n_estimators=400; total time=   1.8s\n"
     ]
    },
    {
     "name": "stdout",
     "output_type": "stream",
     "text": [
      "[CV] END RF__bootstrap=True, RF__criterion=gini, RF__max_depth=20, RF__max_features=auto, RF__min_samples_leaf=3, RF__min_samples_split=2, RF__n_estimators=500; total time=   2.0s\n",
      "[CV] END RF__bootstrap=True, RF__criterion=entropy, RF__max_depth=25, RF__max_features=10, RF__min_samples_leaf=3, RF__min_samples_split=3, RF__n_estimators=550; total time=   2.3s\n",
      "[CV] END RF__bootstrap=True, RF__criterion=gini, RF__max_depth=15, RF__max_features=sqrt, RF__min_samples_leaf=2, RF__min_samples_split=3, RF__n_estimators=550; total time=   2.1s\n",
      "[CV] END RF__bootstrap=True, RF__criterion=entropy, RF__max_depth=15, RF__max_features=auto, RF__min_samples_leaf=2, RF__min_samples_split=3, RF__n_estimators=500; total time=   1.9s\n",
      "[CV] END RF__bootstrap=True, RF__criterion=entropy, RF__max_depth=20, RF__max_features=sqrt, RF__min_samples_leaf=3, RF__min_samples_split=2, RF__n_estimators=500; total time=   1.9s\n",
      "[CV] END RF__bootstrap=True, RF__criterion=entropy, RF__max_depth=20, RF__max_features=10, RF__min_samples_leaf=2, RF__min_samples_split=2, RF__n_estimators=400; total time=   2.0s\n",
      "[CV] END RF__bootstrap=True, RF__criterion=entropy, RF__max_depth=20, RF__max_features=auto, RF__min_samples_leaf=3, RF__min_samples_split=2, RF__n_estimators=500; total time=   2.5s\n",
      "Random Forest\n",
      "Best Score: 0.8350260498399347\n",
      "Best Parameters: {'RF__n_estimators': 400, 'RF__min_samples_split': 3, 'RF__min_samples_leaf': 3, 'RF__max_features': 10, 'RF__max_depth': 25, 'RF__criterion': 'gini', 'RF__bootstrap': True}\n"
     ]
    }
   ],
   "source": [
    "RF_pipe = Pipeline([('Preprocess', Preprocess),\n",
    "                   ('RF', RandomForestClassifier(random_state=7))])\n",
    "\n",
    "param_grid = {'RF__n_estimators': [400, 450, 500, 550],\n",
    "              'RF__criterion': ['gini', 'entropy'],\n",
    "              'RF__bootstrap': [True],\n",
    "              'RF__max_depth': [15, 20, 25],\n",
    "              'RF__max_features': ['auto', 'sqrt', 10],\n",
    "              'RF__min_samples_leaf': [2, 3],\n",
    "              'RF__min_samples_split': [2, 3]}\n",
    "\n",
    "RF_rand = RandomizedSearchCV(\n",
    "    RF_pipe, param_distributions=param_grid, n_iter=100, cv=5, verbose=2, n_jobs=-1)\n",
    "best_RF = RF_rand.fit(df, y)\n",
    "clf_performance(best_RF, 'Random Forest')"
   ]
  }
 ],
 "metadata": {
  "celltoolbar": "Initialization Cell",
  "kernelspec": {
   "display_name": "Python 3 (ipykernel)",
   "language": "python",
   "name": "python3"
  },
  "language_info": {
   "codemirror_mode": {
    "name": "ipython",
    "version": 3
   },
   "file_extension": ".py",
   "mimetype": "text/x-python",
   "name": "python",
   "nbconvert_exporter": "python",
   "pygments_lexer": "ipython3",
   "version": "3.8.10"
  },
  "varInspector": {
   "cols": {
    "lenName": 16,
    "lenType": 16,
    "lenVar": 40
   },
   "kernels_config": {
    "python": {
     "delete_cmd_postfix": "",
     "delete_cmd_prefix": "del ",
     "library": "var_list.py",
     "varRefreshCmd": "print(var_dic_list())"
    },
    "r": {
     "delete_cmd_postfix": ") ",
     "delete_cmd_prefix": "rm(",
     "library": "var_list.r",
     "varRefreshCmd": "cat(var_dic_list()) "
    }
   },
   "position": {
    "height": "144.45px",
    "left": "1167px",
    "right": "20px",
    "top": "120px",
    "width": "350px"
   },
   "types_to_exclude": [
    "module",
    "function",
    "builtin_function_or_method",
    "instance",
    "_Feature"
   ],
   "window_display": false
  }
 },
 "nbformat": 4,
 "nbformat_minor": 4
}
