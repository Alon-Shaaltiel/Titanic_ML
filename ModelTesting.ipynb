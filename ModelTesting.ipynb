{
 "cells": [
  {
   "cell_type": "code",
   "execution_count": 1,
   "metadata": {
    "ExecuteTime": {
     "end_time": "2021-09-23T18:25:26.190507Z",
     "start_time": "2021-09-23T18:25:26.179730Z"
    },
    "init_cell": true
   },
   "outputs": [
    {
     "data": {
      "text/plain": [
       "<ipykernel.iostream.OutStream at 0x7ff1ecf288e0>"
      ]
     },
     "execution_count": 1,
     "metadata": {},
     "output_type": "execute_result"
    }
   ],
   "source": [
    "import sys\n",
    "\n",
    "if str(type(sys.stdout)) == \"<class 'ipykernel.iostream.OutStream'>\":\n",
    "    saved_std = sys.stdout\n",
    "else:\n",
    "    sys.stdout = saved_std\n",
    "\n",
    "sys.stdout"
   ]
  },
  {
   "cell_type": "code",
   "execution_count": 2,
   "metadata": {
    "ExecuteTime": {
     "end_time": "2021-09-23T18:25:35.907708Z",
     "start_time": "2021-09-23T18:25:26.193608Z"
    },
    "init_cell": true
   },
   "outputs": [],
   "source": [
    "#models:\n",
    "from sklearn.model_selection import cross_val_score\n",
    "from sklearn.linear_model import LogisticRegression\n",
    "from sklearn.svm import SVC\n",
    "from sklearn import tree\n",
    "from sklearn.naive_bayes import GaussianNB\n",
    "from sklearn.neighbors import KNeighborsClassifier\n",
    "from sklearn.ensemble import RandomForestClassifier, VotingClassifier\n",
    "from xgboost import XGBClassifier\n",
    "\n",
    "\n",
    "#Preprocessing:\n",
    "from sklearn.preprocessing import OneHotEncoder, StandardScaler, FunctionTransformer\n",
    "from sklearn.impute import SimpleImputer\n",
    "from sklearn.compose import ColumnTransformer\n",
    "\n",
    "\n",
    "#Other:\n",
    "from sklearn.model_selection import cross_val_score, GridSearchCV, RandomizedSearchCV\n",
    "from sklearn.pipeline import Pipeline\n",
    "from sklearn import metrics\n",
    "import pandas as pd\n",
    "import numpy as np\n",
    "import seaborn as sns\n",
    "import matplotlib.pyplot as plt"
   ]
  },
  {
   "cell_type": "code",
   "execution_count": 3,
   "metadata": {
    "ExecuteTime": {
     "end_time": "2021-09-23T18:25:35.989244Z",
     "start_time": "2021-09-23T18:25:35.909719Z"
    },
    "init_cell": true,
    "scrolled": true
   },
   "outputs": [
    {
     "data": {
      "text/html": [
       "<div>\n",
       "<style scoped>\n",
       "    .dataframe tbody tr th:only-of-type {\n",
       "        vertical-align: middle;\n",
       "    }\n",
       "\n",
       "    .dataframe tbody tr th {\n",
       "        vertical-align: top;\n",
       "    }\n",
       "\n",
       "    .dataframe thead th {\n",
       "        text-align: right;\n",
       "    }\n",
       "</style>\n",
       "<table border=\"1\" class=\"dataframe\">\n",
       "  <thead>\n",
       "    <tr style=\"text-align: right;\">\n",
       "      <th></th>\n",
       "      <th>Pclass</th>\n",
       "      <th>Sex</th>\n",
       "      <th>Age</th>\n",
       "      <th>SibSp</th>\n",
       "      <th>Parch</th>\n",
       "      <th>Fare</th>\n",
       "      <th>Embarked</th>\n",
       "      <th>Title</th>\n",
       "      <th>Deck</th>\n",
       "      <th>hasNChildren</th>\n",
       "      <th>hasCabin</th>\n",
       "      <th>has1or2sib</th>\n",
       "      <th>has3PSib</th>\n",
       "    </tr>\n",
       "    <tr>\n",
       "      <th>PassengerId</th>\n",
       "      <th></th>\n",
       "      <th></th>\n",
       "      <th></th>\n",
       "      <th></th>\n",
       "      <th></th>\n",
       "      <th></th>\n",
       "      <th></th>\n",
       "      <th></th>\n",
       "      <th></th>\n",
       "      <th></th>\n",
       "      <th></th>\n",
       "      <th></th>\n",
       "      <th></th>\n",
       "    </tr>\n",
       "  </thead>\n",
       "  <tbody>\n",
       "    <tr>\n",
       "      <th>1</th>\n",
       "      <td>3</td>\n",
       "      <td>male</td>\n",
       "      <td>22.0</td>\n",
       "      <td>1</td>\n",
       "      <td>0</td>\n",
       "      <td>7.2500</td>\n",
       "      <td>S</td>\n",
       "      <td>Mr.</td>\n",
       "      <td>U</td>\n",
       "      <td>0</td>\n",
       "      <td>0</td>\n",
       "      <td>1</td>\n",
       "      <td>0</td>\n",
       "    </tr>\n",
       "    <tr>\n",
       "      <th>2</th>\n",
       "      <td>1</td>\n",
       "      <td>female</td>\n",
       "      <td>38.0</td>\n",
       "      <td>1</td>\n",
       "      <td>0</td>\n",
       "      <td>71.2833</td>\n",
       "      <td>C</td>\n",
       "      <td>Mrs.</td>\n",
       "      <td>C</td>\n",
       "      <td>0</td>\n",
       "      <td>1</td>\n",
       "      <td>1</td>\n",
       "      <td>0</td>\n",
       "    </tr>\n",
       "    <tr>\n",
       "      <th>3</th>\n",
       "      <td>3</td>\n",
       "      <td>female</td>\n",
       "      <td>26.0</td>\n",
       "      <td>0</td>\n",
       "      <td>0</td>\n",
       "      <td>7.9250</td>\n",
       "      <td>S</td>\n",
       "      <td>Miss.</td>\n",
       "      <td>U</td>\n",
       "      <td>0</td>\n",
       "      <td>0</td>\n",
       "      <td>0</td>\n",
       "      <td>0</td>\n",
       "    </tr>\n",
       "    <tr>\n",
       "      <th>4</th>\n",
       "      <td>1</td>\n",
       "      <td>female</td>\n",
       "      <td>35.0</td>\n",
       "      <td>1</td>\n",
       "      <td>0</td>\n",
       "      <td>53.1000</td>\n",
       "      <td>S</td>\n",
       "      <td>Mrs.</td>\n",
       "      <td>C</td>\n",
       "      <td>0</td>\n",
       "      <td>1</td>\n",
       "      <td>1</td>\n",
       "      <td>0</td>\n",
       "    </tr>\n",
       "    <tr>\n",
       "      <th>5</th>\n",
       "      <td>3</td>\n",
       "      <td>male</td>\n",
       "      <td>35.0</td>\n",
       "      <td>0</td>\n",
       "      <td>0</td>\n",
       "      <td>8.0500</td>\n",
       "      <td>S</td>\n",
       "      <td>Mr.</td>\n",
       "      <td>U</td>\n",
       "      <td>0</td>\n",
       "      <td>0</td>\n",
       "      <td>0</td>\n",
       "      <td>0</td>\n",
       "    </tr>\n",
       "    <tr>\n",
       "      <th>...</th>\n",
       "      <td>...</td>\n",
       "      <td>...</td>\n",
       "      <td>...</td>\n",
       "      <td>...</td>\n",
       "      <td>...</td>\n",
       "      <td>...</td>\n",
       "      <td>...</td>\n",
       "      <td>...</td>\n",
       "      <td>...</td>\n",
       "      <td>...</td>\n",
       "      <td>...</td>\n",
       "      <td>...</td>\n",
       "      <td>...</td>\n",
       "    </tr>\n",
       "    <tr>\n",
       "      <th>887</th>\n",
       "      <td>2</td>\n",
       "      <td>male</td>\n",
       "      <td>27.0</td>\n",
       "      <td>0</td>\n",
       "      <td>0</td>\n",
       "      <td>13.0000</td>\n",
       "      <td>S</td>\n",
       "      <td>Mr.</td>\n",
       "      <td>U</td>\n",
       "      <td>0</td>\n",
       "      <td>0</td>\n",
       "      <td>0</td>\n",
       "      <td>0</td>\n",
       "    </tr>\n",
       "    <tr>\n",
       "      <th>888</th>\n",
       "      <td>1</td>\n",
       "      <td>female</td>\n",
       "      <td>19.0</td>\n",
       "      <td>0</td>\n",
       "      <td>0</td>\n",
       "      <td>30.0000</td>\n",
       "      <td>S</td>\n",
       "      <td>Miss.</td>\n",
       "      <td>B</td>\n",
       "      <td>0</td>\n",
       "      <td>1</td>\n",
       "      <td>0</td>\n",
       "      <td>0</td>\n",
       "    </tr>\n",
       "    <tr>\n",
       "      <th>889</th>\n",
       "      <td>3</td>\n",
       "      <td>female</td>\n",
       "      <td>15.0</td>\n",
       "      <td>1</td>\n",
       "      <td>2</td>\n",
       "      <td>23.4500</td>\n",
       "      <td>S</td>\n",
       "      <td>Miss.</td>\n",
       "      <td>U</td>\n",
       "      <td>0</td>\n",
       "      <td>0</td>\n",
       "      <td>1</td>\n",
       "      <td>0</td>\n",
       "    </tr>\n",
       "    <tr>\n",
       "      <th>890</th>\n",
       "      <td>1</td>\n",
       "      <td>male</td>\n",
       "      <td>26.0</td>\n",
       "      <td>0</td>\n",
       "      <td>0</td>\n",
       "      <td>30.0000</td>\n",
       "      <td>C</td>\n",
       "      <td>Mr.</td>\n",
       "      <td>C</td>\n",
       "      <td>0</td>\n",
       "      <td>1</td>\n",
       "      <td>0</td>\n",
       "      <td>0</td>\n",
       "    </tr>\n",
       "    <tr>\n",
       "      <th>891</th>\n",
       "      <td>3</td>\n",
       "      <td>male</td>\n",
       "      <td>32.0</td>\n",
       "      <td>0</td>\n",
       "      <td>0</td>\n",
       "      <td>7.7500</td>\n",
       "      <td>Q</td>\n",
       "      <td>Mr.</td>\n",
       "      <td>U</td>\n",
       "      <td>0</td>\n",
       "      <td>0</td>\n",
       "      <td>0</td>\n",
       "      <td>0</td>\n",
       "    </tr>\n",
       "  </tbody>\n",
       "</table>\n",
       "<p>891 rows × 13 columns</p>\n",
       "</div>"
      ],
      "text/plain": [
       "             Pclass     Sex   Age  SibSp  Parch     Fare Embarked  Title Deck  \\\n",
       "PassengerId                                                                     \n",
       "1                 3    male  22.0      1      0   7.2500        S    Mr.    U   \n",
       "2                 1  female  38.0      1      0  71.2833        C   Mrs.    C   \n",
       "3                 3  female  26.0      0      0   7.9250        S  Miss.    U   \n",
       "4                 1  female  35.0      1      0  53.1000        S   Mrs.    C   \n",
       "5                 3    male  35.0      0      0   8.0500        S    Mr.    U   \n",
       "...             ...     ...   ...    ...    ...      ...      ...    ...  ...   \n",
       "887               2    male  27.0      0      0  13.0000        S    Mr.    U   \n",
       "888               1  female  19.0      0      0  30.0000        S  Miss.    B   \n",
       "889               3  female  15.0      1      2  23.4500        S  Miss.    U   \n",
       "890               1    male  26.0      0      0  30.0000        C    Mr.    C   \n",
       "891               3    male  32.0      0      0   7.7500        Q    Mr.    U   \n",
       "\n",
       "             hasNChildren  hasCabin  has1or2sib  has3PSib  \n",
       "PassengerId                                                \n",
       "1                       0         0           1         0  \n",
       "2                       0         1           1         0  \n",
       "3                       0         0           0         0  \n",
       "4                       0         1           1         0  \n",
       "5                       0         0           0         0  \n",
       "...                   ...       ...         ...       ...  \n",
       "887                     0         0           0         0  \n",
       "888                     0         1           0         0  \n",
       "889                     0         0           1         0  \n",
       "890                     0         1           0         0  \n",
       "891                     0         0           0         0  \n",
       "\n",
       "[891 rows x 13 columns]"
      ]
     },
     "metadata": {},
     "output_type": "display_data"
    },
    {
     "data": {
      "text/html": [
       "<div>\n",
       "<style scoped>\n",
       "    .dataframe tbody tr th:only-of-type {\n",
       "        vertical-align: middle;\n",
       "    }\n",
       "\n",
       "    .dataframe tbody tr th {\n",
       "        vertical-align: top;\n",
       "    }\n",
       "\n",
       "    .dataframe thead th {\n",
       "        text-align: right;\n",
       "    }\n",
       "</style>\n",
       "<table border=\"1\" class=\"dataframe\">\n",
       "  <thead>\n",
       "    <tr style=\"text-align: right;\">\n",
       "      <th></th>\n",
       "      <th>Pclass</th>\n",
       "      <th>Sex</th>\n",
       "      <th>Age</th>\n",
       "      <th>SibSp</th>\n",
       "      <th>Parch</th>\n",
       "      <th>Fare</th>\n",
       "      <th>Embarked</th>\n",
       "      <th>Title</th>\n",
       "      <th>Deck</th>\n",
       "      <th>hasNChildren</th>\n",
       "      <th>hasCabin</th>\n",
       "      <th>has1or2sib</th>\n",
       "      <th>has3PSib</th>\n",
       "    </tr>\n",
       "    <tr>\n",
       "      <th>PassengerId</th>\n",
       "      <th></th>\n",
       "      <th></th>\n",
       "      <th></th>\n",
       "      <th></th>\n",
       "      <th></th>\n",
       "      <th></th>\n",
       "      <th></th>\n",
       "      <th></th>\n",
       "      <th></th>\n",
       "      <th></th>\n",
       "      <th></th>\n",
       "      <th></th>\n",
       "      <th></th>\n",
       "    </tr>\n",
       "  </thead>\n",
       "  <tbody>\n",
       "    <tr>\n",
       "      <th>892</th>\n",
       "      <td>3</td>\n",
       "      <td>male</td>\n",
       "      <td>34.5</td>\n",
       "      <td>0</td>\n",
       "      <td>0</td>\n",
       "      <td>7.8292</td>\n",
       "      <td>Q</td>\n",
       "      <td>Mr.</td>\n",
       "      <td>U</td>\n",
       "      <td>0</td>\n",
       "      <td>0</td>\n",
       "      <td>0</td>\n",
       "      <td>0</td>\n",
       "    </tr>\n",
       "    <tr>\n",
       "      <th>893</th>\n",
       "      <td>3</td>\n",
       "      <td>female</td>\n",
       "      <td>47.0</td>\n",
       "      <td>1</td>\n",
       "      <td>0</td>\n",
       "      <td>7.0000</td>\n",
       "      <td>S</td>\n",
       "      <td>Mrs.</td>\n",
       "      <td>U</td>\n",
       "      <td>0</td>\n",
       "      <td>0</td>\n",
       "      <td>1</td>\n",
       "      <td>0</td>\n",
       "    </tr>\n",
       "    <tr>\n",
       "      <th>894</th>\n",
       "      <td>2</td>\n",
       "      <td>male</td>\n",
       "      <td>62.0</td>\n",
       "      <td>0</td>\n",
       "      <td>0</td>\n",
       "      <td>9.6875</td>\n",
       "      <td>Q</td>\n",
       "      <td>Mr.</td>\n",
       "      <td>U</td>\n",
       "      <td>0</td>\n",
       "      <td>0</td>\n",
       "      <td>0</td>\n",
       "      <td>0</td>\n",
       "    </tr>\n",
       "    <tr>\n",
       "      <th>895</th>\n",
       "      <td>3</td>\n",
       "      <td>male</td>\n",
       "      <td>27.0</td>\n",
       "      <td>0</td>\n",
       "      <td>0</td>\n",
       "      <td>8.6625</td>\n",
       "      <td>S</td>\n",
       "      <td>Mr.</td>\n",
       "      <td>U</td>\n",
       "      <td>0</td>\n",
       "      <td>0</td>\n",
       "      <td>0</td>\n",
       "      <td>0</td>\n",
       "    </tr>\n",
       "    <tr>\n",
       "      <th>896</th>\n",
       "      <td>3</td>\n",
       "      <td>female</td>\n",
       "      <td>22.0</td>\n",
       "      <td>1</td>\n",
       "      <td>1</td>\n",
       "      <td>12.2875</td>\n",
       "      <td>S</td>\n",
       "      <td>Mrs.</td>\n",
       "      <td>U</td>\n",
       "      <td>1</td>\n",
       "      <td>0</td>\n",
       "      <td>1</td>\n",
       "      <td>0</td>\n",
       "    </tr>\n",
       "    <tr>\n",
       "      <th>...</th>\n",
       "      <td>...</td>\n",
       "      <td>...</td>\n",
       "      <td>...</td>\n",
       "      <td>...</td>\n",
       "      <td>...</td>\n",
       "      <td>...</td>\n",
       "      <td>...</td>\n",
       "      <td>...</td>\n",
       "      <td>...</td>\n",
       "      <td>...</td>\n",
       "      <td>...</td>\n",
       "      <td>...</td>\n",
       "      <td>...</td>\n",
       "    </tr>\n",
       "    <tr>\n",
       "      <th>1305</th>\n",
       "      <td>3</td>\n",
       "      <td>male</td>\n",
       "      <td>37.0</td>\n",
       "      <td>0</td>\n",
       "      <td>0</td>\n",
       "      <td>8.0500</td>\n",
       "      <td>S</td>\n",
       "      <td>Mr.</td>\n",
       "      <td>U</td>\n",
       "      <td>0</td>\n",
       "      <td>0</td>\n",
       "      <td>0</td>\n",
       "      <td>0</td>\n",
       "    </tr>\n",
       "    <tr>\n",
       "      <th>1306</th>\n",
       "      <td>1</td>\n",
       "      <td>female</td>\n",
       "      <td>39.0</td>\n",
       "      <td>0</td>\n",
       "      <td>0</td>\n",
       "      <td>108.9000</td>\n",
       "      <td>C</td>\n",
       "      <td>Mr.</td>\n",
       "      <td>C</td>\n",
       "      <td>0</td>\n",
       "      <td>1</td>\n",
       "      <td>0</td>\n",
       "      <td>0</td>\n",
       "    </tr>\n",
       "    <tr>\n",
       "      <th>1307</th>\n",
       "      <td>3</td>\n",
       "      <td>male</td>\n",
       "      <td>38.5</td>\n",
       "      <td>0</td>\n",
       "      <td>0</td>\n",
       "      <td>7.2500</td>\n",
       "      <td>S</td>\n",
       "      <td>Mr.</td>\n",
       "      <td>U</td>\n",
       "      <td>0</td>\n",
       "      <td>0</td>\n",
       "      <td>0</td>\n",
       "      <td>0</td>\n",
       "    </tr>\n",
       "    <tr>\n",
       "      <th>1308</th>\n",
       "      <td>3</td>\n",
       "      <td>male</td>\n",
       "      <td>26.0</td>\n",
       "      <td>0</td>\n",
       "      <td>0</td>\n",
       "      <td>8.0500</td>\n",
       "      <td>S</td>\n",
       "      <td>Mr.</td>\n",
       "      <td>U</td>\n",
       "      <td>0</td>\n",
       "      <td>0</td>\n",
       "      <td>0</td>\n",
       "      <td>0</td>\n",
       "    </tr>\n",
       "    <tr>\n",
       "      <th>1309</th>\n",
       "      <td>3</td>\n",
       "      <td>male</td>\n",
       "      <td>4.0</td>\n",
       "      <td>1</td>\n",
       "      <td>1</td>\n",
       "      <td>22.3583</td>\n",
       "      <td>C</td>\n",
       "      <td>Master.</td>\n",
       "      <td>U</td>\n",
       "      <td>0</td>\n",
       "      <td>0</td>\n",
       "      <td>1</td>\n",
       "      <td>0</td>\n",
       "    </tr>\n",
       "  </tbody>\n",
       "</table>\n",
       "<p>418 rows × 13 columns</p>\n",
       "</div>"
      ],
      "text/plain": [
       "             Pclass     Sex   Age  SibSp  Parch      Fare Embarked    Title  \\\n",
       "PassengerId                                                                   \n",
       "892               3    male  34.5      0      0    7.8292        Q      Mr.   \n",
       "893               3  female  47.0      1      0    7.0000        S     Mrs.   \n",
       "894               2    male  62.0      0      0    9.6875        Q      Mr.   \n",
       "895               3    male  27.0      0      0    8.6625        S      Mr.   \n",
       "896               3  female  22.0      1      1   12.2875        S     Mrs.   \n",
       "...             ...     ...   ...    ...    ...       ...      ...      ...   \n",
       "1305              3    male  37.0      0      0    8.0500        S      Mr.   \n",
       "1306              1  female  39.0      0      0  108.9000        C      Mr.   \n",
       "1307              3    male  38.5      0      0    7.2500        S      Mr.   \n",
       "1308              3    male  26.0      0      0    8.0500        S      Mr.   \n",
       "1309              3    male   4.0      1      1   22.3583        C  Master.   \n",
       "\n",
       "            Deck  hasNChildren  hasCabin  has1or2sib  has3PSib  \n",
       "PassengerId                                                     \n",
       "892            U             0         0           0         0  \n",
       "893            U             0         0           1         0  \n",
       "894            U             0         0           0         0  \n",
       "895            U             0         0           0         0  \n",
       "896            U             1         0           1         0  \n",
       "...          ...           ...       ...         ...       ...  \n",
       "1305           U             0         0           0         0  \n",
       "1306           C             0         1           0         0  \n",
       "1307           U             0         0           0         0  \n",
       "1308           U             0         0           0         0  \n",
       "1309           U             0         0           1         0  \n",
       "\n",
       "[418 rows x 13 columns]"
      ]
     },
     "metadata": {},
     "output_type": "display_data"
    }
   ],
   "source": [
    "df = pd.read_csv('Data/modifiedData.csv', index_col='PassengerId')\n",
    "test = pd.read_csv('Data/modifiedTest.csv', index_col='PassengerId')\n",
    "y = df['Survived']\n",
    "df.drop('Survived',axis=1,inplace=True)\n",
    "display(df)\n",
    "display(test)"
   ]
  },
  {
   "cell_type": "code",
   "execution_count": 30,
   "metadata": {
    "ExecuteTime": {
     "end_time": "2021-09-22T08:35:16.342535Z",
     "start_time": "2021-09-22T08:35:16.340009Z"
    }
   },
   "outputs": [],
   "source": [
    "# Age & Fare were filled in using the appropriate distributions.\n",
    "# SibSp & Parch will be filled in as 0\n",
    "# Pclass & Embarked will be filled in with modal class (3rd and S, respectively) "
   ]
  },
  {
   "cell_type": "code",
   "execution_count": 4,
   "metadata": {
    "ExecuteTime": {
     "end_time": "2021-09-23T18:25:35.997139Z",
     "start_time": "2021-09-23T18:25:35.991691Z"
    },
    "init_cell": true
   },
   "outputs": [],
   "source": [
    "preSib = Pipeline(\n",
    "    [('Sib_NA', SimpleImputer(strategy='constant', fill_value=0)), ('Scaler', StandardScaler())])\n",
    "\n",
    "preSibNoScale = Pipeline(\n",
    "    [('Sib_NA', SimpleImputer(strategy='constant', fill_value=0))])\n",
    "\n",
    "preClass = Pipeline([('Class_NA', SimpleImputer(\n",
    "    strategy='most_frequent')), (\"OHE\", OneHotEncoder(handle_unknown='ignore'))])\n",
    "\n",
    "# handle_unknown='ignore' means that if the OHE encounters a class it doesn't recognize when transforming,\n",
    "# it'll continue instead of throwing an error.\n",
    "\n",
    "scaledFeat = ['Age', 'Fare', 'hasNChildren', 'hasCabin', 'has1or2sib', 'has3PSib']\n",
    "filledFeat = ['SibSp', 'Parch']\n",
    "catFeat = ['Sex', 'Deck', 'Title', 'Embarked', 'Pclass']\n",
    "\n",
    "Preprocess = ColumnTransformer([('Scaler', StandardScaler(), scaledFeat),\n",
    "                                ('FillNA', preSib, filledFeat),\n",
    "                                ('OHE', preClass, catFeat)])\n",
    "\n",
    "PreprocessNoScale = ColumnTransformer([('Identitey', FunctionTransformer(), scaledFeat),\n",
    "                                       ('FillNA', preSib, filledFeat),\n",
    "                                       ('OHE', preClass, catFeat)])"
   ]
  },
  {
   "cell_type": "markdown",
   "metadata": {},
   "source": [
    "The models I'm using are those suggested [here](https://www.kaggle.com/kenjee/titanic-project-example)"
   ]
  },
  {
   "cell_type": "code",
   "execution_count": 32,
   "metadata": {
    "ExecuteTime": {
     "end_time": "2021-09-22T08:35:20.588265Z",
     "start_time": "2021-09-22T08:35:20.480667Z"
    }
   },
   "outputs": [
    {
     "name": "stdout",
     "output_type": "stream",
     "text": [
      "0.7677170296905406\n"
     ]
    }
   ],
   "source": [
    "gnb_pipe = Pipeline([('Preprocess',Preprocess),('GNB',GaussianNB())])\n",
    "cv = cross_val_score(gnb_pipe,df,y,cv=5)\n",
    "print(cv.mean())"
   ]
  },
  {
   "cell_type": "code",
   "execution_count": 33,
   "metadata": {
    "ExecuteTime": {
     "end_time": "2021-09-22T08:35:21.466641Z",
     "start_time": "2021-09-22T08:35:21.349415Z"
    }
   },
   "outputs": [
    {
     "name": "stdout",
     "output_type": "stream",
     "text": [
      "0.7620802209528592\n"
     ]
    }
   ],
   "source": [
    "tree_pipe = Pipeline([('Preprocess',Preprocess),('Tree',tree.DecisionTreeClassifier(random_state=7))])\n",
    "cv = cross_val_score(tree_pipe,df,y,cv=5)\n",
    "print(cv.mean())"
   ]
  },
  {
   "cell_type": "code",
   "execution_count": 34,
   "metadata": {
    "ExecuteTime": {
     "end_time": "2021-09-22T08:35:22.861361Z",
     "start_time": "2021-09-22T08:35:22.365448Z"
    }
   },
   "outputs": [
    {
     "name": "stdout",
     "output_type": "stream",
     "text": [
      "0.827154604230745\n"
     ]
    }
   ],
   "source": [
    "SVC_pipe = Pipeline([('Preprocess',Preprocess),('SVC',SVC(probability = True))])\n",
    "cv = cross_val_score(SVC_pipe,df,y,cv=5)\n",
    "print(cv.mean()) # Maybe try one with less overlapping features."
   ]
  },
  {
   "cell_type": "code",
   "execution_count": 35,
   "metadata": {
    "ExecuteTime": {
     "end_time": "2021-09-22T08:35:24.009732Z",
     "start_time": "2021-09-22T08:35:23.604684Z"
    }
   },
   "outputs": [
    {
     "name": "stdout",
     "output_type": "stream",
     "text": [
      "0.8114744837110036\n"
     ]
    }
   ],
   "source": [
    "xgb_pipe = Pipeline([('Preprocess',Preprocess),\n",
    "                     ('xgb',XGBClassifier(random_state=7,use_label_encoder=False,eval_metric='logloss'))])\n",
    "cv = cross_val_score(xgb_pipe,df,y,cv=5)\n",
    "print(cv.mean()) # Maybe try one with less overlapping features."
   ]
  },
  {
   "cell_type": "code",
   "execution_count": 36,
   "metadata": {
    "ExecuteTime": {
     "end_time": "2021-09-22T08:35:25.134080Z",
     "start_time": "2021-09-22T08:35:24.368756Z"
    }
   },
   "outputs": [
    {
     "name": "stdout",
     "output_type": "stream",
     "text": [
      "0.8024731655263324\n"
     ]
    }
   ],
   "source": [
    "RF_pipe = Pipeline([('Preprocess',Preprocess),('RF',RandomForestClassifier(random_state=7))])\n",
    "cv = cross_val_score(RF_pipe,df,y,cv=5)\n",
    "print(cv.mean())"
   ]
  },
  {
   "cell_type": "code",
   "execution_count": 37,
   "metadata": {
    "ExecuteTime": {
     "end_time": "2021-09-22T08:35:25.776906Z",
     "start_time": "2021-09-22T08:35:25.609253Z"
    },
    "scrolled": true
   },
   "outputs": [
    {
     "name": "stdout",
     "output_type": "stream",
     "text": [
      "0.7957504237022157\n"
     ]
    }
   ],
   "source": [
    "KNN_pipe = Pipeline([('Preprocess',Preprocess),('KNN',KNeighborsClassifier())])\n",
    "cv = cross_val_score(KNN_pipe,df,y,cv=5)\n",
    "print(cv.mean())"
   ]
  },
  {
   "cell_type": "code",
   "execution_count": 38,
   "metadata": {
    "ExecuteTime": {
     "end_time": "2021-09-22T08:35:27.155088Z",
     "start_time": "2021-09-22T08:35:26.944541Z"
    },
    "run_control": {
     "marked": false
    }
   },
   "outputs": [
    {
     "name": "stdout",
     "output_type": "stream",
     "text": [
      "0.8249325214989642\n"
     ]
    }
   ],
   "source": [
    "logreg_pipe = Pipeline([('Preprocess',Preprocess),('Logreg',LogisticRegression())])\n",
    "cv = cross_val_score(logreg_pipe,df,y,cv=5)\n",
    "print(cv.mean())"
   ]
  },
  {
   "cell_type": "code",
   "execution_count": 39,
   "metadata": {
    "ExecuteTime": {
     "end_time": "2021-09-22T08:35:30.314570Z",
     "start_time": "2021-09-22T08:35:28.089279Z"
    }
   },
   "outputs": [
    {
     "name": "stdout",
     "output_type": "stream",
     "text": [
      "0.8350260498399347\n"
     ]
    }
   ],
   "source": [
    "voting_clf = VotingClassifier(estimators = [('lr',logreg_pipe),('knn',KNN_pipe),('rf',RF_pipe),\n",
    "                                            ('svc',SVC_pipe),('xgb',xgb_pipe)], voting = 'soft')\n",
    "cv = cross_val_score(voting_clf,df,y,cv=5)\n",
    "print(cv.mean())"
   ]
  },
  {
   "cell_type": "code",
   "execution_count": 40,
   "metadata": {
    "ExecuteTime": {
     "end_time": "2021-09-22T08:35:31.391945Z",
     "start_time": "2021-09-22T08:35:30.841117Z"
    }
   },
   "outputs": [],
   "source": [
    "voting_clf.fit(df,y)\n",
    "data = np.array([test.index, voting_clf.predict(test)]).T\n",
    "noTunePred = pd.DataFrame(data = data, columns = ['PassengerId','Survived'])\n",
    "noTunePred.to_csv('Predictions/basePrediction.csv', index=False)"
   ]
  },
  {
   "cell_type": "code",
   "execution_count": 5,
   "metadata": {
    "ExecuteTime": {
     "end_time": "2021-09-23T18:25:36.005309Z",
     "start_time": "2021-09-23T18:25:35.999919Z"
    },
    "init_cell": true
   },
   "outputs": [],
   "source": [
    "#simple performance reporting function\n",
    "def clf_performance(classifier, model_name):\n",
    "    print(model_name)\n",
    "    print('Best Score: ' + str(classifier.best_score_))\n",
    "    print('Best Parameters: ' + str(classifier.best_params_))"
   ]
  },
  {
   "cell_type": "markdown",
   "metadata": {},
   "source": [
    "### TO DO (bare minimum):\n",
    "1. ~~Make better grid for logreg~~\n",
    "1. ~~Same for KNN~~\n",
    "1. ~~And RandomForest~~\n",
    "1. ~~Combine all models to voting model.~~\n",
    "\n",
    "### IN THE FUTURE:\n",
    "1. Change classifier scoring method to better reflect dataset.\n",
    "1. Play with weights in voting model\n",
    "1. Try to lessen the over-fitting"
   ]
  },
  {
   "cell_type": "code",
   "execution_count": 31,
   "metadata": {
    "ExecuteTime": {
     "end_time": "2021-09-24T10:38:11.114221Z",
     "start_time": "2021-09-24T10:38:09.873279Z"
    }
   },
   "outputs": [
    {
     "name": "stdout",
     "output_type": "stream",
     "text": [
      "Done :)\n"
     ]
    }
   ],
   "source": [
    "# logreg_pipe = Pipeline([('Preprocess',Preprocess),('Logreg',LogisticRegression())])\n",
    "\n",
    "# param_grid = {'Logreg__max_iter' : [2000],\n",
    "#               'Logreg__penalty' : ['l2'],\n",
    "#               'Logreg__C' :  np.logspace(-4, 4, 17),\n",
    "#               'Logreg__solver' : ['newton-cg', 'lbfgs', 'liblinear']}\n",
    "\n",
    "# lr_grid = GridSearchCV(logreg_pipe, param_grid=param_grid, verbose = 1, n_jobs = -1)\n",
    "# best_lr = lr_grid.fit(df,y)\n",
    "# print('Done with grid :)\\n')\n",
    "\n",
    "# clf_performance(best_lr,'Logistic Regression')\n",
    "\n",
    "best_lr = Pipeline([('Preprocess',Preprocess),('Logreg',LogisticRegression(n_jobs=-1, penalty='l2', C=31.62277, solver='newton-cg'))])\n",
    "best_lr.fit(df,y)\n",
    "print('Done :)')"
   ]
  },
  {
   "cell_type": "code",
   "execution_count": 30,
   "metadata": {
    "ExecuteTime": {
     "end_time": "2021-09-24T10:36:35.171396Z",
     "start_time": "2021-09-24T10:36:35.149679Z"
    }
   },
   "outputs": [
    {
     "name": "stdout",
     "output_type": "stream",
     "text": [
      "Done :)\n"
     ]
    }
   ],
   "source": [
    "# knn_pipe = Pipeline([('Preprocess',Preprocess),('KNN',KNeighborsClassifier())])\n",
    "\n",
    "# param_grid = {'KNN__n_neighbors' : range(1,12,2),\n",
    "#               'KNN__weights' : ['uniform', 'distance'],\n",
    "#               'KNN__p' : [1,2]}\n",
    "# n_neighbors=7, p=1, weights='uniform'\n",
    "\n",
    "# param_grid = {'KNN__n_neighbors' : range(6,9,1),\n",
    "#               'KNN__weights' : ['uniform'],\n",
    "#               'KNN__p' : [1]}\n",
    "# Same result.\n",
    "\n",
    "# param_grid = {'KNN__n_neighbors' : [7],\n",
    "#               'KNN__weights' : ['uniform'],\n",
    "#               'KNN__p' : [1]}\n",
    "\n",
    "# knn_grid = GridSearchCV(knn_pipe, param_grid=param_grid, verbose = 1, n_jobs = -1, cv=5)\n",
    "# best_knn = knn_grid.fit(df,y)\n",
    "# print('Done with grid :)\\n')\n",
    "\n",
    "# clf_performance(best_knn,'KNN')\n",
    "\n",
    "best_knn = Pipeline([('Preprocess',Preprocess),('KNN',KNeighborsClassifier(n_neighbors=7, n_jobs=-1, p=1))])\n",
    "best_knn.fit(df,y)\n",
    "print('Done :)')"
   ]
  },
  {
   "cell_type": "code",
   "execution_count": 24,
   "metadata": {
    "ExecuteTime": {
     "end_time": "2021-09-24T10:31:58.774613Z",
     "start_time": "2021-09-24T10:31:58.624546Z"
    }
   },
   "outputs": [
    {
     "name": "stdout",
     "output_type": "stream",
     "text": [
      "Done :)\n"
     ]
    }
   ],
   "source": [
    "# SVC_pipe = Pipeline([('Preprocess', Preprocess),\n",
    "#                     ('SVC', SVC(probability=True))])\n",
    "\n",
    "# param_grid = tuned_parameters = [{'SVC__kernel': ['linear'], 'SVC__C': [10**i for i in range(-1,2)]},\n",
    "#                                  {'SVC__kernel': ['rbf'], 'SVC__gamma': [.1, 1, 10, 'auto'],\n",
    "#                                   'SVC__C': [10**i for i in range(-1,2)]},\n",
    "#                                  {'SVC__kernel': ['poly'], 'SVC__degree': range(2,7,2),\n",
    "#                                   'SVC__C': [10**i for i in range(-1,2)]}]\n",
    "# final score: 0.829\n",
    "# kernel = 'poly', degree = 2, C = 1\n",
    "\n",
    "# param_grid = tuned_parameters = [{'SVC__kernel': ['poly'], 'SVC__degree': [2,3],\n",
    "#                                   'SVC__C': [i/10 for i in range (9,12,1)]}]\n",
    "# Same result.\n",
    "\n",
    "# SVC_grid = GridSearchCV(SVC_pipe, param_grid=param_grid, verbose=1)\n",
    "# best_SVC = SVC_grid.fit(df, y)\n",
    "# print('Done with grid :)\\n')\n",
    "\n",
    "# clf_performance(best_SVC, 'SVC')\n",
    "\n",
    "best_SVC = Pipeline([('Preprocess', Preprocess),\n",
    "                    ('SVC', SVC(probability=True, kernel='poly', C=1, degree=2))])\n",
    "best_SVC.fit(df,y)\n",
    "print('Done :)')"
   ]
  },
  {
   "cell_type": "code",
   "execution_count": 23,
   "metadata": {
    "ExecuteTime": {
     "end_time": "2021-09-24T10:31:49.735158Z",
     "start_time": "2021-09-24T10:31:48.425681Z"
    }
   },
   "outputs": [
    {
     "name": "stdout",
     "output_type": "stream",
     "text": [
      "Done :)\n"
     ]
    }
   ],
   "source": [
    "# RF_pipe = Pipeline([('Preprocess', Preprocess),\n",
    "#                    ('RF', RandomForestClassifier(random_state=7))])\n",
    "\n",
    "\n",
    "# param_grid = {'RF__n_estimators': [400, 450, 500, 550, 700, 900],\n",
    "#               'RF__max_features': ['auto', 'sqrt', 0.2],\n",
    "#               'RF__min_samples_leaf': [2,5,10]}\n",
    "# final score (auc): 0.87\n",
    "# 'auto', 5, 900\n",
    "\n",
    "# param_grid = {'RF__n_estimators': range(800, 1001, 50),\n",
    "#               'RF__max_features': ['auto'],\n",
    "#               'RF__min_samples_leaf': range(3,7)}\n",
    "# final score (auc): 0.87, tiny bit better.\n",
    "# 5, 850\n",
    "\n",
    "\n",
    "# RF_grid = GridSearchCV(\n",
    "#     RF_pipe, param_grid=param_grid, cv=5, verbose=1, n_jobs=-1, scoring='roc_auc')\n",
    "# best_RF = RF_grid.fit(df, y)\n",
    "# print('Done with grid :)\\n')\n",
    "\n",
    "# clf_performance(best_RF, 'Random Forest')\n",
    "\n",
    "best_RF = Pipeline([('Preprocess', Preprocess),\n",
    "                   ('RF', RandomForestClassifier(random_state=7, min_samples_leaf= 5, n_estimators=850, n_jobs=-1))])\n",
    "\n",
    "best_RF.fit(df,y)\n",
    "print('Done :)')"
   ]
  },
  {
   "cell_type": "code",
   "execution_count": 26,
   "metadata": {
    "ExecuteTime": {
     "end_time": "2021-09-24T10:32:44.207218Z",
     "start_time": "2021-09-24T10:32:44.013774Z"
    }
   },
   "outputs": [
    {
     "name": "stdout",
     "output_type": "stream",
     "text": [
      "Done :)\n"
     ]
    }
   ],
   "source": [
    "# xgb_pipe = Pipeline([('Preprocess', Preprocess),\n",
    "#                      ('xgb', XGBClassifier(random_state=7, use_label_encoder=False, eval_metric='logloss'))])\n",
    "\n",
    "# Needs a bit of sorting.\n",
    "# param_grid = {\n",
    "#     'xgb__n_estimators':range(100,220,10),\n",
    "#     'xgb__min_child_weight': [1],\n",
    "#     'xgb__max_depth':[5],\n",
    "#     'xgb__learning_rate':[0.05],\n",
    "#     'xgb__subsample':[0.8],\n",
    "#     'xgb__colsample_bytree':[0.8],\n",
    "#     'xgb__gamma':[0],\n",
    "#     'xgb__scale_pos_weight':[1],\n",
    "#     'xgb__objective':['binary:logistic']\n",
    "# }\n",
    "# final score: 0.837\n",
    "# from this we get that n_estimators = 160 is the best for learning rate of 0.05\n",
    "\n",
    "# param_grid = {\n",
    "#     'xgb__n_estimators':[160],\n",
    "#     'xgb__min_child_weight': range(1,6,2),\n",
    "#     'xgb__max_depth': range(3,10,2),\n",
    "#     'xgb__learning_rate':[0.05],\n",
    "#     'xgb__subsample':[0.8],\n",
    "#     'xgb__colsample_bytree':[0.8],\n",
    "#     'xgb__gamma':[0],\n",
    "#     'xgb__scale_pos_weight':[1],\n",
    "#     'xgb__objective':['binary:logistic']\n",
    "# }\n",
    "# final score: 0.8395\n",
    "# max_depth = 5, min_child_weight = 3\n",
    "\n",
    "# param_grid = {\n",
    "#     'xgb__n_estimators':[160],\n",
    "#     'xgb__min_child_weight': [2,3,4],\n",
    "#     'xgb__max_depth': [4,5,6],\n",
    "#     'xgb__learning_rate':[0.05],\n",
    "#     'xgb__subsample':[0.8],\n",
    "#     'xgb__colsample_bytree':[0.8],\n",
    "#     'xgb__gamma':[0],\n",
    "#     'xgb__scale_pos_weight':[1],\n",
    "#     'xgb__objective':['binary:logistic']\n",
    "# }\n",
    "# final score: 0.842\n",
    "# max_depth = 6, min_child_weight = 3\n",
    "\n",
    "# param_grid = {\n",
    "#     'xgb__n_estimators':[160],\n",
    "#     'xgb__min_child_weight': [3],\n",
    "#     'xgb__max_depth': [6],\n",
    "#     'xgb__learning_rate':[0.05],\n",
    "#     'xgb__subsample':[0.8],\n",
    "#     'xgb__colsample_bytree':[0.8],\n",
    "#     'xgb__gamma':[i/10.0 for i in range(0,5)],\n",
    "#     'xgb__scale_pos_weight':[1],\n",
    "#     'xgb__objective':['binary:logistic']\n",
    "# }\n",
    "# gamma is best left untouched\n",
    "\n",
    "# param_grid = {\n",
    "#     'xgb__n_estimators':range(150,210,5),\n",
    "#     'xgb__min_child_weight': [3],\n",
    "#     'xgb__max_depth': [6],\n",
    "#     'xgb__learning_rate':[0.05],\n",
    "#     'xgb__subsample':[0.8],\n",
    "#     'xgb__colsample_bytree':[0.8],\n",
    "#     'xgb__gamma':[0],\n",
    "#     'xgb__scale_pos_weight':[1],\n",
    "#     'xgb__objective':['binary:logistic']\n",
    "# }\n",
    "# just checking if it's still the best number of n_estimators.\n",
    "# final score: 0.843\n",
    "# n_estimators = 155\n",
    "\n",
    "# param_grid = {\n",
    "#     'xgb__n_estimators':[155],\n",
    "#     'xgb__min_child_weight': [3],\n",
    "#     'xgb__max_depth': [6],\n",
    "#     'xgb__learning_rate':[0.05],\n",
    "#     'xgb__subsample':[i/10.0 for i in range(6,10)],\n",
    "#     'xgb__colsample_bytree':[i/10.0 for i in range(6,10)],\n",
    "#     'xgb__gamma':[0],\n",
    "#     'xgb__scale_pos_weight':[1],\n",
    "#     'xgb__objective':['binary:logistic']\n",
    "# }\n",
    "# final score: 0.843\n",
    "# subsample, colsample = 0.8\n",
    "\n",
    "# param_grid = {\n",
    "#     'xgb__n_estimators':[155],\n",
    "#     'xgb__min_child_weight': [3],\n",
    "#     'xgb__max_depth': [6],\n",
    "#     'xgb__learning_rate':[0.05],\n",
    "#     'xgb__subsample':[i/100.0 for i in range(75,90,5)],\n",
    "#     'xgb__colsample_bytree':[i/100.0 for i in range(75,90,5)],\n",
    "#     'xgb__gamma':[0],\n",
    "#     'xgb__scale_pos_weight':[1],\n",
    "#     'xgb__objective':['binary:logistic']\n",
    "# }\n",
    "# still the same.\n",
    "\n",
    "# param_grid = {\n",
    "#     'xgb__n_estimators':[155],\n",
    "#     'xgb__min_child_weight': [3],\n",
    "#     'xgb__max_depth': [6],\n",
    "#     'xgb__learning_rate':[0.05],\n",
    "#     'xgb__subsample':[0.8],\n",
    "#     'xgb__colsample_bytree':[0.8],\n",
    "#     'xgb__gamma':[0],\n",
    "#     'xgb__scale_pos_weight':[1],\n",
    "#     'xgb__objective':['binary:logistic'],\n",
    "#     'xgb__reg_alpha':[0, 1e-5, 1e-4, 1e-3],\n",
    "#     'xgb__reg_lambda':[0.05,0.1,0.15]\n",
    "# }\n",
    "# final score: 0.843\n",
    "# alpha: 0, lambda: 0.1\n",
    "\n",
    "# param_grid = {\n",
    "#     'xgb__n_estimators':range(140,250,10),\n",
    "#     'xgb__min_child_weight': [3],\n",
    "#     'xgb__max_depth': [6],\n",
    "#     'xgb__learning_rate': [i/1000 for i in range(30,100,5)],\n",
    "#     'xgb__subsample':[0.8],\n",
    "#     'xgb__colsample_bytree':[0.8],\n",
    "#     'xgb__gamma':[0],\n",
    "#     'xgb__scale_pos_weight':[1],\n",
    "#     'xgb__objective':['binary:logistic'],\n",
    "#     'xgb__reg_alpha':[0],\n",
    "#     'xgb__reg_lambda':[0.1]\n",
    "# }\n",
    "# final score: 0.845\n",
    "# n_extimators = 190, learning_rate = 0.065\n",
    "\n",
    "# param_grid = {\n",
    "#     'xgb__n_estimators': [190],\n",
    "#     'xgb__min_child_weight': [3],\n",
    "#     'xgb__max_depth': [6],\n",
    "#     'xgb__learning_rate': [0.065],\n",
    "#     'xgb__subsample': [0.8],\n",
    "#     'xgb__colsample_bytree': [0.8],\n",
    "#     'xgb__gamma': [0],\n",
    "#     'xgb__scale_pos_weight': [1],\n",
    "#     'xgb__objective': ['binary:logistic'],\n",
    "#     'xgb__reg_alpha': [0],\n",
    "#     'xgb__reg_lambda': [0.1]\n",
    "# }\n",
    "\n",
    "# xgb_grid = GridSearchCV(\n",
    "#     xgb_pipe, param_grid=param_grid, cv=5, verbose=1)\n",
    "# best_xgb = xgb_grid.fit(df, y)\n",
    "# print('Done with grid :)\\n')\n",
    "# clf_performance(best_xgb, 'XGBoost')\n",
    "\n",
    "processedDF = Preprocess.fit_transform(df)\n",
    "best_xgb = XGBClassifier(random_state=7, use_label_encoder=False, eval_metric='logloss',\n",
    "                         n_estimators=190, min_child_weight=3, max_depth=6, learning_rate=0.065,\n",
    "                         subsample=0.8, colsample_bytree=0.8, gamma=0, scale_pos_weight=1,\n",
    "                         objective='binary:logistic', reg_alpha=0, reg_lambda=0.1)\n",
    "\n",
    "best_xgb.fit(processedDF, y)\n",
    "print('Done :)')"
   ]
  },
  {
   "cell_type": "code",
   "execution_count": 76,
   "metadata": {
    "ExecuteTime": {
     "end_time": "2021-09-22T11:30:31.301840Z",
     "start_time": "2021-09-22T11:30:31.261162Z"
    }
   },
   "outputs": [],
   "source": [
    "transTest = Preprocess.transform(test)\n",
    "data = np.array([test.index, best_xgb.predict(transTest)]).T\n",
    "tunedXGB = pd.DataFrame(data = data, columns = ['PassengerId','Survived'])\n",
    "tunedXGB.to_csv('Predictions/tunedXGBPrediction.csv', index=False) # Seems over-fitted. got 76.7%"
   ]
  },
  {
   "cell_type": "markdown",
   "metadata": {},
   "source": [
    "Feature importance:"
   ]
  },
  {
   "cell_type": "markdown",
   "metadata": {},
   "source": [
    "First, I'll have to get the feature names:"
   ]
  },
  {
   "cell_type": "code",
   "execution_count": 86,
   "metadata": {
    "ExecuteTime": {
     "end_time": "2021-09-22T11:42:08.519170Z",
     "start_time": "2021-09-22T11:42:08.210827Z"
    },
    "run_control": {
     "marked": false
    }
   },
   "outputs": [
    {
     "data": {
      "text/plain": [
       "Text(0.5, 0, 'Xgboost Feature Importance')"
      ]
     },
     "execution_count": 86,
     "metadata": {},
     "output_type": "execute_result"
    },
    {
     "data": {
      "image/png": "[encoded data removed]",
      "text/plain": [
       "<Figure size 720x720 with 1 Axes>"
      ]
     },
     "metadata": {
      "needs_background": "light"
     },
     "output_type": "display_data"
    }
   ],
   "source": [
    "oheFeat = Preprocess.transformers_[2][1]['OHE'].get_feature_names(catFeat)\n",
    "# Preprocess.transformers_ is a list: [('Name', Transformer, Columns)] and so, \n",
    "# Preprocess.transformers_[2] is the 3rd transformer's truple (OHE Pipeline).\n",
    "# We then pick the transformer itself in the truple: Preprocess.transformers_[2][1].\n",
    "# This is a pipeline, so we specify which transformer we want from it: Preprocess.transformers_[2][1]['OHE'].\n",
    "# We then get the feature names using OHE's attribute.\n",
    "featNames = np.concatenate([scaledFeat,filledFeat,oheFeat])\n",
    "\n",
    "sorted_idx = best_xgb.feature_importances_.argsort()\n",
    "plt.rcParams['figure.figsize'] = [10, 10]\n",
    "plt.barh(featNames[sorted_idx], best_xgb.feature_importances_[sorted_idx])\n",
    "plt.xlabel(\"Xgboost Feature Importance\")"
   ]
  },
  {
   "cell_type": "markdown",
   "metadata": {},
   "source": [
    "from this it seems that we could try to only include \"hasCabin\" and get rid of the \"Deck\".  \n",
    "I'd also like to get rid of 'has1or2sib'.  \n",
    "'hasNChildren' is a success, as it's better at predicting than 'parch'. however, that may be because it includes title info."
   ]
  },
  {
   "cell_type": "code",
   "execution_count": 115,
   "metadata": {
    "ExecuteTime": {
     "end_time": "2021-09-22T15:59:34.556097Z",
     "start_time": "2021-09-22T15:59:34.552299Z"
    },
    "run_control": {
     "marked": false
    }
   },
   "outputs": [],
   "source": [
    "modScaledFeat = ['Age', 'Fare', 'hasCabin', 'hasNChildren']\n",
    "modFilledFeat = ['SibSp', 'Parch']\n",
    "modCatFeat = ['Sex', 'Title', 'Embarked', 'Pclass']\n",
    "\n",
    "modPreprocess = ColumnTransformer([('Scaler', StandardScaler(), modScaledFeat),\n",
    "                                   ('FillNA', preSib, modFilledFeat),\n",
    "                                   ('OHE', preClass, modCatFeat)])"
   ]
  },
  {
   "cell_type": "code",
   "execution_count": 119,
   "metadata": {
    "ExecuteTime": {
     "end_time": "2021-09-22T16:04:56.982826Z",
     "start_time": "2021-09-22T16:04:56.313307Z"
    },
    "run_control": {
     "marked": false
    }
   },
   "outputs": [
    {
     "name": "stdout",
     "output_type": "stream",
     "text": [
      "[0.83240223 0.80337079 0.86516854 0.83707865 0.85955056]\n"
     ]
    }
   ],
   "source": [
    "best_xgb_pipe = Pipeline([('modPre', modPreprocess),\n",
    "                          ('best_xgb', XGBClassifier(random_state=7, use_label_encoder=False, eval_metric='logloss',\n",
    "                                                     n_estimators=190, min_child_weight=3, max_depth=6, learning_rate=0.065,\n",
    "                                                     subsample=0.8, colsample_bytree=0.8, gamma=0, scale_pos_weight=1,\n",
    "                                                     objective='binary:logistic', reg_alpha=0, reg_lambda=0.1))])\n",
    "\n",
    "cv = cross_val_score(best_xgb_pipe, df, y, cv=5)\n",
    "print(cv)\n",
    "\n",
    "best_xgb_pipe.fit(df,y)\n",
    "data = np.array([test.index, best_xgb_pipe.predict(test)]).T\n",
    "modXGB = pd.DataFrame(data = data, columns = ['PassengerId','Survived'])\n",
    "modXGB.to_csv('Predictions/modXGBPrediction.csv', index=False) # Even worse, was worth a try :)"
   ]
  },
  {
   "cell_type": "code",
   "execution_count": 37,
   "metadata": {
    "ExecuteTime": {
     "end_time": "2021-09-24T10:43:10.552000Z",
     "start_time": "2021-09-24T10:43:05.783019Z"
    }
   },
   "outputs": [
    {
     "name": "stdout",
     "output_type": "stream",
     "text": [
      "0.8316427091833531\n"
     ]
    }
   ],
   "source": [
    "best_xgb_pipe = Pipeline([('Preprocess', Preprocess),\n",
    "                          ('best_xgb', XGBClassifier(random_state=7, use_label_encoder=False, eval_metric='logloss',\n",
    "                                                     n_estimators=190, min_child_weight=3, max_depth=6, learning_rate=0.065,\n",
    "                                                     subsample=0.8, colsample_bytree=0.8, gamma=0, scale_pos_weight=1,\n",
    "                                                     objective='binary:logistic', reg_alpha=0, reg_lambda=0.1))])\n",
    "\n",
    "best_voting_clf = VotingClassifier(estimators = [('lr', best_lr),('knn', best_knn),('rf', best_RF),\n",
    "                                            ('svc', best_SVC),('xgb', best_xgb_pipe)], voting = 'soft')\n",
    "cv = cross_val_score(best_voting_clf,df,y,cv=5, scoring='roc_auc')\n",
    "print(cv.mean())"
   ]
  },
  {
   "cell_type": "code",
   "execution_count": 38,
   "metadata": {
    "ExecuteTime": {
     "end_time": "2021-09-24T10:43:12.862274Z",
     "start_time": "2021-09-24T10:43:11.767925Z"
    }
   },
   "outputs": [],
   "source": [
    "best_voting_clf.fit(df,y)\n",
    "data = np.array([test.index, best_voting_clf.predict(test)]).T\n",
    "tunePred = pd.DataFrame(data = data, columns = ['PassengerId','Survived'])\n",
    "tunePred.to_csv('Predictions/tunedPrediction.csv', index=False)"
   ]
  },
  {
   "cell_type": "markdown",
   "metadata": {},
   "source": [
    "This submission put me in the 2204th place, out of ~50K with a score of 78.468% which is an improvement! :)"
   ]
  }
 ],
 "metadata": {
  "celltoolbar": "Initialization Cell",
  "kernelspec": {
   "display_name": "Python 3 (ipykernel)",
   "language": "python",
   "name": "python3"
  },
  "language_info": {
   "codemirror_mode": {
    "name": "ipython",
    "version": 3
   },
   "file_extension": ".py",
   "mimetype": "text/x-python",
   "name": "python",
   "nbconvert_exporter": "python",
   "pygments_lexer": "ipython3",
   "version": "3.8.10"
  },
  "varInspector": {
   "cols": {
    "lenName": 16,
    "lenType": 16,
    "lenVar": 40
   },
   "kernels_config": {
    "python": {
     "delete_cmd_postfix": "",
     "delete_cmd_prefix": "del ",
     "library": "var_list.py",
     "varRefreshCmd": "print(var_dic_list())"
    },
    "r": {
     "delete_cmd_postfix": ") ",
     "delete_cmd_prefix": "rm(",
     "library": "var_list.r",
     "varRefreshCmd": "cat(var_dic_list()) "
    }
   },
   "position": {
    "height": "144.45px",
    "left": "1167px",
    "right": "20px",
    "top": "120px",
    "width": "350px"
   },
   "types_to_exclude": [
    "module",
    "function",
    "builtin_function_or_method",
    "instance",
    "_Feature"
   ],
   "window_display": false
  }
 },
 "nbformat": 4,
 "nbformat_minor": 4
}
